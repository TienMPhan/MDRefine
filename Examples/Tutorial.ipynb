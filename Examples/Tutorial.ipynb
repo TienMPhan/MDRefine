{
 "cells": [
  {
   "cell_type": "markdown",
   "metadata": {},
   "source": [
    "# Tutorial for Functions.py"
   ]
  },
  {
   "cell_type": "markdown",
   "metadata": {},
   "source": [
    "Minimization of the full loss function ($\\alpha,\\beta,\\gamma$ hyperparameters) through nested minimization.\n",
    "\n",
    "It includes also the optimization of force fields (corresponding to $\\alpha,\\gamma=\\infty$) with data from alchemical $\\Delta G$ calculations.\n",
    "\n",
    "Customized algorithm."
   ]
  },
  {
   "cell_type": "markdown",
   "metadata": {},
   "source": [
    "- see https://pubs.aip.org/aip/jcp/article/158/21/214120/2894410 for refinement with only $\\alpha,\\gamma$ finite and https://pubs.acs.org/doi/full/10.1021/acs.jpclett.3c03423 for refinement with only $\\alpha,\\beta$ finite;\n",
    "\n",
    "- see https://pubs.acs.org/doi/full/10.1021/acscentsci.2c00565 for refinement with alchemical calculations (L2 regularization)."
   ]
  },
  {
   "cell_type": "code",
   "execution_count": 1,
   "metadata": {},
   "outputs": [],
   "source": [
    "import numpy as np\n",
    "import pandas\n",
    "import matplotlib.pyplot as plt"
   ]
  },
  {
   "cell_type": "code",
   "execution_count": 2,
   "metadata": {},
   "outputs": [],
   "source": [
    "import jax.numpy as jnp"
   ]
  },
  {
   "cell_type": "code",
   "execution_count": 3,
   "metadata": {},
   "outputs": [],
   "source": [
    "from IPython.display import clear_output"
   ]
  },
  {
   "cell_type": "markdown",
   "metadata": {},
   "source": [
    "import from parent directory"
   ]
  },
  {
   "cell_type": "code",
   "execution_count": 4,
   "metadata": {},
   "outputs": [],
   "source": [
    "import sys\n",
    "sys.path.append('../')"
   ]
  },
  {
   "cell_type": "code",
   "execution_count": 5,
   "metadata": {},
   "outputs": [],
   "source": [
    "from MDRefine import load_data, minimizer, select_traintest, hyper_minimizer, MDRefinement"
   ]
  },
  {
   "cell_type": "markdown",
   "metadata": {},
   "source": [
    "a simple script to unwrap dictionaries:"
   ]
  },
  {
   "cell_type": "code",
   "execution_count": 6,
   "metadata": {},
   "outputs": [],
   "source": [
    "def unwrap_dict(d):\n",
    "\n",
    "    res = []\n",
    "    \n",
    "    if isinstance(d, dict):\n",
    "        for val in d.values():\n",
    "            res.extend(unwrap_dict(val))\n",
    "    else:\n",
    "        if isinstance(d, list): res = d\n",
    "        else: res = [d]\n",
    "\n",
    "    return np.hstack(res)"
   ]
  },
  {
   "cell_type": "markdown",
   "metadata": {},
   "source": [
    "## 1. Ensemble refinement"
   ]
  },
  {
   "cell_type": "markdown",
   "metadata": {},
   "source": [
    "### a. Load data\n",
    "Define **infos** dictionary, which specifies required information in order to get data from input files through **load_data**.\n",
    "\n",
    "see also load_data.ipynb"
   ]
  },
  {
   "cell_type": "markdown",
   "metadata": {},
   "source": [
    "#### Load observables (no force-field terms and no forward quantities)"
   ]
  },
  {
   "cell_type": "code",
   "execution_count": 10,
   "metadata": {},
   "outputs": [],
   "source": [
    "infos = {}\n",
    "\n",
    "# Firstly, define global properties, valid for all the systems:\n",
    "\n",
    "infos['global'] = {}\n",
    "\n",
    "# 'name of the folder with data'\n",
    "infos['global']['path_directory'] = 'DATA'\n",
    "\n",
    "# system names\n",
    "system_names = ['AAAA','CAAU']\n",
    "infos['global']['system_names'] = system_names\n",
    "\n",
    "# Then, define properties which are specific of each system, like experimental data and observables\n",
    "\n",
    "for name in system_names:\n",
    "    infos[name] = {}\n",
    "    \n",
    "    # experimental observables (average and uncertainty), corresponding to 'file_name'.npy in DATA/system_name/g_exp/\n",
    "    # uNOEs values are upper bounds, so specify '<' with ('uNOEs','<')\n",
    "    infos[name]['g_exp'] = ['NOEs']#, ('uNOEs','<')]\n",
    "    \n",
    "    # observables from MD simulations, corresponding to 'file_name'.npy in DATA/system_name/observables/\n",
    "    # they must correspond also to items of infos[name]['g_exp']\n",
    "    infos[name]['obs'] = ['NOEs']#, 'uNOEs']\n",
    "\n",
    "# If some properties are the same for all the systems, you can store them just once in infos['global']\n",
    "\n",
    "infos['global']['temperature'] = 1 # namely, energies are in unit of k_B T (default value)\n",
    "# (in this case, you could do this also for 'g_exp' and 'obs')\n",
    "\n",
    "# Select the stride for the frames (thinner strides will require more time for minimizations; default value = 1)\n",
    "stride = 1000"
   ]
  },
  {
   "cell_type": "code",
   "execution_count": 11,
   "metadata": {},
   "outputs": [
    {
     "name": "stdout",
     "output_type": "stream",
     "text": [
      "loading data from directory...\n",
      "loading  AAAA\n"
     ]
    },
    {
     "ename": "IndexError",
     "evalue": "list index out of range",
     "output_type": "error",
     "traceback": [
      "\u001b[0;31m---------------------------------------------------------------------------\u001b[0m",
      "\u001b[0;31mIndexError\u001b[0m                                Traceback (most recent call last)",
      "\u001b[0;32m<ipython-input-11-710e51647d45>\u001b[0m in \u001b[0;36m<module>\u001b[0;34m\u001b[0m\n\u001b[0;32m----> 1\u001b[0;31m \u001b[0mdata\u001b[0m \u001b[0;34m=\u001b[0m \u001b[0mload_data\u001b[0m\u001b[0;34m(\u001b[0m\u001b[0minfos\u001b[0m\u001b[0;34m,\u001b[0m \u001b[0mstride\u001b[0m \u001b[0;34m=\u001b[0m \u001b[0mstride\u001b[0m\u001b[0;34m)\u001b[0m\u001b[0;34m\u001b[0m\u001b[0;34m\u001b[0m\u001b[0m\n\u001b[0m",
      "\u001b[0;32m~/3_alphabetagamma/MDRefine/MDRefine/Functions.py\u001b[0m in \u001b[0;36mload_data\u001b[0;34m(infos, stride)\u001b[0m\n\u001b[1;32m    343\u001b[0m         \u001b[0;32melse\u001b[0m\u001b[0;34m:\u001b[0m\u001b[0;34m\u001b[0m\u001b[0;34m\u001b[0m\u001b[0m\n\u001b[1;32m    344\u001b[0m             \u001b[0minfo\u001b[0m \u001b[0;34m=\u001b[0m \u001b[0minfos\u001b[0m\u001b[0;34m[\u001b[0m\u001b[0;34m'global'\u001b[0m\u001b[0;34m]\u001b[0m\u001b[0;34m\u001b[0m\u001b[0;34m\u001b[0m\u001b[0m\n\u001b[0;32m--> 345\u001b[0;31m         \u001b[0mdata\u001b[0m\u001b[0;34m[\u001b[0m\u001b[0mname_sys\u001b[0m\u001b[0;34m]\u001b[0m \u001b[0;34m=\u001b[0m \u001b[0mdata_class\u001b[0m\u001b[0;34m(\u001b[0m\u001b[0minfo\u001b[0m\u001b[0;34m,\u001b[0m \u001b[0mpath_directory\u001b[0m\u001b[0;34m,\u001b[0m \u001b[0mname_sys\u001b[0m\u001b[0;34m)\u001b[0m\u001b[0;34m\u001b[0m\u001b[0;34m\u001b[0m\u001b[0m\n\u001b[0m\u001b[1;32m    346\u001b[0m \u001b[0;34m\u001b[0m\u001b[0m\n\u001b[1;32m    347\u001b[0m     \u001b[0;31m# quantities from alchemical calculations\u001b[0m\u001b[0;34m\u001b[0m\u001b[0;34m\u001b[0m\u001b[0;34m\u001b[0m\u001b[0m\n",
      "\u001b[0;32m~/3_alphabetagamma/MDRefine/MDRefine/Functions.py\u001b[0m in \u001b[0;36m__init__\u001b[0;34m(self, info, path_directory, name_sys)\u001b[0m\n\u001b[1;32m    294\u001b[0m         \u001b[0;32melse\u001b[0m\u001b[0;34m:\u001b[0m\u001b[0;34m\u001b[0m\u001b[0;34m\u001b[0m\u001b[0m\n\u001b[1;32m    295\u001b[0m             \u001b[0;32mif\u001b[0m \u001b[0;34m(\u001b[0m\u001b[0;34m'obs'\u001b[0m \u001b[0;32min\u001b[0m \u001b[0minfo\u001b[0m\u001b[0;34m.\u001b[0m\u001b[0mkeys\u001b[0m\u001b[0;34m(\u001b[0m\u001b[0;34m)\u001b[0m\u001b[0;34m)\u001b[0m \u001b[0;32mand\u001b[0m \u001b[0;32mnot\u001b[0m \u001b[0;34m(\u001b[0m\u001b[0minfo\u001b[0m\u001b[0;34m[\u001b[0m\u001b[0;34m'obs'\u001b[0m\u001b[0;34m]\u001b[0m \u001b[0;32mis\u001b[0m \u001b[0;32mNone\u001b[0m\u001b[0;34m)\u001b[0m\u001b[0;34m:\u001b[0m\u001b[0;34m\u001b[0m\u001b[0;34m\u001b[0m\u001b[0m\n\u001b[0;32m--> 296\u001b[0;31m                 \u001b[0mname\u001b[0m \u001b[0;34m=\u001b[0m \u001b[0mlist\u001b[0m\u001b[0;34m(\u001b[0m\u001b[0mself\u001b[0m\u001b[0;34m.\u001b[0m\u001b[0mg\u001b[0m\u001b[0;34m.\u001b[0m\u001b[0mkeys\u001b[0m\u001b[0;34m(\u001b[0m\u001b[0;34m)\u001b[0m\u001b[0;34m)\u001b[0m\u001b[0;34m[\u001b[0m\u001b[0;36m0\u001b[0m\u001b[0;34m]\u001b[0m\u001b[0;34m\u001b[0m\u001b[0;34m\u001b[0m\u001b[0m\n\u001b[0m\u001b[1;32m    297\u001b[0m                 \u001b[0mself\u001b[0m\u001b[0;34m.\u001b[0m\u001b[0mweights\u001b[0m \u001b[0;34m=\u001b[0m \u001b[0mnp\u001b[0m\u001b[0;34m.\u001b[0m\u001b[0mones\u001b[0m\u001b[0;34m(\u001b[0m\u001b[0mlen\u001b[0m\u001b[0;34m(\u001b[0m\u001b[0mself\u001b[0m\u001b[0;34m.\u001b[0m\u001b[0mg\u001b[0m\u001b[0;34m[\u001b[0m\u001b[0mname\u001b[0m\u001b[0;34m]\u001b[0m\u001b[0;34m)\u001b[0m\u001b[0;34m)\u001b[0m\u001b[0;34m\u001b[0m\u001b[0;34m\u001b[0m\u001b[0m\n\u001b[1;32m    298\u001b[0m             \u001b[0;32melif\u001b[0m \u001b[0;34m(\u001b[0m\u001b[0;34m'forward_qs'\u001b[0m \u001b[0;32min\u001b[0m \u001b[0minfo\u001b[0m\u001b[0;34m.\u001b[0m\u001b[0mkeys\u001b[0m\u001b[0;34m(\u001b[0m\u001b[0;34m)\u001b[0m\u001b[0;34m)\u001b[0m \u001b[0;32mand\u001b[0m \u001b[0;32mnot\u001b[0m \u001b[0;34m(\u001b[0m\u001b[0minfo\u001b[0m\u001b[0;34m[\u001b[0m\u001b[0;34m'forward_qs'\u001b[0m\u001b[0;34m]\u001b[0m \u001b[0;32mis\u001b[0m \u001b[0;32mNone\u001b[0m\u001b[0;34m)\u001b[0m\u001b[0;34m:\u001b[0m\u001b[0;34m\u001b[0m\u001b[0;34m\u001b[0m\u001b[0m\n",
      "\u001b[0;31mIndexError\u001b[0m: list index out of range"
     ]
    }
   ],
   "source": [
    "data = load_data(infos, stride = stride)"
   ]
  },
  {
   "cell_type": "markdown",
   "metadata": {},
   "source": [
    "#### Include also quantities computed through a **forward model**."
   ]
  },
  {
   "cell_type": "markdown",
   "metadata": {},
   "source": [
    "Besides previously defined **infos**:"
   ]
  },
  {
   "cell_type": "code",
   "execution_count": 24,
   "metadata": {},
   "outputs": [],
   "source": [
    "for name in system_names:\n",
    "    # include experimental values also for 3J scalar couplings\n",
    "    infos[name]['g_exp'] = ['backbone1_gamma_3J', 'backbone2_beta_epsilon_3J', 'sugar_3J', 'NOEs']#, ('uNOEs','<')]\n",
    "\n",
    "    # include quantities required to compute observables through the forward model\n",
    "    # they must correspond to 'file_name'.npy in DATA/system_name/forward_qs/\n",
    "    infos[name]['forward_qs'] = ['backbone1_gamma','backbone2_beta_epsilon','sugar']\n",
    "\n",
    "# starting values of the forward model coefficients: specify the file name inside DATA/\n",
    "infos['global']['forward_coeffs'] = 'original_fm_coeffs' # string"
   ]
  },
  {
   "cell_type": "markdown",
   "metadata": {},
   "source": [
    "Now, define the **forward_model**.\n",
    "\n",
    "In our case-study, the forward model is given by the **Karplus equations**:\n",
    "\n",
    "$^3 J_\\gamma = A_\\gamma \\, cos^2\\gamma \\, - \\, B_\\gamma \\, cos\\gamma \\, + \\, C_\\gamma$\n",
    "\n",
    "with empirical coefficients $A_\\gamma,\\,B_\\gamma,\\,C_\\gamma$ ($\\gamma$ dihedral angles), and analogously for $^3 J_{\\beta/\\epsilon}$ (same coefficients both for $\\beta$ and $\\epsilon$ dihedral angles) and $^3J_\\nu$ (sugar dihedral angles)."
   ]
  },
  {
   "cell_type": "markdown",
   "metadata": {},
   "source": [
    "**WARNING**: keys of **forward_qs_out** must correspond to associated g_exp, as specified in infos"
   ]
  },
  {
   "cell_type": "code",
   "execution_count": 25,
   "metadata": {},
   "outputs": [],
   "source": [
    "def forward_model_fun(fm_coeffs, forward_qs, selected_obs = None):\n",
    "\n",
    "    # 1. compute the cosine (which is the quantity you need in the forward model;\n",
    "    # you could do this just once before loading data)\n",
    "    forward_qs_cos = {}\n",
    "\n",
    "    for type_name in forward_qs.keys():\n",
    "        forward_qs_cos[type_name] = np.cos(forward_qs[type_name])\n",
    "\n",
    "    # if you have selected_obs, compute only the corresponding observables\n",
    "    if selected_obs is not None:\n",
    "        for type_name in forward_qs.keys():\n",
    "            forward_qs_cos[type_name] = forward_qs_cos[type_name][:,selected_obs[type_name+'_3J']]\n",
    "\n",
    "    # 2. compute observables (forward_qs_out) through forward model\n",
    "    forward_qs_out = {\n",
    "        'backbone1_gamma_3J': fm_coeffs[0]*forward_qs_cos['backbone1_gamma']**2-fm_coeffs[1]*forward_qs_cos['backbone1_gamma']+fm_coeffs[2],\n",
    "        'backbone2_beta_epsilon_3J': fm_coeffs[3]*forward_qs_cos['backbone2_beta_epsilon']**2-fm_coeffs[4]*forward_qs_cos['backbone2_beta_epsilon']+fm_coeffs[5],\n",
    "        'sugar_3J': fm_coeffs[6]*forward_qs_cos['sugar']**2-fm_coeffs[7]*forward_qs_cos['sugar']+fm_coeffs[8] }\n",
    "\n",
    "    return forward_qs_out"
   ]
  },
  {
   "cell_type": "markdown",
   "metadata": {},
   "source": [
    "same forward-model function for each system, so put it in infos['global']"
   ]
  },
  {
   "cell_type": "code",
   "execution_count": 26,
   "metadata": {},
   "outputs": [],
   "source": [
    "infos['global']['forward_model'] = forward_model_fun"
   ]
  },
  {
   "cell_type": "code",
   "execution_count": 27,
   "metadata": {},
   "outputs": [
    {
     "name": "stdout",
     "output_type": "stream",
     "text": [
      "loading data from directory...\n",
      "loading  AAAA\n",
      "loading  CAAU\n",
      "done\n"
     ]
    }
   ],
   "source": [
    "data = load_data(infos, stride = stride)"
   ]
  },
  {
   "cell_type": "markdown",
   "metadata": {},
   "source": [
    "### b. Minimize the loss function and analyse the results\n",
    "for a single choice of the hyper-parameter $\\alpha$"
   ]
  },
  {
   "cell_type": "code",
   "execution_count": 28,
   "metadata": {},
   "outputs": [],
   "source": [
    "# use function minimizer with selected data and alpha as input\n",
    "Result = minimizer(data, alpha = 1)"
   ]
  },
  {
   "cell_type": "markdown",
   "metadata": {},
   "source": [
    "Let's look at the values contained in the class **Result**"
   ]
  },
  {
   "cell_type": "code",
   "execution_count": 13,
   "metadata": {},
   "outputs": [
    {
     "name": "stdout",
     "output_type": "stream",
     "text": [
      "dict_keys(['loss', 'min_lambdas', 'minis', 'time', 'D_KL_alpha', 'abs_difference', 'av_g', 'chi2', 'logZ_new', 'weights_new'])\n"
     ]
    }
   ],
   "source": [
    "print(vars(Result).keys())"
   ]
  },
  {
   "cell_type": "markdown",
   "metadata": {},
   "source": [
    "**Comments on the minimization.**\n",
    "\n",
    "As shown in *Andrea Cesari et al., JCTC 2016*, the optimal ensemble $P$ which minimizes the loss function\n",
    "\n",
    "$\\mathcal{L}[P] = \\frac{1}{2}\\chi^2[P]+\\alpha D_{KL}[P|P_0]$\n",
    "\n",
    "is $P_{\\vec\\lambda^*}(x) = \\frac{1}{Z_{\\vec\\lambda^*}} P_0(x) e^{-\\vec\\lambda^*\\cdot\\vec g(x)}$ where $\\vec\\lambda^*$ is the point of minimum of the following function\n",
    "\n",
    "$\\Gamma(\\vec\\lambda) = \\frac{1}{2}\\alpha\\sum_j\\sigma_j^2\\lambda_j^2+\\log Z_{\\vec\\lambda}+\\vec\\lambda\\cdot\\vec{g}_{exp},$\n",
    "\n",
    "which fulfils $\\mathcal L(P_{\\vec\\lambda^*}) = -\\alpha\\Gamma(\\vec\\lambda^*)$ and\n",
    "\n",
    "$\\lambda_i^* = \\frac{\\langle g_i \\rangle_{P_*}-g_{i,exp}}{\\alpha\\sigma_{i,exp}^2}$.\n",
    "\n",
    "The Python function **minimizer** exploits this relationship by minimizing $\\Gamma$ (for each system), and then evaluating in detail $\\mathcal{L}[P_\\lambda]$ at the optimal point found for $\\Gamma$ (in order to get $\\chi^2$ and $D_{KL}$). To check the success of the minimization of $\\Gamma$, you can read the truth value *success of inner minimization* (output message of scipy.optimize.minimize, in **Result.minis[name_sys].success**). The quality of this result is determined by comparing $-\\alpha\\Gamma(\\vec\\lambda^*)$ with $\\mathcal L(P_{\\vec\\lambda^*})$, which we know to be equal at the point of minimum; this is reported in **Result.abs_difference**."
   ]
  },
  {
   "cell_type": "code",
   "execution_count": 19,
   "metadata": {},
   "outputs": [
    {
     "name": "stdout",
     "output_type": "stream",
     "text": [
      "True Optimization terminated successfully.\n",
      "True Optimization terminated successfully.\n",
      "\n",
      "absolute differences:\n",
      " {'AAAA': DeviceArray(0.00567539, dtype=float64), 'CAAU': DeviceArray(0.00401629, dtype=float64)}\n"
     ]
    }
   ],
   "source": [
    "for name_sys in data['global'].system_names:\n",
    "    print(Result.minis[name_sys].success, Result.minis[name_sys].message)\n",
    "\n",
    "print('\\nabsolute differences:\\n', Result.abs_difference)"
   ]
  },
  {
   "cell_type": "markdown",
   "metadata": {},
   "source": [
    "- first of all, the min. value of the loss function **loss**"
   ]
  },
  {
   "cell_type": "code",
   "execution_count": 20,
   "metadata": {},
   "outputs": [
    {
     "name": "stdout",
     "output_type": "stream",
     "text": [
      "optimal loss:  157.40786286559697\n",
      "time required:  22.592878818511963\n"
     ]
    }
   ],
   "source": [
    "print('optimal loss: ', Result.loss)\n",
    "print('time required: ', Result.time)"
   ]
  },
  {
   "cell_type": "markdown",
   "metadata": {},
   "source": [
    "- then, the optimal ensembles $P^*$ **weights_new** (completely defined by the starting ensembles and by the **min_lambdas** coefficients), together with their (log) normalization factor **logZ_new**. Let's plot them.\n",
    "\n",
    "Their statistical robustness is evaluated by the Kullback-Leibler divergence from the initial ensembles **D_KL_alpha** as $e^{-D_{KL}[P^*|P_0]}$ (geometric average of the ratio $P^*(x)/P_0(x)$, averaged over $P^*(x)$). Notice the arithmetic average is the effective n. of frames (compared to the total n.), defined as the inverse of the Kish size\n",
    "$\\frac{n_{eff}}{N} = \\frac{1}{N\\sum_t w_t^2}$)."
   ]
  },
  {
   "cell_type": "code",
   "execution_count": 21,
   "metadata": {},
   "outputs": [
    {
     "data": {
      "text/plain": [
       "{'AAAA': DeviceArray(3.82488963, dtype=float64),\n",
       " 'CAAU': DeviceArray(4.19595699, dtype=float64)}"
      ]
     },
     "execution_count": 21,
     "metadata": {},
     "output_type": "execute_result"
    }
   ],
   "source": [
    "Result.D_KL_alpha"
   ]
  },
  {
   "cell_type": "code",
   "execution_count": 22,
   "metadata": {},
   "outputs": [
    {
     "name": "stdout",
     "output_type": "stream",
     "text": [
      "system AAAA:\n",
      "effective n. of frames (on the total n.):  0.02182084373353677\n",
      "logZ:  -268.01362443341077\n",
      "system CAAU:\n",
      "effective n. of frames (on the total n.):  0.01505632676196905\n",
      "logZ:  -222.45035438867598\n"
     ]
    },
    {
     "data": {
      "image/png": "[encoded data removed]",
      "text/plain": [
       "<Figure size 864x288 with 2 Axes>"
      ]
     },
     "metadata": {
      "needs_background": "light"
     },
     "output_type": "display_data"
    },
    {
     "data": {
      "image/png": "[encoded data removed]",
      "text/plain": [
       "<Figure size 864x288 with 2 Axes>"
      ]
     },
     "metadata": {
      "needs_background": "light"
     },
     "output_type": "display_data"
    }
   ],
   "source": [
    "for s in system_names:\n",
    "\n",
    "    plt.figure(figsize = (12,4))\n",
    "\n",
    "    plt.subplot(1,2,1)\n",
    "\n",
    "    l = 0\n",
    "    for i2,s2 in enumerate(Result.min_lambdas[s].keys()):\n",
    "        l_new = l+len(Result.min_lambdas[s][s2])\n",
    "        plt.plot(np.arange(l,l_new),Result.min_lambdas[s][s2],'.',label='%s %s' % (s,s2))\n",
    "        l = l_new\n",
    "\n",
    "    plt.title('$\\lambda$ values (non-normalized)')\n",
    "    plt.legend()# loc='center left', bbox_to_anchor=(1, 0.5))\n",
    "    plt.grid()\n",
    "    plt.yscale('symlog')\n",
    "\n",
    "    plt.subplot(1,2,2)\n",
    "    \n",
    "    plt.plot(Result.weights_new[s],'.')\n",
    "    plt.title('reweighted %s' % s)\n",
    "    plt.grid()\n",
    "    \n",
    "    n_eff = np.exp(-Result.D_KL_alpha[s])\n",
    "\n",
    "    print('system %s:' % s)\n",
    "    print('effective n. of frames (on the total n.): ', n_eff)\n",
    "    print('logZ: ', Result.logZ_new[s])\n"
   ]
  },
  {
   "cell_type": "markdown",
   "metadata": {},
   "source": [
    "- finally, let's look at the average values of the observables in the new ensembles **av_g** and associated **chi2**; compare with experimental values data.gexp and with average values of the original ensembles."
   ]
  },
  {
   "cell_type": "code",
   "execution_count": 23,
   "metadata": {},
   "outputs": [
    {
     "name": "stdout",
     "output_type": "stream",
     "text": [
      "chi2:  17.464389378171056\n",
      "observables (first names in list):\n",
      " [[\"A1-H1'\" 'A1-H8']\n",
      " [\"A1-H1'\" 'A2-H8']\n",
      " ['A1-H2' \"A2-H1'\"]\n",
      " [\"A1-1H2'\" 'A1-H8']\n",
      " [\"A1-1H2'\" \"A2-H1'\"]]\n"
     ]
    },
    {
     "data": {
      "image/png": "[encoded data removed]",
      "text/plain": [
       "<Figure size 576x432 with 1 Axes>"
      ]
     },
     "metadata": {
      "needs_background": "light"
     },
     "output_type": "display_data"
    }
   ],
   "source": [
    "s1 = 'AAAA'\n",
    "s2 = 'NOEs'\n",
    "\n",
    "print('chi2: ',Result.chi2[s1][s2])\n",
    "print('observables (first names in list):\\n',data[s1].names[s2][:5])\n",
    "\n",
    "plt.figure(figsize=(8,6))\n",
    "\n",
    "# compute average values with original ensemble\n",
    "g_mean = np.matmul(data[s1].weights, data[s1].g[s2])\n",
    "\n",
    "plt.plot(g_mean,'.',label='original av.s',markersize=10)\n",
    "\n",
    "plt.plot(data[s1].gexp[s2][:,0],'s',label='experimental values')\n",
    "plt.errorbar(np.arange(len(data[s1].gexp[s2][:,0])), data[s1].gexp[s2][:,0], data[s1].gexp[s2][:,1], fmt = ' ',\n",
    "    color = 'tab:orange', capsize = 5, lw = 2)\n",
    "\n",
    "plt.plot(Result.av_g[s1][s2], 'D', label = 'reweighted av.s')\n",
    "\n",
    "plt.legend()\n",
    "plt.grid()"
   ]
  },
  {
   "cell_type": "markdown",
   "metadata": {},
   "source": [
    "### c. Determine optimal hyper parameter $\\alpha$ through cross validation (scan over $\\alpha$)"
   ]
  },
  {
   "cell_type": "markdown",
   "metadata": {},
   "source": [
    "The loss function for Ensemble Refinement, previously introduced, has one hyper-parameter $\\alpha$ which needs to be fixed. This hyper-parameter tunes the reliability given to the original ensemble in spite of the trust to experimental data.\n",
    "\n",
    "Suitable values of $\\alpha$ can be determined through cross validation procedure: randomly split the full data set into training and test set, then select the value of $\\alpha$ which minimizes the $\\chi^2$ on the test set (either same observables as in training but new frames or new observables).\n",
    "\n",
    "Let's perform just one splitting into training/test set (as an example) and scan over different values of $\\alpha$ (in logarithmic scale)."
   ]
  },
  {
   "cell_type": "markdown",
   "metadata": {},
   "source": [
    "The function **select_traintest** can be used to get **data_train** and **data_test** by simply passing a **random_state** (a random integer), which randomly selects **test_obs** and **test_frames**."
   ]
  },
  {
   "cell_type": "code",
   "execution_count": 8,
   "metadata": {},
   "outputs": [
    {
     "name": "stdout",
     "output_type": "stream",
     "text": [
      "Input random_state employed both for test_obs and test_frames\n"
     ]
    }
   ],
   "source": [
    "data_train, data_test, test_obs, test_frames = select_traintest(data, random_state = 1)"
   ]
  },
  {
   "cell_type": "code",
   "execution_count": 25,
   "metadata": {},
   "outputs": [
    {
     "name": "stdout",
     "output_type": "stream",
     "text": [
      "test observables:\n",
      " {'AAAA': {'backbone2_beta_epsilon_3J': DeviceArray([0, 3, 4, 6], dtype=int64), 'sugar_3J': DeviceArray([2, 8], dtype=int64), 'NOEs': DeviceArray([ 5, 10, 11, 23, 29, 30, 35], dtype=int64), 'backbone1_gamma_3J': DeviceArray([], dtype=int64)}, 'CAAU': {'backbone1_gamma_3J': DeviceArray([3], dtype=int64), 'backbone2_beta_epsilon_3J': DeviceArray([3], dtype=int64), 'sugar_3J': DeviceArray([7, 8], dtype=int64), 'NOEs': DeviceArray([ 1,  2,  5, 15, 16, 25, 28, 30, 33], dtype=int64)}}\n",
      "test frames:\n",
      " {'AAAA': DeviceArray([   5,    6,   16,   22,   23,   24,   28,   31,   35,   40,\n",
      "               49,   53,   55,   61,   63,   71,   75,   79,  100,  101,\n",
      "              104,  105,  106,  113,  118,  134,  140,  143,  144,  162,\n",
      "              173,  176,  178,  193,  203,  204,  205,  207,  213,  224,\n",
      "              225,  234,  238,  240,  254,  255,  256,  261,  263,  266,\n",
      "              276,  281,  289,  309,  311,  314,  320,  325,  328,  330,\n",
      "              339,  342,  349,  367,  368,  372,  373,  379,  380,  383,\n",
      "              384,  385,  389,  396,  401,  406,  409,  417,  423,  427,\n",
      "              428,  439,  440,  443,  445,  450,  451,  452,  455,  457,\n",
      "              461,  463,  469,  470,  473,  497,  501,  511,  512,  526,\n",
      "              533,  535,  541,  548,  554,  557,  559,  568,  574,  577,\n",
      "              606,  607,  611,  614,  616,  620,  625,  627,  629,  632,\n",
      "              636,  638,  639,  642,  644,  646,  651,  657,  663,  664,\n",
      "              665,  675,  678,  683,  685,  688,  690,  696,  701,  716,\n",
      "              722,  724,  735,  739,  741,  749,  751,  753,  759,  761,\n",
      "              765,  766,  769,  775,  777,  779,  782,  787,  788,  793,\n",
      "              800,  802,  803,  812,  815,  816,  817,  827,  830,  838,\n",
      "              845,  847,  854,  856,  858,  859,  861,  862,  869,  871,\n",
      "              876,  881,  890,  891,  894,  909,  917,  919,  922,  923,\n",
      "              931,  935,  943,  950,  957,  958,  960,  964,  969,  971,\n",
      "              974,  977, 1016], dtype=int64), 'CAAU': DeviceArray([  11,   12,   18,   19,   23,   25,   28,   29,   30,   31,\n",
      "               32,   39,   47,   57,   61,   64,   65,   72,   74,   77,\n",
      "               82,   86,   87,   88,  103,  108,  111,  114,  122,  124,\n",
      "              125,  128,  130,  133,  135,  141,  145,  149,  150,  155,\n",
      "              158,  160,  164,  165,  181,  189,  198,  204,  205,  227,\n",
      "              231,  234,  235,  237,  240,  241,  255,  257,  277,  280,\n",
      "              285,  292,  298,  300,  316,  317,  320,  331,  333,  346,\n",
      "              350,  351,  364,  367,  380,  384,  386,  388,  389,  396,\n",
      "              401,  411,  418,  426,  431,  434,  438,  440,  441,  443,\n",
      "              444,  447,  448,  450,  451,  462,  468,  478,  483,  487,\n",
      "              488,  491,  494,  501,  507,  518,  531,  538,  545,  551,\n",
      "              559,  564,  566,  568,  569,  583,  584,  585,  593,  595,\n",
      "              598,  604,  606,  609,  620,  624,  636,  637,  638,  639,\n",
      "              645,  646,  653,  654,  661,  663,  677,  680,  682,  692,\n",
      "              695,  699,  705,  725,  731,  738,  746,  750,  764,  766,\n",
      "              769,  771,  783,  791,  801,  810,  815,  822,  827,  828,\n",
      "              829,  835,  849,  851,  861,  864,  873,  882,  889,  891,\n",
      "              892,  893,  898,  899,  905,  917,  919,  923,  925,  926,\n",
      "              928,  929,  936,  937,  940,  943,  944,  950,  952,  953,\n",
      "              954,  958,  963,  965,  966,  980,  985,  987,  990,  992,\n",
      "             1000], dtype=int64)}\n"
     ]
    }
   ],
   "source": [
    "print('test observables:\\n', test_obs)\n",
    "print('test frames:\\n', test_frames)"
   ]
  },
  {
   "cell_type": "markdown",
   "metadata": {},
   "source": [
    "Default values for the fraction of test observables and frames are $20\\%$ for both (you can change this ratio by selecting **test_frames_size** and/or **test_obs_size** as input variables). By default, test observables are evaluated only on test frames; you can also consider both on training and test frames, by setting **if_all_frames** = True."
   ]
  },
  {
   "cell_type": "code",
   "execution_count": 25,
   "metadata": {},
   "outputs": [
    {
     "name": "stdout",
     "output_type": "stream",
     "text": [
      "Input random_state employed both for test_obs and test_frames\n"
     ]
    },
    {
     "data": {
      "text/plain": [
       "({'global': <Functions.load_data.<locals>.data_global_class at 0x7f3a654e9f28>,\n",
       "  'AAAA': Functions.select_traintest.<locals>.class_train,\n",
       "  'CAAU': Functions.select_traintest.<locals>.class_train},\n",
       " {'global': <Functions.load_data.<locals>.data_global_class at 0x7f3a654e9f28>,\n",
       "  'AAAA': Functions.select_traintest.<locals>.class_test,\n",
       "  'CAAU': Functions.select_traintest.<locals>.class_test},\n",
       " {'AAAA': {'backbone1_gamma_3J': DeviceArray([1, 2, 3, 5], dtype=int64),\n",
       "   'backbone2_beta_epsilon_3J': DeviceArray([1], dtype=int64),\n",
       "   'sugar_3J': DeviceArray([0, 2, 3, 7], dtype=int64),\n",
       "   'NOEs': DeviceArray([ 2,  3,  5, 22, 25, 26, 27, 29, 30, 32], dtype=int64)},\n",
       "  'CAAU': {'backbone1_gamma_3J': DeviceArray([0, 2, 3], dtype=int64),\n",
       "   'backbone2_beta_epsilon_3J': DeviceArray([0, 2, 3, 4], dtype=int64),\n",
       "   'sugar_3J': DeviceArray([0, 2, 3, 8], dtype=int64),\n",
       "   'NOEs': DeviceArray([ 8, 11, 14, 23, 28, 30, 35, 36, 38], dtype=int64)}},\n",
       " {'AAAA': DeviceArray([   4,   23,   31,   36,   38,   43,   47,   50,   62,   65,\n",
       "                 66,   69,   71,   75,   77,   86,   89,   90,   94,  101,\n",
       "                102,  112,  114,  116,  117,  122,  134,  135,  142,  144,\n",
       "                146,  151,  154,  156,  161,  171,  175,  178,  182,  193,\n",
       "                195,  200,  223,  228,  233,  236,  255,  259,  271,  280,\n",
       "                282,  290,  303,  305,  310,  312,  316,  323,  324,  327,\n",
       "                328,  330,  334,  349,  361,  362,  372,  373,  379,  382,\n",
       "                391,  395,  399,  401,  414,  418,  424,  427,  430,  431,\n",
       "                432,  434,  436,  442,  449,  453,  457,  467,  470,  481,\n",
       "                483,  486,  488,  490,  495,  500,  501,  504,  505,  511,\n",
       "                513,  518,  519,  536,  539,  544,  561,  562,  565,  570,\n",
       "                572,  575,  579,  589,  592,  595,  597,  598,  601,  603,\n",
       "                610,  620,  625,  628,  630,  639,  663,  664,  670,  677,\n",
       "                679,  686,  692,  698,  719,  720,  724,  725,  731,  741,\n",
       "                753,  754,  756,  757,  763,  767,  769,  770,  778,  782,\n",
       "                785,  788,  789,  790,  796,  800,  805,  806,  808,  813,\n",
       "                821,  823,  826,  828,  830,  833,  834,  841,  849,  863,\n",
       "                865,  870,  874,  875,  881,  885,  895,  896,  903,  904,\n",
       "                906,  913,  914,  927,  928,  934,  937,  940,  941,  946,\n",
       "                948,  949,  953,  959,  960,  967,  987,  992,  993,  999,\n",
       "               1005, 1009, 1010], dtype=int64),\n",
       "  'CAAU': DeviceArray([   2,   10,   11,   30,   33,   37,   46,   47,   49,   50,\n",
       "                 51,   54,   57,   71,   72,   76,   86,   88,   90,  101,\n",
       "                104,  115,  124,  126,  132,  143,  147,  151,  167,  169,\n",
       "                176,  180,  183,  185,  189,  194,  195,  198,  208,  210,\n",
       "                213,  216,  217,  219,  220,  221,  223,  224,  229,  235,\n",
       "                237,  240,  244,  250,  266,  267,  278,  280,  282,  288,\n",
       "                290,  292,  298,  302,  308,  310,  312,  315,  324,  329,\n",
       "                346,  347,  369,  374,  378,  387,  388,  391,  395,  396,\n",
       "                400,  403,  408,  411,  423,  426,  430,  431,  435,  447,\n",
       "                450,  454,  458,  480,  491,  495,  497,  500,  519,  524,\n",
       "                534,  537,  544,  551,  557,  568,  571,  574,  578,  584,\n",
       "                592,  597,  599,  608,  612,  616,  623,  625,  637,  641,\n",
       "                646,  650,  651,  655,  657,  663,  667,  668,  671,  678,\n",
       "                680,  688,  692,  695,  698,  710,  712,  715,  721,  722,\n",
       "                724,  725,  726,  735,  743,  747,  748,  755,  762,  774,\n",
       "                777,  796,  797,  799,  800,  805,  808,  813,  817,  822,\n",
       "                831,  834,  839,  844,  846,  849,  850,  855,  862,  866,\n",
       "                869,  870,  872,  877,  879,  883,  891,  892,  900,  904,\n",
       "                917,  919,  926,  928,  931,  934,  935,  937,  939,  941,\n",
       "                942,  944,  947,  956,  958,  962,  963,  971,  977,  995,\n",
       "               1002], dtype=int64)})"
      ]
     },
     "execution_count": 25,
     "metadata": {},
     "output_type": "execute_result"
    }
   ],
   "source": [
    "data_train, data_test, test_obs, test_frames = select_traintest(data, test_frames_size = 0.2, test_obs_size = 0.3,\n",
    "    random_state = 4, if_all_frames = True)"
   ]
  },
  {
   "cell_type": "markdown",
   "metadata": {},
   "source": [
    "Alternatively, we can also directly pass test_obs and test_frames."
   ]
  },
  {
   "cell_type": "code",
   "execution_count": 44,
   "metadata": {},
   "outputs": [],
   "source": [
    "out = select_traintest(data, test_obs = test_obs, test_frames = test_frames)\n",
    "\n",
    "data_train = out[0]\n",
    "data_test = out[1]"
   ]
  },
  {
   "cell_type": "markdown",
   "metadata": {},
   "source": [
    "Now, let's scan over different values of $\\alpha$ for a given partition of the full data set into training and test set. Let's work directly with logarithms in base 10, to explore several orders of magnitude for $\\alpha$.\n",
    "\n",
    "We can also pass data_test as input to minimizer: after the minimization of the loss function on data_train, we evaluate corresponding properties (such as $D_{KL}$, $\\chi^2$, loss function) on test frames and $\\chi^2$ on test observables."
   ]
  },
  {
   "cell_type": "code",
   "execution_count": 9,
   "metadata": {},
   "outputs": [],
   "source": [
    "log10_alphas = np.arange(-2, 7, 1)\n",
    "\n",
    "Results = {}\n",
    "\n",
    "for log10_alpha in log10_alphas:\n",
    "    print(log10_alpha)\n",
    "\n",
    "    alpha = 10**np.float64(log10_alpha)\n",
    "    Results[log10_alpha] = minimizer(data_train, alpha = alpha, data_test = data_test)\n",
    "\n",
    "    clear_output()"
   ]
  },
  {
   "cell_type": "code",
   "execution_count": 10,
   "metadata": {},
   "outputs": [
    {
     "data": {
      "text/plain": [
       "dict_keys(['loss', 'min_lambdas', 'minis', 'time', 'D_KL_alpha', 'abs_difference', 'av_g', 'chi2', 'logZ_new', 'weights_new', 'loss_test', 'D_KL_alpha_test', 'abs_difference_test', 'av_g_test', 'chi2_test', 'logZ_new_test', 'weights_new_test', 'avg_new_obs', 'chi2_new_obs'])"
      ]
     },
     "execution_count": 10,
     "metadata": {},
     "output_type": "execute_result"
    }
   ],
   "source": [
    "vars(Results[log10_alpha]).keys()"
   ]
  },
  {
   "cell_type": "markdown",
   "metadata": {},
   "source": [
    "For each value of the hyper-parameter, we now have corresponding quantities for test frames (such as **loss_test**, **D_KL_alpha_test**, **av_g_test**, **chi2_test**, **weights_new_test**) and for test observables (**avg_new_obs** and **chi2_new_obs**)."
   ]
  },
  {
   "cell_type": "markdown",
   "metadata": {},
   "source": [
    "Let's compare the loss function for training set and test set (new frames):\n",
    "- at high values of $\\alpha$, the two values almost overlap;\n",
    "- decreasing $\\alpha$, both the two loss functions decrease, except that the one on the test at a certain point starts to increase marking overfitting."
   ]
  },
  {
   "cell_type": "code",
   "execution_count": 11,
   "metadata": {},
   "outputs": [
    {
     "data": {
      "image/png": "[encoded data removed]",
      "text/plain": [
       "<Figure size 432x288 with 1 Axes>"
      ]
     },
     "metadata": {
      "needs_background": "light"
     },
     "output_type": "display_data"
    }
   ],
   "source": [
    "loss = [Results[log10_alpha].loss for log10_alpha in log10_alphas]\n",
    "loss_test = [Results[log10_alpha].loss_test for log10_alpha in log10_alphas]\n",
    "\n",
    "plt.title('loss function')\n",
    "plt.plot(log10_alphas, loss, '.--', label = 'training')\n",
    "plt.plot(log10_alphas, loss_test, '.--', label = 'test')\n",
    "plt.xlabel(r'$\\log_{10}\\alpha$')\n",
    "plt.legend()\n",
    "plt.grid()"
   ]
  },
  {
   "cell_type": "code",
   "execution_count": 12,
   "metadata": {},
   "outputs": [
    {
     "data": {
      "image/png": "[encoded data removed]",
      "text/plain": [
       "<Figure size 432x288 with 1 Axes>"
      ]
     },
     "metadata": {
      "needs_background": "light"
     },
     "output_type": "display_data"
    }
   ],
   "source": [
    "D_KL_train = [np.sum(unwrap_dict(Results[log10_alpha].D_KL_alpha)) for log10_alpha in log10_alphas]\n",
    "D_KL_test = [np.sum(unwrap_dict(Results[log10_alpha].D_KL_alpha_test)) for log10_alpha in log10_alphas]\n",
    "\n",
    "plt.title('$D_{KL}$')\n",
    "plt.plot(D_KL_train, '.--', label = 'training')\n",
    "plt.plot(D_KL_test, '.--', label = 'test')\n",
    "plt.xlabel(r'$\\log_{10}\\alpha$')\n",
    "plt.legend()\n",
    "plt.grid()"
   ]
  },
  {
   "cell_type": "markdown",
   "metadata": {},
   "source": [
    "Now, the $\\chi^2$, including also test observables"
   ]
  },
  {
   "cell_type": "code",
   "execution_count": 13,
   "metadata": {},
   "outputs": [],
   "source": [
    "chi2s = [np.sum(unwrap_dict(Results[log10_alpha].chi2)) for log10_alpha in log10_alphas]\n",
    "n_obs_train = data_train['global'].tot_n_experiments(data_train)\n",
    "\n",
    "red_chi2s = np.array(chi2s)/n_obs_train\n",
    "\n",
    "chi2s_test1 = [np.sum(unwrap_dict(Results[log10_alpha].chi2_test)) for log10_alpha in log10_alphas] # .chi2_test\n",
    "red_chi2s_test1 = np.array(chi2s_test1)/n_obs_train\n",
    "\n",
    "chi2s_test2 = [np.sum(unwrap_dict(Results[log10_alpha].chi2_new_obs)) for log10_alpha in log10_alphas] # .chi2_test\n",
    "n_obs_test = len(unwrap_dict(test_obs))\n",
    "\n",
    "red_chi2s_test2 = np.array(chi2s_test2)/n_obs_test"
   ]
  },
  {
   "cell_type": "code",
   "execution_count": 14,
   "metadata": {},
   "outputs": [
    {
     "data": {
      "image/png": "[encoded data removed]",
      "text/plain": [
       "<Figure size 432x288 with 1 Axes>"
      ]
     },
     "metadata": {
      "needs_background": "light"
     },
     "output_type": "display_data"
    }
   ],
   "source": [
    "plt.plot(log10_alphas, red_chi2s, '.--', label = 'training')\n",
    "plt.plot(log10_alphas, red_chi2s_test1, '.--', label = 'test frames')\n",
    "plt.plot(log10_alphas, red_chi2s_test2, '.--', label = 'test observables')\n",
    "\n",
    "plt.legend()\n",
    "plt.title('$\\chi^2$')\n",
    "plt.xlabel(r'$\\log_{10}\\alpha$')\n",
    "plt.grid()"
   ]
  },
  {
   "cell_type": "markdown",
   "metadata": {},
   "source": [
    "### d. Determine optimal hyper parameter $\\alpha$ through cross validation (automatic optimization)"
   ]
  },
  {
   "cell_type": "markdown",
   "metadata": {},
   "source": [
    "Rather than performing a scan over the hyper-parameter $\\alpha$, we now minimize the $\\chi^2$ on the test set (computed at optimal parameters obtained in training) with respect to $\\alpha$."
   ]
  },
  {
   "cell_type": "code",
   "execution_count": 9,
   "metadata": {},
   "outputs": [],
   "source": [
    "starting_alpha = 1e2"
   ]
  },
  {
   "cell_type": "markdown",
   "metadata": {},
   "source": [
    "by default, which_set = 'validation' (rather than 'test' or 'training'), namely evaluate $\\chi^2$ on same observables as training but new frames of the trajectory"
   ]
  },
  {
   "cell_type": "code",
   "execution_count": 10,
   "metadata": {},
   "outputs": [
    {
     "name": "stdout",
     "output_type": "stream",
     "text": [
      "Input random_state employed both for test_obs and test_frames\n",
      "Input random_state employed both for test_obs and test_frames\n",
      "log10 hyperpars:  [DeviceArray(2., dtype=float64)] ['alpha']\n",
      "tot chi2:  179.99748935099893\n",
      "tot gradient:  [164.58212585]\n",
      "log10 hyperpars:  [2.] ['alpha']\n",
      "tot chi2:  179.99748935099893\n",
      "tot gradient:  [164.58212585]\n",
      "log10 hyperpars:  [0.99] ['alpha']\n",
      "tot chi2:  425.00547800983844\n",
      "tot gradient:  [-1826.18114941]\n",
      "log10 hyperpars:  [1.6329151] ['alpha']\n",
      "tot chi2:  126.70090220074779\n",
      "tot gradient:  [103.53961778]\n",
      "log10 hyperpars:  [1.01026981] ['alpha']\n",
      "tot chi2:  390.70284260061294\n",
      "tot gradient:  [-1677.36149732]\n",
      "log10 hyperpars:  [1.50044572] ['alpha']\n",
      "tot chi2:  117.71717904095316\n",
      "tot gradient:  [21.76320493]\n",
      "log10 hyperpars:  [1.46519156] ['alpha']\n",
      "tot chi2:  117.56919878055263\n",
      "tot gradient:  [-12.86928899]\n",
      "log10 hyperpars:  [1.47829186] ['alpha']\n",
      "tot chi2:  117.4288039078597\n",
      "tot gradient:  [1.38731611]\n",
      "log10 hyperpars:  [1.47701706] ['alpha']\n",
      "tot chi2:  117.45250335217828\n",
      "tot gradient:  [-0.28903419]\n",
      "log10 hyperpars:  [1.4782765] ['alpha']\n",
      "tot chi2:  117.42846317524896\n",
      "tot gradient:  [1.37390444]\n",
      "log10 hyperpars:  [1.47827633] ['alpha']\n",
      "tot chi2:  117.42845942991592\n",
      "tot gradient:  [1.37375855]\n",
      "log10 hyperpars:  [1.47764669] ['alpha']\n",
      "tot chi2:  117.4146600480089\n",
      "tot gradient:  [0.85890873]\n",
      "log10 hyperpars:  [1.47659801] ['alpha']\n",
      "tot chi2:  117.4074816543556\n",
      "tot gradient:  [-0.31450289]\n"
     ]
    }
   ],
   "source": [
    "mini = hyper_minimizer(data, starting_alpha = starting_alpha, random_states = 2, which_set = 'validation', gtol = 0.5)"
   ]
  },
  {
   "cell_type": "code",
   "execution_count": 11,
   "metadata": {},
   "outputs": [
    {
     "data": {
      "text/plain": [
       "      fun: 117.4074816543556\n",
       " hess_inv: array([[0.00122096]])\n",
       "      jac: array([-0.31450289])\n",
       "  message: 'Optimization terminated successfully.'\n",
       "     nfev: 12\n",
       "      nit: 6\n",
       "     njev: 12\n",
       "   status: 0\n",
       "  success: True\n",
       "        x: array([1.47659801])"
      ]
     },
     "execution_count": 11,
     "metadata": {},
     "output_type": "execute_result"
    }
   ],
   "source": [
    "mini"
   ]
  },
  {
   "cell_type": "code",
   "execution_count": 24,
   "metadata": {},
   "outputs": [
    {
     "data": {
      "image/png": "[encoded data removed]",
      "text/plain": [
       "<Figure size 432x288 with 1 Axes>"
      ]
     },
     "metadata": {
      "needs_background": "light"
     },
     "output_type": "display_data"
    }
   ],
   "source": [
    "x = mini['intermediate'].log10_hyperpars\n",
    "y = mini['intermediate'].av_chi2\n",
    "\n",
    "plt.plot(x,y,'.--')\n",
    "plt.xlabel(r'$\\log_{10}\\alpha$')\n",
    "plt.ylabel('$\\chi^2$')\n",
    "plt.grid()"
   ]
  },
  {
   "cell_type": "code",
   "execution_count": 18,
   "metadata": {},
   "outputs": [],
   "source": [
    "optimal_alpha = 10**(mini.x)"
   ]
  },
  {
   "cell_type": "markdown",
   "metadata": {},
   "source": [
    "The optimal hyper-parameter is $\\alpha \\simeq 10^{1.09}$. We can now minimize the loss function on the whole data set in order to get more statistically robust results. Provided the estimation of the optimal hyper-parameters is robust enough, we can load the full data set without stride (it will take more time)."
   ]
  },
  {
   "cell_type": "code",
   "execution_count": 19,
   "metadata": {},
   "outputs": [
    {
     "name": "stdout",
     "output_type": "stream",
     "text": [
      "loading data from directory...\n",
      "loading  AAAA\n",
      "loading  CAAU\n",
      "done\n"
     ]
    }
   ],
   "source": [
    "data = load_data(infos)"
   ]
  },
  {
   "cell_type": "code",
   "execution_count": 20,
   "metadata": {},
   "outputs": [],
   "source": [
    "Result = minimizer(data, alpha = optimal_alpha)"
   ]
  },
  {
   "cell_type": "code",
   "execution_count": 21,
   "metadata": {},
   "outputs": [
    {
     "data": {
      "text/plain": [
       "{'loss': DeviceArray([40.16542256], dtype=float64),\n",
       " 'min_lambdas': {'AAAA': {'NOEs': DeviceArray([ 150.73992103,  -67.29285849,  105.62119535,  118.96876618,\n",
       "                 -74.04540148, -102.87904109,   37.76755821,  -23.09866382,\n",
       "                  10.40497866,  -30.11556459,   47.2407546 ,   97.55062434,\n",
       "                1033.66361603,  -76.13445458, -119.69251423,  182.8412221 ,\n",
       "                 -41.69269727,  349.17365518,  -39.84692591,   15.85069759,\n",
       "                  91.86738887,   23.85272636,  -97.62859541,  614.99665463,\n",
       "                 154.34680669,  303.89155513,  402.68529294,  191.27067489,\n",
       "                  -1.15469979,  -20.86065066,  -19.20484019, -155.03477145,\n",
       "                 169.41074214,   62.59969065,  106.82633384,  347.63227384],            dtype=float64)},\n",
       "  'CAAU': {'NOEs': DeviceArray([ 116.99604616,   28.40984552,   54.57910406, -160.33853852,\n",
       "                   7.83028943,   63.83780474,  502.50050988,  -83.25424726,\n",
       "                 -11.50902254, -123.38260704,  135.89938945,    2.12502521,\n",
       "                 595.11278806,  419.63838571,   43.21470051,  -99.94908489,\n",
       "                -185.66864586,   14.28015308,   44.53595355,   29.13265554,\n",
       "                 -19.60196942,  675.61805078,  168.1945468 ,  -81.70109531,\n",
       "                 -15.01124509, -193.18181435, -114.6581109 ,  -39.24461509,\n",
       "                 -25.90665384,   -6.54059906,  -14.92124284,  -90.26485774,\n",
       "                 -16.43570085,  100.58325451, -159.15313706,    6.0811717 ,\n",
       "                 -63.53260822,  -59.03742151,   30.93131767], dtype=float64)}},\n",
       " 'minis': {'AAAA':       fun: -0.7540170200156602\n",
       "   hess_inv: array([[ 9.65977371e-01,  3.41969151e-03,  1.15405570e-02, ...,\n",
       "           4.91140967e-03,  3.99700499e-03,  3.19063022e-02],\n",
       "         [ 3.41969151e-03,  2.39299615e-01, -2.71638128e-02, ...,\n",
       "           1.46149220e-02,  1.11411649e-03,  1.59682152e-02],\n",
       "         [ 1.15405570e-02, -2.71638128e-02,  1.02543300e+00, ...,\n",
       "           9.21195591e-03, -3.08241246e-03,  1.36736729e-02],\n",
       "         ...,\n",
       "         [ 4.91140967e-03,  1.46149220e-02,  9.21195591e-03, ...,\n",
       "           1.02149860e+00,  8.84178381e-03,  5.88241274e-02],\n",
       "         [ 3.99700499e-03,  1.11411649e-03, -3.08241246e-03, ...,\n",
       "           8.84178381e-03,  6.34131504e-02,  1.35745843e-02],\n",
       "         [ 3.19063022e-02,  1.59682152e-02,  1.36736729e-02, ...,\n",
       "           5.88241274e-02,  1.35745843e-02,  1.27940286e+00]])\n",
       "        jac: array([-2.09407588e-04,  6.80579830e-05,  3.61852141e-05, -8.27944185e-07,\n",
       "          2.70374008e-05,  6.36518951e-06,  3.69958470e-05,  2.02661377e-04,\n",
       "          1.99784004e-04, -3.56322165e-04,  4.17092967e-04, -2.06739859e-05,\n",
       "         -6.23802708e-06,  1.85189667e-04,  7.72879994e-05, -1.67252512e-04,\n",
       "         -1.13493420e-04,  4.55458450e-07, -1.02660865e-06,  1.39301039e-04,\n",
       "         -1.31709359e-04, -4.81741813e-05,  1.58799683e-04, -1.35743258e-04,\n",
       "          4.90332692e-04, -5.96095865e-06, -1.37010823e-04, -6.87931230e-05,\n",
       "         -1.63306348e-04,  1.99075774e-04, -6.58534625e-04, -3.08307057e-04,\n",
       "          1.53592624e-04,  5.37378449e-06, -1.39565693e-04,  1.32414455e-04])\n",
       "    message: 'Optimization terminated successfully.'\n",
       "       nfev: 30\n",
       "        nit: 22\n",
       "       njev: 30\n",
       "     status: 0\n",
       "    success: True\n",
       "          x: array([ 0.37480251, -0.01632443,  0.1399376 ,  0.28324255, -0.01953471,\n",
       "         -0.01779841,  0.07583434, -0.01131472,  0.03733577, -0.03353595,\n",
       "          0.14172525,  0.31206576,  0.74417456, -0.05412359, -0.01187546,\n",
       "          0.23433167, -0.00936471,  0.44731308, -0.02975736,  0.04147364,\n",
       "          0.51215563,  0.09357097, -0.03639546,  0.07810606,  0.09198742,\n",
       "          0.51492978,  0.0950051 ,  0.0820656 , -0.00281248, -0.05748418,\n",
       "         -0.03445151, -0.04597214,  0.25400019,  0.25577508,  0.01219846,\n",
       "          0.63701082]),\n",
       "  'CAAU':       fun: -0.5864444489433396\n",
       "   hess_inv: array([[ 1.00874475e+00, -1.22650608e-03, -1.65081611e-02, ...,\n",
       "          -1.18697487e-03, -4.48193794e-03, -1.10630904e-02],\n",
       "         [-1.22650608e-03,  8.95341553e-01, -1.04479853e-02, ...,\n",
       "          -2.07719057e-03, -1.38801254e-03, -9.22369394e-05],\n",
       "         [-1.65081611e-02, -1.04479853e-02,  9.12281598e-01, ...,\n",
       "          -6.65986720e-03, -3.92370559e-03, -8.08627247e-02],\n",
       "         ...,\n",
       "         [-1.18697487e-03, -2.07719057e-03, -6.65986720e-03, ...,\n",
       "           8.50545795e-01, -1.25239477e-01,  1.05909098e-02],\n",
       "         [-4.48193794e-03, -1.38801254e-03, -3.92370559e-03, ...,\n",
       "          -1.25239477e-01,  1.13237463e-01,  6.22684840e-03],\n",
       "         [-1.10630904e-02, -9.22369394e-05, -8.08627247e-02, ...,\n",
       "           1.05909098e-02,  6.22684840e-03,  8.68133079e-01]])\n",
       "        jac: array([-1.76646694e-06,  1.22259346e-04, -5.33832749e-05,  3.55339012e-05,\n",
       "          8.67848221e-05,  4.62211734e-06, -6.65755358e-05,  4.36767053e-05,\n",
       "          1.29217658e-04, -2.53155204e-05,  1.11163801e-05,  2.62382161e-04,\n",
       "         -3.85985327e-05, -1.77159481e-05, -8.11789476e-05,  6.96114069e-05,\n",
       "          1.25616178e-04,  5.58352555e-05, -1.07683550e-05,  1.73472811e-05,\n",
       "         -3.18667357e-04, -8.66797506e-05,  4.10261232e-06, -6.32763028e-05,\n",
       "         -1.27881116e-04,  7.65683527e-05, -1.64742057e-05,  1.36230391e-05,\n",
       "          5.74449064e-07,  3.47328333e-05, -1.07969375e-04,  4.03399982e-05,\n",
       "         -2.13514710e-04, -4.09909498e-05,  3.01231451e-04, -1.09743387e-04,\n",
       "          1.87418409e-05, -2.33520725e-05, -4.25511279e-06])\n",
       "    message: 'Optimization terminated successfully.'\n",
       "       nfev: 37\n",
       "        nit: 26\n",
       "       njev: 37\n",
       "     status: 0\n",
       "    success: True\n",
       "          x: array([ 2.12115247e-01,  3.63329057e-03,  1.28810481e-01, -1.80979096e-02,\n",
       "          1.56450180e-02,  2.22159093e-01,  8.17761376e-02, -2.44642958e-02,\n",
       "         -2.16759745e-03, -1.09436233e-02,  1.34500693e-01,  3.52428736e-04,\n",
       "          9.44240898e-02,  1.02790375e+00,  1.02794062e-01, -2.28861919e-02,\n",
       "         -4.50764278e-02,  7.90871714e-02,  1.53860544e-01,  2.07053666e-01,\n",
       "         -2.73498030e-03,  6.51927696e-02,  2.13254236e-01, -2.26594280e-02,\n",
       "         -2.45124319e-02, -2.35721698e-02, -1.31984080e-02, -4.09962704e-02,\n",
       "         -4.72763613e-02, -2.00290518e-02, -3.55548132e-02, -3.06153692e-02,\n",
       "         -2.51825262e-02,  1.41719674e-02, -3.01285642e-02,  4.75222228e-03,\n",
       "         -1.93682604e-02, -8.00862369e-03,  3.30661229e-02])},\n",
       " 'time': 13.7270987033844,\n",
       " 'D_KL_alpha': {'AAAA': DeviceArray(0.28522985, dtype=float64),\n",
       "  'CAAU': DeviceArray(0.22425453, dtype=float64)},\n",
       " 'abs_difference': {'AAAA': DeviceArray([1.35729886e-05], dtype=float64),\n",
       "  'CAAU': DeviceArray([1.40357514e-06], dtype=float64)},\n",
       " 'av_g': {'AAAA': {'NOEs': DeviceArray([1.71474660e-03, 7.16026178e-05, 4.20058080e-04,\n",
       "                6.73475780e-04, 1.02420700e-04, 8.73437143e-05,\n",
       "                8.00928980e-04, 1.29939079e-04, 1.62549093e-03,\n",
       "                5.86928947e-04, 2.42849266e-03, 1.04432026e-03,\n",
       "                1.53173110e-04, 1.99174382e-04, 9.75269914e-05,\n",
       "                6.12622669e-04, 8.42520342e-05, 4.00250958e-04,\n",
       "                5.18221320e-04, 2.31210122e-03, 2.27286253e-03,\n",
       "                2.05932848e-03, 1.73829162e-04, 1.15183276e-04,\n",
       "                2.94096608e-04, 5.85277158e-04, 5.15274563e-05,\n",
       "                1.10622006e-04, 2.04546035e-03, 7.28693390e-04,\n",
       "                8.34644247e-04, 1.95037152e-04, 1.94587205e-04,\n",
       "                1.98525555e-03, 1.14680282e-04, 6.21460840e-04],            dtype=float64)},\n",
       "  'CAAU': {'NOEs': DeviceArray([6.69927171e-04, 3.78729125e-05, 1.11475742e-03,\n",
       "                8.29049402e-05, 1.00700250e-03, 1.99739609e-03,\n",
       "                1.57515094e-04, 6.29420413e-05, 9.03881112e-05,\n",
       "                9.04368556e-05, 5.55233834e-04, 7.25611077e-05,\n",
       "                1.10963833e-04, 7.52112599e-04, 1.04396371e-03,\n",
       "                1.70111425e-04, 1.77428404e-04, 3.20466283e-03,\n",
       "                1.80827322e-03, 3.85364788e-03, 1.31259446e-04,\n",
       "                9.55364530e-05, 5.94567106e-04, 1.00584384e-04,\n",
       "                7.86114959e-04, 5.13221092e-05, 5.93833128e-05,\n",
       "                4.87634794e-04, 1.11783168e-03, 2.29535666e-03,\n",
       "                1.22575728e-03, 1.83537622e-04, 8.76079863e-04,\n",
       "                1.33783613e-04, 5.77159747e-05, 2.91058312e-04,\n",
       "                1.28357145e-04, 6.23324149e-05, 5.15058036e-04],            dtype=float64)}},\n",
       " 'chi2': {'AAAA': {'NOEs': DeviceArray(28.09338913, dtype=float64)},\n",
       "  'CAAU': {'NOEs': DeviceArray(21.70523108, dtype=float64)}},\n",
       " 'logZ_new': {'AAAA': DeviceArray(-2.18429709, dtype=float64),\n",
       "  'CAAU': DeviceArray(-1.26236657, dtype=float64)},\n",
       " 'weights_new': {'AAAA': DeviceArray([1.54947721e-06, 1.15003775e-06, 9.24145228e-07, ...,\n",
       "               2.73630288e-06, 2.21980488e-06, 6.72827182e-07],            dtype=float64),\n",
       "  'CAAU': DeviceArray([3.44748291e-07, 8.23605258e-07, 1.83757768e-06, ...,\n",
       "               5.07711387e-07, 7.35881437e-07, 1.28982623e-06],            dtype=float64)}}"
      ]
     },
     "execution_count": 21,
     "metadata": {},
     "output_type": "execute_result"
    }
   ],
   "source": [
    "vars(Result)"
   ]
  },
  {
   "cell_type": "markdown",
   "metadata": {},
   "source": [
    "Look at section b) for analysis of Result."
   ]
  },
  {
   "cell_type": "markdown",
   "metadata": {},
   "source": [
    "### do all together"
   ]
  },
  {
   "cell_type": "code",
   "execution_count": 22,
   "metadata": {},
   "outputs": [
    {
     "name": "stdout",
     "output_type": "stream",
     "text": [
      "loading data from directory...\n",
      "loading  AAAA\n",
      "loading  CAAU\n",
      "done\n",
      "\n",
      "search for optimal hyperparameters ...\n",
      "Input random_state employed both for test_obs and test_frames\n",
      "Input random_state employed both for test_obs and test_frames\n",
      "log10 hyperpars:  [DeviceArray(2., dtype=float64)] ['alpha']\n",
      "tot chi2:  179.99748935099893\n",
      "tot gradient:  [164.58212585]\n",
      "log10 hyperpars:  [2.] ['alpha']\n",
      "tot chi2:  179.99748935099893\n",
      "tot gradient:  [164.58212585]\n",
      "log10 hyperpars:  [0.99] ['alpha']\n",
      "tot chi2:  425.00547800983844\n",
      "tot gradient:  [-1826.18114941]\n",
      "log10 hyperpars:  [1.6329151] ['alpha']\n",
      "tot chi2:  126.70090220074779\n",
      "tot gradient:  [103.53961778]\n",
      "log10 hyperpars:  [1.01026981] ['alpha']\n",
      "tot chi2:  390.70284260061294\n",
      "tot gradient:  [-1677.36149732]\n",
      "log10 hyperpars:  [1.50044572] ['alpha']\n",
      "tot chi2:  117.71717904095316\n",
      "tot gradient:  [21.76320493]\n",
      "log10 hyperpars:  [1.46519156] ['alpha']\n",
      "tot chi2:  117.56919878055263\n",
      "tot gradient:  [-12.86928899]\n",
      "log10 hyperpars:  [1.47829186] ['alpha']\n",
      "tot chi2:  117.4288039078597\n",
      "tot gradient:  [1.38731611]\n",
      "log10 hyperpars:  [1.47701706] ['alpha']\n",
      "tot chi2:  117.45250335217828\n",
      "tot gradient:  [-0.28903419]\n",
      "log10 hyperpars:  [1.4782765] ['alpha']\n",
      "tot chi2:  117.42846317524896\n",
      "tot gradient:  [1.37390444]\n",
      "log10 hyperpars:  [1.47827633] ['alpha']\n",
      "tot chi2:  117.42845942991592\n",
      "tot gradient:  [1.37375855]\n",
      "log10 hyperpars:  [1.47764669] ['alpha']\n",
      "tot chi2:  117.4146600480089\n",
      "tot gradient:  [0.85890873]\n",
      "log10 hyperpars:  [1.47659801] ['alpha']\n",
      "tot chi2:  117.4074816543556\n",
      "tot gradient:  [-0.31450289]\n",
      "\n",
      "optimal hyperparameters: alpha: 29.963876982768817 \n",
      "\n",
      "refinement with optimal hyperparameters on the full data set\n",
      "loading data from directory...\n",
      "loading  AAAA\n",
      "loading  CAAU\n",
      "done\n"
     ]
    }
   ],
   "source": [
    "Result = MDRefinement(infos, stride = stride, starting_alpha = 1e2, random_states = 2, which_set = 'validation', gtol = 0.5)"
   ]
  },
  {
   "cell_type": "code",
   "execution_count": 23,
   "metadata": {},
   "outputs": [
    {
     "data": {
      "text/plain": [
       "{'loss': DeviceArray(40.16542256, dtype=float64),\n",
       " 'min_lambdas': {'AAAA': {'NOEs': DeviceArray([ 150.73992103,  -67.29285849,  105.62119535,  118.96876618,\n",
       "                 -74.04540148, -102.87904109,   37.76755821,  -23.09866382,\n",
       "                  10.40497866,  -30.11556459,   47.2407546 ,   97.55062434,\n",
       "                1033.66361603,  -76.13445458, -119.69251423,  182.8412221 ,\n",
       "                 -41.69269727,  349.17365518,  -39.84692591,   15.85069759,\n",
       "                  91.86738887,   23.85272636,  -97.62859541,  614.99665463,\n",
       "                 154.34680669,  303.89155513,  402.68529294,  191.27067489,\n",
       "                  -1.15469979,  -20.86065066,  -19.20484019, -155.03477145,\n",
       "                 169.41074214,   62.59969065,  106.82633384,  347.63227384],            dtype=float64)},\n",
       "  'CAAU': {'NOEs': DeviceArray([ 116.99604616,   28.40984552,   54.57910406, -160.33853852,\n",
       "                   7.83028943,   63.83780474,  502.50050988,  -83.25424726,\n",
       "                 -11.50902254, -123.38260704,  135.89938945,    2.12502521,\n",
       "                 595.11278806,  419.63838571,   43.21470051,  -99.94908489,\n",
       "                -185.66864586,   14.28015308,   44.53595355,   29.13265554,\n",
       "                 -19.60196942,  675.61805078,  168.1945468 ,  -81.70109531,\n",
       "                 -15.01124509, -193.18181435, -114.6581109 ,  -39.24461509,\n",
       "                 -25.90665384,   -6.54059906,  -14.92124284,  -90.26485774,\n",
       "                 -16.43570085,  100.58325451, -159.15313706,    6.0811717 ,\n",
       "                 -63.53260822,  -59.03742151,   30.93131767], dtype=float64)}},\n",
       " 'minis': {'AAAA':       fun: -0.7540170200156602\n",
       "   hess_inv: array([[ 9.65977371e-01,  3.41969151e-03,  1.15405570e-02, ...,\n",
       "           4.91140967e-03,  3.99700499e-03,  3.19063022e-02],\n",
       "         [ 3.41969151e-03,  2.39299615e-01, -2.71638128e-02, ...,\n",
       "           1.46149220e-02,  1.11411649e-03,  1.59682152e-02],\n",
       "         [ 1.15405570e-02, -2.71638128e-02,  1.02543300e+00, ...,\n",
       "           9.21195591e-03, -3.08241246e-03,  1.36736729e-02],\n",
       "         ...,\n",
       "         [ 4.91140967e-03,  1.46149220e-02,  9.21195591e-03, ...,\n",
       "           1.02149860e+00,  8.84178381e-03,  5.88241274e-02],\n",
       "         [ 3.99700499e-03,  1.11411649e-03, -3.08241246e-03, ...,\n",
       "           8.84178381e-03,  6.34131504e-02,  1.35745843e-02],\n",
       "         [ 3.19063022e-02,  1.59682152e-02,  1.36736729e-02, ...,\n",
       "           5.88241274e-02,  1.35745843e-02,  1.27940286e+00]])\n",
       "        jac: array([-2.09407588e-04,  6.80579830e-05,  3.61852141e-05, -8.27944185e-07,\n",
       "          2.70374008e-05,  6.36518951e-06,  3.69958470e-05,  2.02661377e-04,\n",
       "          1.99784004e-04, -3.56322165e-04,  4.17092967e-04, -2.06739859e-05,\n",
       "         -6.23802708e-06,  1.85189667e-04,  7.72879994e-05, -1.67252512e-04,\n",
       "         -1.13493420e-04,  4.55458450e-07, -1.02660865e-06,  1.39301039e-04,\n",
       "         -1.31709359e-04, -4.81741813e-05,  1.58799683e-04, -1.35743258e-04,\n",
       "          4.90332692e-04, -5.96095865e-06, -1.37010823e-04, -6.87931230e-05,\n",
       "         -1.63306348e-04,  1.99075774e-04, -6.58534625e-04, -3.08307057e-04,\n",
       "          1.53592624e-04,  5.37378449e-06, -1.39565693e-04,  1.32414455e-04])\n",
       "    message: 'Optimization terminated successfully.'\n",
       "       nfev: 30\n",
       "        nit: 22\n",
       "       njev: 30\n",
       "     status: 0\n",
       "    success: True\n",
       "          x: array([ 0.37480251, -0.01632443,  0.1399376 ,  0.28324255, -0.01953471,\n",
       "         -0.01779841,  0.07583434, -0.01131472,  0.03733577, -0.03353595,\n",
       "          0.14172525,  0.31206576,  0.74417456, -0.05412359, -0.01187546,\n",
       "          0.23433167, -0.00936471,  0.44731308, -0.02975736,  0.04147364,\n",
       "          0.51215563,  0.09357097, -0.03639546,  0.07810606,  0.09198742,\n",
       "          0.51492978,  0.0950051 ,  0.0820656 , -0.00281248, -0.05748418,\n",
       "         -0.03445151, -0.04597214,  0.25400019,  0.25577508,  0.01219846,\n",
       "          0.63701082]),\n",
       "  'CAAU':       fun: -0.5864444489433396\n",
       "   hess_inv: array([[ 1.00874475e+00, -1.22650608e-03, -1.65081611e-02, ...,\n",
       "          -1.18697487e-03, -4.48193794e-03, -1.10630904e-02],\n",
       "         [-1.22650608e-03,  8.95341553e-01, -1.04479853e-02, ...,\n",
       "          -2.07719057e-03, -1.38801254e-03, -9.22369394e-05],\n",
       "         [-1.65081611e-02, -1.04479853e-02,  9.12281598e-01, ...,\n",
       "          -6.65986720e-03, -3.92370559e-03, -8.08627247e-02],\n",
       "         ...,\n",
       "         [-1.18697487e-03, -2.07719057e-03, -6.65986720e-03, ...,\n",
       "           8.50545795e-01, -1.25239477e-01,  1.05909098e-02],\n",
       "         [-4.48193794e-03, -1.38801254e-03, -3.92370559e-03, ...,\n",
       "          -1.25239477e-01,  1.13237463e-01,  6.22684840e-03],\n",
       "         [-1.10630904e-02, -9.22369394e-05, -8.08627247e-02, ...,\n",
       "           1.05909098e-02,  6.22684840e-03,  8.68133079e-01]])\n",
       "        jac: array([-1.76646694e-06,  1.22259346e-04, -5.33832749e-05,  3.55339012e-05,\n",
       "          8.67848221e-05,  4.62211734e-06, -6.65755358e-05,  4.36767053e-05,\n",
       "          1.29217658e-04, -2.53155204e-05,  1.11163801e-05,  2.62382161e-04,\n",
       "         -3.85985327e-05, -1.77159481e-05, -8.11789476e-05,  6.96114069e-05,\n",
       "          1.25616178e-04,  5.58352555e-05, -1.07683550e-05,  1.73472811e-05,\n",
       "         -3.18667357e-04, -8.66797506e-05,  4.10261232e-06, -6.32763028e-05,\n",
       "         -1.27881116e-04,  7.65683527e-05, -1.64742057e-05,  1.36230391e-05,\n",
       "          5.74449064e-07,  3.47328333e-05, -1.07969375e-04,  4.03399982e-05,\n",
       "         -2.13514710e-04, -4.09909498e-05,  3.01231451e-04, -1.09743387e-04,\n",
       "          1.87418409e-05, -2.33520725e-05, -4.25511279e-06])\n",
       "    message: 'Optimization terminated successfully.'\n",
       "       nfev: 37\n",
       "        nit: 26\n",
       "       njev: 37\n",
       "     status: 0\n",
       "    success: True\n",
       "          x: array([ 2.12115247e-01,  3.63329057e-03,  1.28810481e-01, -1.80979096e-02,\n",
       "          1.56450180e-02,  2.22159093e-01,  8.17761376e-02, -2.44642958e-02,\n",
       "         -2.16759745e-03, -1.09436233e-02,  1.34500693e-01,  3.52428736e-04,\n",
       "          9.44240898e-02,  1.02790375e+00,  1.02794062e-01, -2.28861919e-02,\n",
       "         -4.50764278e-02,  7.90871714e-02,  1.53860544e-01,  2.07053666e-01,\n",
       "         -2.73498030e-03,  6.51927696e-02,  2.13254236e-01, -2.26594280e-02,\n",
       "         -2.45124319e-02, -2.35721698e-02, -1.31984080e-02, -4.09962704e-02,\n",
       "         -4.72763613e-02, -2.00290518e-02, -3.55548132e-02, -3.06153692e-02,\n",
       "         -2.51825262e-02,  1.41719674e-02, -3.01285642e-02,  4.75222228e-03,\n",
       "         -1.93682604e-02, -8.00862369e-03,  3.30661229e-02])},\n",
       " 'time': 12.676732778549194,\n",
       " 'D_KL_alpha': {'AAAA': DeviceArray(0.28522985, dtype=float64),\n",
       "  'CAAU': DeviceArray(0.22425453, dtype=float64)},\n",
       " 'abs_difference': {'AAAA': DeviceArray(1.35729886e-05, dtype=float64),\n",
       "  'CAAU': DeviceArray(1.40357514e-06, dtype=float64)},\n",
       " 'av_g': {'AAAA': {'NOEs': DeviceArray([1.71474660e-03, 7.16026178e-05, 4.20058080e-04,\n",
       "                6.73475780e-04, 1.02420700e-04, 8.73437143e-05,\n",
       "                8.00928980e-04, 1.29939079e-04, 1.62549093e-03,\n",
       "                5.86928947e-04, 2.42849266e-03, 1.04432026e-03,\n",
       "                1.53173110e-04, 1.99174382e-04, 9.75269914e-05,\n",
       "                6.12622669e-04, 8.42520342e-05, 4.00250958e-04,\n",
       "                5.18221320e-04, 2.31210122e-03, 2.27286253e-03,\n",
       "                2.05932848e-03, 1.73829162e-04, 1.15183276e-04,\n",
       "                2.94096608e-04, 5.85277158e-04, 5.15274563e-05,\n",
       "                1.10622006e-04, 2.04546035e-03, 7.28693390e-04,\n",
       "                8.34644247e-04, 1.95037152e-04, 1.94587205e-04,\n",
       "                1.98525555e-03, 1.14680282e-04, 6.21460840e-04],            dtype=float64)},\n",
       "  'CAAU': {'NOEs': DeviceArray([6.69927171e-04, 3.78729125e-05, 1.11475742e-03,\n",
       "                8.29049402e-05, 1.00700250e-03, 1.99739609e-03,\n",
       "                1.57515094e-04, 6.29420413e-05, 9.03881112e-05,\n",
       "                9.04368556e-05, 5.55233834e-04, 7.25611077e-05,\n",
       "                1.10963833e-04, 7.52112599e-04, 1.04396371e-03,\n",
       "                1.70111425e-04, 1.77428404e-04, 3.20466283e-03,\n",
       "                1.80827322e-03, 3.85364788e-03, 1.31259446e-04,\n",
       "                9.55364530e-05, 5.94567106e-04, 1.00584384e-04,\n",
       "                7.86114959e-04, 5.13221092e-05, 5.93833128e-05,\n",
       "                4.87634794e-04, 1.11783168e-03, 2.29535666e-03,\n",
       "                1.22575728e-03, 1.83537622e-04, 8.76079863e-04,\n",
       "                1.33783613e-04, 5.77159747e-05, 2.91058312e-04,\n",
       "                1.28357145e-04, 6.23324149e-05, 5.15058036e-04],            dtype=float64)}},\n",
       " 'chi2': {'AAAA': {'NOEs': DeviceArray(28.09338913, dtype=float64)},\n",
       "  'CAAU': {'NOEs': DeviceArray(21.70523108, dtype=float64)}},\n",
       " 'logZ_new': {'AAAA': DeviceArray(-2.18429709, dtype=float64),\n",
       "  'CAAU': DeviceArray(-1.26236657, dtype=float64)},\n",
       " 'weights_new': {'AAAA': DeviceArray([1.54947721e-06, 1.15003775e-06, 9.24145228e-07, ...,\n",
       "               2.73630288e-06, 2.21980488e-06, 6.72827182e-07],            dtype=float64),\n",
       "  'CAAU': DeviceArray([3.44748291e-07, 8.23605258e-07, 1.83757768e-06, ...,\n",
       "               5.07711387e-07, 7.35881437e-07, 1.28982623e-06],            dtype=float64)}}"
      ]
     },
     "execution_count": 23,
     "metadata": {},
     "output_type": "execute_result"
    }
   ],
   "source": [
    "vars(Result)"
   ]
  },
  {
   "cell_type": "markdown",
   "metadata": {},
   "source": [
    "## 2. Force-field refinement"
   ]
  },
  {
   "cell_type": "markdown",
   "metadata": {},
   "source": [
    "### a. Load data"
   ]
  },
  {
   "cell_type": "markdown",
   "metadata": {},
   "source": [
    "Load experimental data, observables and forward model as previously done.\n",
    "\n",
    "Load also force-field correction terms and corresponding functional form."
   ]
  },
  {
   "cell_type": "code",
   "execution_count": 15,
   "metadata": {},
   "outputs": [],
   "source": [
    "infos = {}\n",
    "\n",
    "# Define global properties, valid for all the systems:\n",
    "infos['global'] = {}\n",
    "infos['global']['path_directory'] = 'DATA'\n",
    "infos['global']['system_names'] = ['AAAA','CAAU']\n",
    "\n",
    "# Then, define properties which are specific of each system, like experimental data and observables\n",
    "# If some properties are the same for all the systems, you can store them just once in infos['global']\n",
    "infos['global']['g_exp'] = ['backbone1_gamma_3J', 'backbone2_beta_epsilon_3J', 'sugar_3J', 'NOEs']\n",
    "infos['global']['forward_qs'] = ['backbone1_gamma','backbone2_beta_epsilon','sugar']\n",
    "infos['global']['obs'] = ['NOEs']\n",
    "infos['global']['forward_coeffs'] = 'original_fm_coeffs'\n",
    "\n",
    "# Select the stride for the frames\n",
    "stride = 1000"
   ]
  },
  {
   "cell_type": "code",
   "execution_count": 16,
   "metadata": {},
   "outputs": [],
   "source": [
    "def forward_model_fun(fm_coeffs, forward_qs, selected_obs = None):\n",
    "\n",
    "    # 1. compute the cosine (which is the quantity you need in the forward model;\n",
    "    # you could do this just once before loading data)\n",
    "    forward_qs_cos = {}\n",
    "\n",
    "    for type_name in forward_qs.keys():\n",
    "        forward_qs_cos[type_name] = np.cos(forward_qs[type_name])\n",
    "\n",
    "    # if you have selected_obs, compute only the corresponding observables\n",
    "    if selected_obs is not None:\n",
    "        for type_name in forward_qs.keys():\n",
    "            forward_qs_cos[type_name] = forward_qs_cos[type_name][:,selected_obs[type_name+'_3J']]\n",
    "\n",
    "    # 2. compute observables (forward_qs_out) through forward model\n",
    "    forward_qs_out = {\n",
    "        'backbone1_gamma_3J': fm_coeffs[0]*forward_qs_cos['backbone1_gamma']**2-fm_coeffs[1]*forward_qs_cos['backbone1_gamma']+fm_coeffs[2],\n",
    "        'backbone2_beta_epsilon_3J': fm_coeffs[3]*forward_qs_cos['backbone2_beta_epsilon']**2-fm_coeffs[4]*forward_qs_cos['backbone2_beta_epsilon']+fm_coeffs[5],\n",
    "        'sugar_3J': fm_coeffs[6]*forward_qs_cos['sugar']**2-fm_coeffs[7]*forward_qs_cos['sugar']+fm_coeffs[8] }\n",
    "\n",
    "    return forward_qs_out"
   ]
  },
  {
   "cell_type": "markdown",
   "metadata": {},
   "source": [
    "same forward-model function for each system, so put it in infos['global']"
   ]
  },
  {
   "cell_type": "code",
   "execution_count": 17,
   "metadata": {},
   "outputs": [],
   "source": [
    "infos['global']['forward_model'] = forward_model_fun"
   ]
  },
  {
   "cell_type": "markdown",
   "metadata": {},
   "source": [
    "Now, the force-field correction terms: we selected (for each molecule)\n",
    "\\begin{equation}\n",
    "\\beta\\Delta V = \\sum_{i}\\Bigl[\\phi_1\\cos\\alpha_i + \\phi_2\\sin\\alpha_i + \\phi_3 \\cos \\zeta_i + \\phi_4 \\sin\\zeta_i\\Bigr]\n",
    "\\end{equation}\n",
    "where the sum is over residues. Since numpy arrays ff_terms have columns\n",
    "\n",
    "['sinalpha[0]', 'sinalpha[1]', 'sinalpha[2]', 'sinzeta[0]', 'sinzeta[1]', 'sinzeta[2]', 'cosalpha[0]', 'cosalpha[1]', 'cosalpha[2]', 'coszeta[0]', 'coszeta[1]', 'coszeta[2]'],\n",
    "\n",
    "such correction is defined by the following function (use jax.numpy)."
   ]
  },
  {
   "cell_type": "code",
   "execution_count": 18,
   "metadata": {},
   "outputs": [],
   "source": [
    "import jax.numpy as jnp"
   ]
  },
  {
   "cell_type": "code",
   "execution_count": 19,
   "metadata": {},
   "outputs": [],
   "source": [
    "def ff_correction(pars, f):\n",
    "    out = jnp.matmul(pars, (f[:,[0,6,3,9]]+f[:,[1,7,4,10]]+f[:,[2,8,5,11]]).T)\n",
    "    return out"
   ]
  },
  {
   "cell_type": "code",
   "execution_count": 20,
   "metadata": {},
   "outputs": [],
   "source": [
    "infos['global']['ff_correction'] = ff_correction\n",
    "infos['global']['names_ff_pars'] = ['sin alpha', 'cos alpha', 'sin zeta', 'cos zeta']"
   ]
  },
  {
   "cell_type": "code",
   "execution_count": 21,
   "metadata": {},
   "outputs": [
    {
     "name": "stdout",
     "output_type": "stream",
     "text": [
      "loading data from directory...\n",
      "loading  AAAA\n",
      "loading  CAAU\n",
      "done\n"
     ]
    }
   ],
   "source": [
    "data = load_data(infos, stride = stride)"
   ]
  },
  {
   "cell_type": "markdown",
   "metadata": {},
   "source": [
    "Now, define the regularization for the force-field refinement. We can choose among 'plain l2' (acting on the coefficients) or 'KL divergence' (acting directly on the ensemble)."
   ]
  },
  {
   "cell_type": "code",
   "execution_count": 13,
   "metadata": {},
   "outputs": [],
   "source": [
    "regularization = {'force_field_reg': 'KL divergence'}"
   ]
  },
  {
   "cell_type": "markdown",
   "metadata": {},
   "source": [
    "### b. Minimize the loss function and analyse the results\n",
    "for a single choice of the hyper-parameter $\\beta$"
   ]
  },
  {
   "cell_type": "code",
   "execution_count": 14,
   "metadata": {},
   "outputs": [],
   "source": [
    "# use function minimizer with selected data and alpha as input\n",
    "Result = minimizer(data, regularization = regularization, beta = 1)"
   ]
  },
  {
   "cell_type": "code",
   "execution_count": 26,
   "metadata": {},
   "outputs": [
    {
     "data": {
      "text/plain": [
       "dict_keys(['loss', 'pars', 'mini', 'intermediates', 'time', 'reg_ff', 'av_g', 'chi2', 'weights_new', 'logZ_new'])"
      ]
     },
     "execution_count": 26,
     "metadata": {},
     "output_type": "execute_result"
    }
   ],
   "source": [
    "vars(Result).keys()"
   ]
  },
  {
   "cell_type": "markdown",
   "metadata": {},
   "source": [
    "Besides quantities described in the previous section (such as: **av_g**, **chi2**, **weights_new**, **logZ_new**), we now have:\n",
    "- output of minimization **mini**;\n",
    "- optimal force-field correction parameters **pars**;\n",
    "- value of force-field regularization **reg_ff**."
   ]
  },
  {
   "cell_type": "code",
   "execution_count": 19,
   "metadata": {},
   "outputs": [
    {
     "data": {
      "text/plain": [
       "array([ 0.19294133, -0.316137  ,  0.30447543,  0.22680487])"
      ]
     },
     "execution_count": 19,
     "metadata": {},
     "output_type": "execute_result"
    }
   ],
   "source": [
    "Result.pars"
   ]
  },
  {
   "cell_type": "code",
   "execution_count": 28,
   "metadata": {},
   "outputs": [
    {
     "data": {
      "text/plain": [
       "      fun: 285.0834500891217\n",
       " hess_inv: array([[ 5.20491478e-02, -8.89295688e-02, -5.00415048e-02,\n",
       "        -2.23536762e-03],\n",
       "       [-8.89295688e-02,  1.12747644e+00,  1.16060221e-01,\n",
       "        -1.68801647e-02],\n",
       "       [-5.00415048e-02,  1.16060221e-01,  5.61942163e-02,\n",
       "         7.66569900e-04],\n",
       "       [-2.23536762e-03, -1.68801647e-02,  7.66569900e-04,\n",
       "         2.57011281e-02]])\n",
       "      jac: array([-4.58613412e-05, -3.04716135e-06, -7.24710956e-05, -5.68219475e-05])\n",
       "  message: 'Optimization terminated successfully.'\n",
       "     nfev: 36\n",
       "      nit: 26\n",
       "     njev: 36\n",
       "   status: 0\n",
       "  success: True\n",
       "        x: array([ 0.46316927, -3.50501963, -0.31937378,  1.15776919])"
      ]
     },
     "execution_count": 28,
     "metadata": {},
     "output_type": "execute_result"
    }
   ],
   "source": [
    "Result.mini"
   ]
  },
  {
   "cell_type": "code",
   "execution_count": 27,
   "metadata": {},
   "outputs": [
    {
     "data": {
      "text/plain": [
       "{'AAAA': DeviceArray(1.25078007, dtype=float64),\n",
       " 'CAAU': DeviceArray(1.5893921, dtype=float64)}"
      ]
     },
     "execution_count": 27,
     "metadata": {},
     "output_type": "execute_result"
    }
   ],
   "source": [
    "Result.reg_ff"
   ]
  },
  {
   "cell_type": "markdown",
   "metadata": {},
   "source": [
    "### c. Determine optimal hyper parameter $\\beta$ through cross validation (scan over $\\beta$)"
   ]
  },
  {
   "cell_type": "code",
   "execution_count": 16,
   "metadata": {},
   "outputs": [
    {
     "name": "stdout",
     "output_type": "stream",
     "text": [
      "Input random_state employed both for test_obs and test_frames\n"
     ]
    }
   ],
   "source": [
    "data_train, data_test, test_obs, test_frames = select_traintest(data, random_state = 2)"
   ]
  },
  {
   "cell_type": "code",
   "execution_count": 17,
   "metadata": {},
   "outputs": [],
   "source": [
    "log10_betas = np.arange(-2, 7, 0.5)\n",
    "\n",
    "Results = {}\n",
    "\n",
    "for log10_beta in log10_betas:\n",
    "    print(log10_beta)\n",
    "\n",
    "    beta = 10**np.float64(log10_beta)\n",
    "    Results[log10_beta] = minimizer(data_train, regularization = regularization, beta = beta, data_test = data_test)\n",
    "\n",
    "    print(Results[log10_beta].loss)\n",
    "\n",
    "    clear_output()"
   ]
  },
  {
   "cell_type": "code",
   "execution_count": 18,
   "metadata": {},
   "outputs": [
    {
     "data": {
      "image/png": "[encoded data removed]",
      "text/plain": [
       "<Figure size 432x288 with 1 Axes>"
      ]
     },
     "metadata": {
      "needs_background": "light"
     },
     "output_type": "display_data"
    }
   ],
   "source": [
    "loss = [Results[log10_beta].loss for log10_beta in log10_betas]\n",
    "loss_test = [Results[log10_beta].loss_test for log10_beta in log10_betas]\n",
    "\n",
    "plt.title('loss function')\n",
    "plt.plot(log10_betas, loss, '.--', label = 'training')\n",
    "plt.plot(log10_betas, loss_test, '.--', label = 'test')\n",
    "plt.xlabel(r'$\\log_{10}\\beta$')\n",
    "plt.legend()\n",
    "plt.grid()"
   ]
  },
  {
   "cell_type": "code",
   "execution_count": 19,
   "metadata": {},
   "outputs": [],
   "source": [
    "chi2s = [np.sum(unwrap_dict(Results[log10_beta].chi2)) for log10_beta in log10_betas]\n",
    "n_obs_train = data_train['global'].tot_n_experiments(data_train)\n",
    "\n",
    "red_chi2s = np.array(chi2s)/n_obs_train\n",
    "\n",
    "chi2s_test1 = [np.sum(unwrap_dict(Results[log10_beta].chi2_test)) for log10_beta in log10_betas] # .chi2_test\n",
    "red_chi2s_test1 = np.array(chi2s_test1)/n_obs_train\n",
    "\n",
    "chi2s_test2 = [np.sum(unwrap_dict(Results[log10_beta].chi2_new_obs)) for log10_beta in log10_betas] # .chi2_test\n",
    "n_obs_test = len(unwrap_dict(test_obs))\n",
    "\n",
    "red_chi2s_test2 = np.array(chi2s_test2)/n_obs_test"
   ]
  },
  {
   "cell_type": "code",
   "execution_count": 20,
   "metadata": {},
   "outputs": [
    {
     "data": {
      "image/png": "[encoded data removed]",
      "text/plain": [
       "<Figure size 432x288 with 1 Axes>"
      ]
     },
     "metadata": {
      "needs_background": "light"
     },
     "output_type": "display_data"
    }
   ],
   "source": [
    "plt.plot(log10_betas, chi2s, '.--', label = 'training')\n",
    "plt.plot(log10_betas, chi2s_test1, '.--', label = 'test frames')\n",
    "plt.plot(log10_betas, chi2s_test2, '.--', label = 'test observables')\n",
    "\n",
    "plt.legend()\n",
    "plt.title('$\\chi^2$')\n",
    "plt.xlabel(r'$\\log_{10}\\beta$')\n",
    "plt.grid()"
   ]
  },
  {
   "cell_type": "markdown",
   "metadata": {},
   "source": [
    "What's happened at random_seed = 2? With this choice of training/test set, the loss function in training is not (always) increasing with $\\beta$, however the minimization has always success."
   ]
  },
  {
   "cell_type": "code",
   "execution_count": 21,
   "metadata": {},
   "outputs": [
    {
     "name": "stdout",
     "output_type": "stream",
     "text": [
      "[True, True, True, True, True, True, True, True, True, True, True, True, True, True, True, True, True, True]\n"
     ]
    }
   ],
   "source": [
    "print([Results[log10_beta].mini.success for log10_beta in log10_betas])"
   ]
  },
  {
   "cell_type": "markdown",
   "metadata": {},
   "source": [
    "Since the loss function at low values of $\\beta$ is higher than the one at $\\log_{10}\\beta = 0.5$ (and the optimal loss is always increasing with $\\beta$), this means for such $\\beta$ we ended up in another (local) minimum. So, let's use optimal coefficients found at  $\\log_{10}\\beta = 0.5$ as starting point for the minimization (**starting_pars**)."
   ]
  },
  {
   "cell_type": "code",
   "execution_count": 22,
   "metadata": {},
   "outputs": [],
   "source": [
    "starting_pars = Results[0.5].pars"
   ]
  },
  {
   "cell_type": "code",
   "execution_count": 23,
   "metadata": {},
   "outputs": [],
   "source": [
    "log10_betas = np.arange(-2, 7, 0.5)\n",
    "\n",
    "Results = {}\n",
    "\n",
    "for log10_beta in log10_betas:\n",
    "    print(log10_beta)\n",
    "\n",
    "    beta = 10**np.float64(log10_beta)\n",
    "    Results[log10_beta] = minimizer(data_train, regularization = regularization, beta = beta, data_test = data_test, starting_pars = starting_pars)\n",
    "\n",
    "    print(Results[log10_beta].loss)\n",
    "\n",
    "    clear_output()"
   ]
  },
  {
   "cell_type": "code",
   "execution_count": 24,
   "metadata": {},
   "outputs": [
    {
     "data": {
      "image/png": "[encoded data removed]",
      "text/plain": [
       "<Figure size 432x288 with 1 Axes>"
      ]
     },
     "metadata": {
      "needs_background": "light"
     },
     "output_type": "display_data"
    }
   ],
   "source": [
    "loss = [Results[log10_beta].loss for log10_beta in log10_betas]\n",
    "loss_test = [Results[log10_beta].loss_test for log10_beta in log10_betas]\n",
    "\n",
    "plt.title('loss function')\n",
    "plt.plot(log10_betas, loss, '.--', label = 'training')\n",
    "plt.plot(log10_betas, loss_test, '.--', label = 'test')\n",
    "plt.xlabel(r'$\\log_{10}\\beta$')\n",
    "plt.legend()\n",
    "plt.grid()"
   ]
  },
  {
   "cell_type": "code",
   "execution_count": 25,
   "metadata": {},
   "outputs": [
    {
     "data": {
      "image/png": "[encoded data removed]",
      "text/plain": [
       "<Figure size 432x288 with 1 Axes>"
      ]
     },
     "metadata": {
      "needs_background": "light"
     },
     "output_type": "display_data"
    }
   ],
   "source": [
    "D_KL_train = [np.sum(unwrap_dict(Results[log10_beta].reg_ff)) for log10_beta in log10_betas]\n",
    "D_KL_test = [np.sum(unwrap_dict(Results[log10_beta].reg_ff_test)) for log10_beta in log10_betas]\n",
    "\n",
    "plt.title('regularization')\n",
    "plt.plot(D_KL_train, '.--', label = 'training')\n",
    "plt.plot(D_KL_test, '.--', label = 'test')\n",
    "plt.xlabel(r'$\\log_{10}\\beta$')\n",
    "plt.legend()\n",
    "plt.grid()"
   ]
  },
  {
   "cell_type": "code",
   "execution_count": 26,
   "metadata": {},
   "outputs": [],
   "source": [
    "chi2s = [np.sum(unwrap_dict(Results[log10_beta].chi2)) for log10_beta in log10_betas]\n",
    "n_obs_train = data_train['global'].tot_n_experiments(data_train)\n",
    "\n",
    "red_chi2s = np.array(chi2s)/n_obs_train\n",
    "\n",
    "chi2s_test1 = [np.sum(unwrap_dict(Results[log10_beta].chi2_test)) for log10_beta in log10_betas] # .chi2_test\n",
    "red_chi2s_test1 = np.array(chi2s_test1)/n_obs_train\n",
    "\n",
    "chi2s_test2 = [np.sum(unwrap_dict(Results[log10_beta].chi2_new_obs)) for log10_beta in log10_betas] # .chi2_test\n",
    "n_obs_test = len(unwrap_dict(test_obs))\n",
    "\n",
    "red_chi2s_test2 = np.array(chi2s_test2)/n_obs_test"
   ]
  },
  {
   "cell_type": "code",
   "execution_count": 27,
   "metadata": {},
   "outputs": [
    {
     "data": {
      "image/png": "[encoded data removed]",
      "text/plain": [
       "<Figure size 432x288 with 1 Axes>"
      ]
     },
     "metadata": {
      "needs_background": "light"
     },
     "output_type": "display_data"
    },
    {
     "data": {
      "image/png": "[encoded data removed]",
      "text/plain": [
       "<Figure size 432x288 with 1 Axes>"
      ]
     },
     "metadata": {
      "needs_background": "light"
     },
     "output_type": "display_data"
    },
    {
     "data": {
      "image/png": "[encoded data removed]",
      "text/plain": [
       "<Figure size 432x288 with 1 Axes>"
      ]
     },
     "metadata": {
      "needs_background": "light"
     },
     "output_type": "display_data"
    }
   ],
   "source": [
    "plt.plot(log10_betas, chi2s, '.--', label = 'training')\n",
    "plt.plot(log10_betas, chi2s_test1, '.--', label = 'test frames')\n",
    "plt.plot(log10_betas, chi2s_test2, '.--', label = 'test observables')\n",
    "\n",
    "plt.legend()\n",
    "plt.title('$\\chi^2$')\n",
    "plt.xlabel(r'$\\log_{10}\\beta$')\n",
    "plt.grid()\n",
    "\n",
    "plt.figure()\n",
    "plt.plot(log10_betas, chi2s_test1, '.--', label = 'test frames')\n",
    "plt.title('chi2, test frames')\n",
    "plt.grid()\n",
    "\n",
    "plt.figure()\n",
    "plt.plot(log10_betas, chi2s_test2, '.--', label = 'test observables')\n",
    "plt.title('chi2, test observables')\n",
    "plt.grid()"
   ]
  },
  {
   "cell_type": "markdown",
   "metadata": {},
   "source": [
    "### d. Determine optimal hyper parameter $\\beta$ through cross validation (automatic optimization)"
   ]
  },
  {
   "cell_type": "markdown",
   "metadata": {},
   "source": [
    "Let's take the same random_state used for the scan. Here **random_states** can be a list of values or an integer; if it is an integer, you will take values in np.arange(random_states)."
   ]
  },
  {
   "cell_type": "code",
   "execution_count": 28,
   "metadata": {},
   "outputs": [
    {
     "name": "stdout",
     "output_type": "stream",
     "text": [
      "Input random_state employed both for test_obs and test_frames\n",
      "log10 hyperpars:  [DeviceArray(0., dtype=float64)] ['beta']\n",
      "tot chi2:  657.0989509863348\n",
      "tot gradient:  [-152.45869821]\n",
      "log10 hyperpars:  [0.] ['beta']\n",
      "tot chi2:  657.0989509863348\n",
      "tot gradient:  [-152.45869821]\n",
      "log10 hyperpars:  [1.01] ['beta']\n",
      "tot chi2:  468.3693258698372\n",
      "tot gradient:  [-22.5461002]\n",
      "log10 hyperpars:  [1.1852837] ['beta']\n",
      "tot chi2:  467.07360566704546\n",
      "tot gradient:  [-1.34951948]\n",
      "log10 hyperpars:  [1.19644346] ['beta']\n",
      "tot chi2:  467.0602418806326\n",
      "tot gradient:  [-1.0524543]\n",
      "log10 hyperpars:  [1.22209289] ['beta']\n",
      "tot chi2:  467.0413456162542\n",
      "tot gradient:  [-0.42517636]\n"
     ]
    }
   ],
   "source": [
    "starting_beta = 1\n",
    "\n",
    "mini = hyper_minimizer(data, regularization = regularization, starting_beta = starting_beta, random_states = [2], starting_pars = starting_pars)"
   ]
  },
  {
   "cell_type": "code",
   "execution_count": 29,
   "metadata": {},
   "outputs": [
    {
     "data": {
      "text/plain": [
       "      fun: 467.0413456162542\n",
       " hess_inv: array([[0.03756671]])\n",
       "      jac: array([-0.42517636])\n",
       "  message: 'Optimization terminated successfully.'\n",
       "     nfev: 5\n",
       "      nit: 4\n",
       "     njev: 5\n",
       "   status: 0\n",
       "  success: True\n",
       "        x: array([1.22209289])"
      ]
     },
     "execution_count": 29,
     "metadata": {},
     "output_type": "execute_result"
    }
   ],
   "source": [
    "mini"
   ]
  },
  {
   "cell_type": "code",
   "execution_count": 34,
   "metadata": {},
   "outputs": [
    {
     "name": "stdout",
     "output_type": "stream",
     "text": [
      "Input random_state employed both for test_obs and test_frames\n"
     ]
    },
    {
     "name": "stderr",
     "output_type": "stream",
     "text": [
      "/u/i/igilardo/3_alphabetagamma/Functions.py:2178: OptimizeWarning: Unknown solver options: maxfev\n",
      "  hyper_mini = minimize(hyper_function, log10_hyperpars0, args = args, method = 'BFGS', jac = True, options = {'gtol': gtol, 'maxfev': 20})#, 'ftol': 0.1})\n"
     ]
    },
    {
     "name": "stdout",
     "output_type": "stream",
     "text": [
      "log10 hyperpars:  [1.22209289] ['beta']\n",
      "New evaluation:\n",
      "loss:  275.9155436501145\n",
      "gradient:  [ 15.35127511  -9.04572861 -17.39103002  15.82186062] \n",
      "\n",
      "New evaluation:\n",
      "loss:  271.2288368007547\n",
      "gradient:  [ 21.55634479 -15.11850864  34.20302808 -18.6338733 ] \n",
      "\n",
      "New evaluation:\n",
      "loss:  272.357448770612\n",
      "gradient:  [-48.31790364 -15.3158465  -31.55294149 -12.06668938] \n",
      "\n",
      "New evaluation:\n",
      "loss:  268.69454038601975\n",
      "gradient:  [ -3.94195706 -15.14120574   9.81590609 -15.85437518] \n",
      "\n",
      "New evaluation:\n",
      "loss:  263.73416077611796\n",
      "gradient:  [ -4.41017571 -14.61961542   8.9840051  -12.96736957] \n",
      "\n",
      "New evaluation:\n",
      "loss:  248.01464402792865\n",
      "gradient:  [ -3.9952376  -11.95298115   9.40247393   1.81615909] \n",
      "\n",
      "New evaluation:\n",
      "loss:  238.2293291226762\n",
      "gradient:  [-13.22534213  19.0581175  -13.64305686   0.45961333] \n",
      "\n",
      "New evaluation:\n",
      "loss:  235.62816325607469\n",
      "gradient:  [-6.78958971 -7.20917815 -1.98527689 -3.62422861] \n",
      "\n",
      "New evaluation:\n",
      "loss:  275.5164990990347\n",
      "gradient:  [10.03510966 66.90537498 40.36704847 16.23575624] \n",
      "\n",
      "New evaluation:\n",
      "loss:  231.57848327323566\n",
      "gradient:  [-3.79228944 -3.23543197 -0.70305717  1.17248496] \n",
      "\n",
      "New evaluation:\n",
      "loss:  231.51186531156307\n",
      "gradient:  [-3.31488877  5.09029026 -0.92025786  3.37201147] \n",
      "\n",
      "New evaluation:\n",
      "loss:  230.90476510220975\n",
      "gradient:  [-3.50097925 -0.69943963 -1.28723884  1.92922198] \n",
      "\n",
      "New evaluation:\n",
      "loss:  230.64437249156495\n",
      "gradient:  [-0.71625151  0.35901196 -1.48120366  1.4409519 ] \n",
      "\n",
      "New evaluation:\n",
      "loss:  230.61225775865233\n",
      "gradient:  [-0.77945026  0.2407868  -1.80378822  1.01091681] \n",
      "\n",
      "New evaluation:\n",
      "loss:  230.5586421228058\n",
      "gradient:  [-0.64011734  0.17242952 -1.61471502  0.53581619] \n",
      "\n",
      "New evaluation:\n",
      "loss:  230.50471438177266\n",
      "gradient:  [-2.07516164e-02 -2.69349468e-04 -4.12493311e-01 -1.34522428e-01] \n",
      "\n",
      "New evaluation:\n",
      "loss:  230.5020646141909\n",
      "gradient:  [-0.05214169  0.01532196 -0.15978626 -0.06567242] \n",
      "\n",
      "New evaluation:\n",
      "loss:  230.50175546562195\n",
      "gradient:  [ 0.0255513  -0.01447862  0.02172553 -0.00253309] \n",
      "\n",
      "New evaluation:\n",
      "loss:  230.5017470760212\n",
      "gradient:  [-0.0075063   0.00462298 -0.00340428  0.0018552 ] \n",
      "\n",
      "New evaluation:\n",
      "loss:  230.50174597122472\n",
      "gradient:  [-8.41855837e-05 -1.35888371e-05 -1.19977356e-04 -6.15590933e-05] \n",
      "\n",
      "tot chi2:  132.33235028584912\n",
      "tot gradient:  [2.67748395]\n",
      "log10 hyperpars:  [0.21209289] ['beta']\n",
      "New evaluation:\n",
      "loss:  207.41910872349882\n",
      "gradient:  [-1.74097973  1.02590352  1.97232794 -1.79455421] \n",
      "\n",
      "New evaluation:\n",
      "loss:  220.95376964046108\n",
      "gradient:  [ -4.71396623   2.319874   -39.22346871  13.61230104] \n",
      "\n",
      "New evaluation:\n",
      "loss:  207.25365881223652\n",
      "gradient:  [-2.14134138  1.24742952 -1.38109758  0.51542412] \n",
      "\n",
      "New evaluation:\n",
      "loss:  207.32553517246228\n",
      "gradient:  [3.79961353 1.32025423 5.15316032 1.58599437] \n",
      "\n",
      "New evaluation:\n",
      "loss:  207.19195257351996\n",
      "gradient:  [0.55404641 1.29530082 1.39973414 0.9712899 ] \n",
      "\n",
      "New evaluation:\n",
      "loss:  207.08879658826584\n",
      "gradient:  [0.59290433 1.20288915 0.61741245 0.32666511] \n",
      "\n",
      "New evaluation:\n",
      "loss:  206.9000804532328\n",
      "gradient:  [0.51309384 0.99665897 0.66117896 0.4197438 ] \n",
      "\n",
      "New evaluation:\n",
      "loss:  206.59887295458202\n",
      "gradient:  [ 0.34546686  0.58044627  0.30648089 -0.0048218 ] \n",
      "\n",
      "New evaluation:\n",
      "loss:  206.395018949999\n",
      "gradient:  [-0.18136125  0.06315505  0.08594871 -0.47897879] \n",
      "\n",
      "New evaluation:\n",
      "loss:  206.37890045038785\n",
      "gradient:  [-0.0894336   0.00759768 -0.07709225 -0.10788725] \n",
      "\n",
      "New evaluation:\n",
      "loss:  206.37822905004865\n",
      "gradient:  [-0.01017205  0.00028252  0.00490644 -0.00371444] \n",
      "\n",
      "New evaluation:\n",
      "loss:  206.37822601988623\n",
      "gradient:  [ 0.00440378  0.00013768 -0.00317511 -0.00053056] \n",
      "\n",
      "New evaluation:\n",
      "loss:  206.3782254003612\n",
      "gradient:  [-4.71111604e-05 -2.11968700e-05  1.25655376e-04  1.42832272e-04] \n",
      "\n",
      "tot chi2:  153.06937650644988\n",
      "tot gradient:  [-3.93383561]\n",
      "log10 hyperpars:  [1.20018581] ['beta']\n",
      "New evaluation:\n",
      "loss:  272.1811419289527\n",
      "gradient:  [ 14.41941135  -8.49662674 -16.3353465   14.86141984] \n",
      "\n",
      "New evaluation:\n",
      "loss:  268.63555188738985\n",
      "gradient:  [ 21.02126962 -14.48217787  33.88110022 -19.17535245] \n",
      "\n",
      "New evaluation:\n",
      "loss:  267.5978363188764\n",
      "gradient:  [-29.38953015 -14.53170386 -13.75865521 -14.13930996] \n",
      "\n",
      "New evaluation:\n",
      "loss:  266.3394929021333\n",
      "gradient:  [  0.03986414 -14.47017867  13.7447393  -16.81284657] \n",
      "\n",
      "New evaluation:\n",
      "loss:  261.84960934180833\n",
      "gradient:  [ -0.53827446 -13.99469665  12.74733975 -13.8345385 ] \n",
      "\n",
      "New evaluation:\n",
      "loss:  247.8162504199428\n",
      "gradient:  [ -0.57983186 -11.61548815  12.84839029   1.54282249] \n",
      "\n",
      "New evaluation:\n",
      "loss:  233.17125088589876\n",
      "gradient:  [-10.17742646   9.42548288 -10.50798138   0.86877295] \n",
      "\n",
      "New evaluation:\n",
      "loss:  234.48829141460607\n",
      "gradient:  [ 2.50515405 -5.05571513 -1.66714166 -6.94443814] \n",
      "\n",
      "New evaluation:\n",
      "loss:  230.9920822008365\n",
      "gradient:  [ -6.69086856  -0.09421031 -10.9168944   -2.24235331] \n",
      "\n",
      "New evaluation:\n",
      "loss:  230.72303482568256\n",
      "gradient:  [ 4.51766901 -0.27447563  5.28942205  3.51673222] \n",
      "\n",
      "New evaluation:\n",
      "loss:  230.4656271167571\n",
      "gradient:  [-1.2991398  -0.09567634 -1.69484141  0.9767935 ] \n",
      "\n",
      "New evaluation:\n",
      "loss:  230.43973283662734\n",
      "gradient:  [-0.9665209   0.04433694 -1.67238305  0.84581112] \n",
      "\n",
      "New evaluation:\n",
      "loss:  230.3966156400311\n",
      "gradient:  [-0.60883152  0.20198353 -1.38721641  0.61827494] \n",
      "\n",
      "New evaluation:\n",
      "loss:  230.34905756434364\n",
      "gradient:  [ 0.03141613  0.32275383 -0.40985718  0.13784495] \n",
      "\n",
      "New evaluation:\n",
      "loss:  230.34298838139628\n",
      "gradient:  [ 0.0829295   0.14427145 -0.1265952   0.03116076] \n",
      "\n",
      "New evaluation:\n",
      "loss:  230.34147314853195\n",
      "gradient:  [ 0.01522764  0.00022317 -0.00162085 -0.0062923 ] \n",
      "\n",
      "New evaluation:\n",
      "loss:  230.34146692078897\n",
      "gradient:  [ 0.00083009 -0.0009076  -0.00075833 -0.00140319] \n",
      "\n",
      "New evaluation:\n",
      "loss:  230.34146682436452\n",
      "gradient:  [-9.78908823e-05 -9.20687659e-05 -1.08183241e-04 -8.56006903e-05] \n",
      "\n",
      "tot chi2:  132.2791261401099\n",
      "tot gradient:  [2.16342627]\n",
      "log10 hyperpars:  [1.15049021] ['beta']\n",
      "New evaluation:\n",
      "loss:  264.3766591699531\n",
      "gradient:  [ 12.47192009  -7.34906513 -14.12908579  12.8542058 ] \n",
      "\n",
      "New evaluation:\n",
      "loss:  263.2158730382928\n",
      "gradient:  [ 19.90301906 -13.1523171   33.20830245 -20.3069797 ] \n",
      "\n",
      "New evaluation:\n",
      "loss:  261.5101715010821\n",
      "gradient:  [  6.39517223 -13.09789293  20.13858228 -18.69163877] \n",
      "\n",
      "New evaluation:\n",
      "loss:  258.1712802244053\n",
      "gradient:  [  5.70605613 -12.73848823  18.95306421 -15.89337484] \n",
      "\n",
      "New evaluation:\n",
      "loss:  247.7430172570339\n",
      "gradient:  [  4.50135258 -11.01567569  17.8398174   -1.33086257] \n",
      "\n",
      "New evaluation:\n",
      "loss:  230.29143406135407\n",
      "gradient:  [-1.58203945 -1.75803486 -1.39471088 -0.61393742] \n",
      "\n",
      "New evaluation:\n",
      "loss:  231.59141550063902\n",
      "gradient:  [0.32627294 6.82054129 3.08433768 4.74953748] \n",
      "\n",
      "New evaluation:\n",
      "loss:  230.08420659426076\n",
      "gradient:  [-1.10258543 -0.23958737 -0.72358218  0.91501192] \n",
      "\n",
      "New evaluation:\n",
      "loss:  230.0520353451\n",
      "gradient:  [-0.82184795  0.18010518 -1.21372438  0.81313982] \n",
      "\n",
      "New evaluation:\n",
      "loss:  230.03712390112622\n",
      "gradient:  [-0.34056292  0.20376941 -1.01562845  0.72424648] \n",
      "\n",
      "New evaluation:\n",
      "loss:  230.01208347163933\n",
      "gradient:  [-0.09365996  0.22296129 -0.86954601  0.5014581 ] \n",
      "\n",
      "New evaluation:\n",
      "loss:  229.98038872623658\n",
      "gradient:  [ 0.36323186  0.14198927 -0.1940281   0.12790481] \n",
      "\n",
      "New evaluation:\n",
      "loss:  229.9742892235616\n",
      "gradient:  [ 0.16657187  0.05553645 -0.06345684 -0.02174093] \n",
      "\n",
      "New evaluation:\n",
      "loss:  229.9731787404342\n",
      "gradient:  [ 0.05608269  0.00362201  0.02240951 -0.00986694] \n",
      "\n",
      "New evaluation:\n",
      "loss:  229.9731385619217\n",
      "gradient:  [-0.00710246  0.00139338 -0.00599077 -0.00295951] \n",
      "\n",
      "New evaluation:\n",
      "loss:  229.97313798185468\n",
      "gradient:  [ 0.00195554 -0.00086742  0.00208566  0.0001687 ] \n",
      "\n",
      "New evaluation:\n",
      "loss:  229.97313793086028\n",
      "gradient:  [1.58648076e-04 6.65566119e-05 2.14149405e-04 1.07626443e-04] \n",
      "\n",
      "tot chi2:  132.21272885005425\n",
      "tot gradient:  [0.27195238]\n"
     ]
    }
   ],
   "source": [
    "starting_beta = 10**mini.x\n",
    "\n",
    "mini2 = hyper_minimizer(data, regularization = regularization, starting_beta = starting_beta, random_states = [2], which_set = 'test', starting_pars = starting_pars)\n"
   ]
  },
  {
   "cell_type": "code",
   "execution_count": 35,
   "metadata": {},
   "outputs": [
    {
     "data": {
      "text/plain": [
       "      fun: 132.21272885005425\n",
       " hess_inv: array([[0.04261599]])\n",
       "      jac: array([0.27195238])\n",
       "  message: 'Optimization terminated successfully.'\n",
       "     nfev: 4\n",
       "      nit: 2\n",
       "     njev: 4\n",
       "   status: 0\n",
       "  success: True\n",
       "        x: array([1.15049021])"
      ]
     },
     "execution_count": 35,
     "metadata": {},
     "output_type": "execute_result"
    }
   ],
   "source": [
    "mini2"
   ]
  },
  {
   "cell_type": "markdown",
   "metadata": {},
   "source": [
    "#### multiple seeds\n",
    "in order to get more robust results and avoid local minima "
   ]
  },
  {
   "cell_type": "markdown",
   "metadata": {},
   "source": [
    "Let's use 2 random_states [0, 1]"
   ]
  },
  {
   "cell_type": "code",
   "execution_count": 36,
   "metadata": {},
   "outputs": [
    {
     "name": "stdout",
     "output_type": "stream",
     "text": [
      "Input random_state employed both for test_obs and test_frames\n",
      "Input random_state employed both for test_obs and test_frames\n",
      "log10 hyperpars:  [0.] ['beta']\n",
      "New evaluation:\n",
      "loss:  232.03396939608317\n",
      "gradient:  [-71.76903903  -5.50396973 -51.47297004 -14.96441254] \n",
      "\n",
      "New evaluation:\n",
      "loss:  209.3237551897244\n",
      "gradient:  [ 1.91964428 -0.2070328   7.12258622 -4.61135859] \n",
      "\n",
      "New evaluation:\n",
      "loss:  754.3009782677531\n",
      "gradient:  [100.18299117 -38.11978997   8.27176677  55.42594161] \n",
      "\n",
      "New evaluation:\n",
      "loss:  208.56882815017454\n",
      "gradient:  [ 1.89118245  0.90379216  7.67540293 -2.55457306] \n",
      "\n",
      "New evaluation:\n",
      "loss:  207.06287927808435\n",
      "gradient:  [ 2.38351279  0.41791025  8.34649019 -1.6563974 ] \n",
      "\n",
      "New evaluation:\n",
      "loss:  207.134978140154\n",
      "gradient:  [  2.76218824   7.17962407 -18.06578377   9.25915916] \n",
      "\n",
      "New evaluation:\n",
      "loss:  204.56412161010527\n",
      "gradient:  [2.56130963 1.60978088 4.60399415 2.2174964 ] \n",
      "\n",
      "New evaluation:\n",
      "loss:  209.0164700744682\n",
      "gradient:  [  3.32259559  10.61258435 -29.4412328   10.7129315 ] \n",
      "\n",
      "New evaluation:\n",
      "loss:  204.43707777237316\n",
      "gradient:  [2.49418338 2.24616279 2.27085198 2.88819471] \n",
      "\n",
      "New evaluation:\n",
      "loss:  204.2505326156215\n",
      "gradient:  [2.74894133 1.12776982 2.11608407 2.03132121] \n",
      "\n",
      "New evaluation:\n",
      "loss:  203.9491529992948\n",
      "gradient:  [3.01179705 0.01127826 1.77929449 0.48283253] \n",
      "\n",
      "New evaluation:\n",
      "loss:  203.51564147850704\n",
      "gradient:  [ 2.38941575 -1.54588903  1.20759232 -1.83077883] \n",
      "\n",
      "New evaluation:\n",
      "loss:  203.43296959319815\n",
      "gradient:  [-1.3440982  -1.91749081 -1.43012889 -2.64362741] \n",
      "\n",
      "New evaluation:\n",
      "loss:  203.3047975315156\n",
      "gradient:  [-0.20987002 -1.32776127 -0.47116174 -1.83985053] \n",
      "\n",
      "New evaluation:\n",
      "loss:  203.20950535365662\n",
      "gradient:  [ 0.09085283  0.02771949  0.02833216 -0.21228848] \n",
      "\n",
      "New evaluation:\n",
      "loss:  203.20541899076605\n",
      "gradient:  [ 0.080439    0.00832834  0.02517964 -0.06545599] \n",
      "\n",
      "New evaluation:\n",
      "loss:  203.2047751784851\n",
      "gradient:  [0.01776425 0.00190248 0.01381034 0.00192744] \n",
      "\n",
      "New evaluation:\n",
      "loss:  203.20476885190797\n",
      "gradient:  [ 0.00282261 -0.00025857  0.0021764   0.00047525] \n",
      "\n",
      "New evaluation:\n",
      "loss:  203.20476866857382\n",
      "gradient:  [ 4.04706599e-05 -5.85580918e-05  6.99564572e-05  8.74930387e-06] \n",
      "\n",
      "New evaluation:\n",
      "loss:  221.23567772331504\n",
      "gradient:  [-49.15856977  -1.00016728 -37.85442478  -6.89416624] \n",
      "\n",
      "New evaluation:\n",
      "loss:  218.86982423909913\n",
      "gradient:  [ 6.21547016  4.80278975 14.21060447 12.5526085 ] \n",
      "\n",
      "New evaluation:\n",
      "loss:  216.5714872927969\n",
      "gradient:  [ 5.4551954  -2.28949087  9.17628057  0.33777927] \n",
      "\n",
      "New evaluation:\n",
      "loss:  219.4300576772308\n",
      "gradient:  [  4.70397078   8.19869849 -19.44435682  -0.3626772 ] \n",
      "\n",
      "New evaluation:\n",
      "loss:  215.21361571382684\n",
      "gradient:  [ 5.12038622e+00  4.01567115e-03  5.93634929e+00 -6.12374292e-01] \n",
      "\n",
      "New evaluation:\n",
      "loss:  221.0703912674212\n",
      "gradient:  [  8.60329649  12.56223969 -33.69184807   5.7588057 ] \n",
      "\n",
      "New evaluation:\n",
      "loss:  214.72031829835208\n",
      "gradient:  [5.75872165 1.02029698 3.37310305 0.06455097] \n",
      "\n",
      "New evaluation:\n",
      "loss:  213.71095218723164\n",
      "gradient:  [7.61401816 2.19267843 4.96567279 2.61030073] \n",
      "\n",
      "New evaluation:\n",
      "loss:  210.4286858558146\n",
      "gradient:  [ 9.68843631  6.19005555  2.27660789 11.83445366] \n",
      "\n",
      "New evaluation:\n",
      "loss:  286.23432212760764\n",
      "gradient:  [-98.77348031 -13.33079866 -72.58472651  48.77775239] \n",
      "\n",
      "New evaluation:\n",
      "loss:  210.0574401171082\n",
      "gradient:  [ 7.85273597  5.78709575  1.39784142 11.8032031 ] \n",
      "\n",
      "New evaluation:\n",
      "loss:  209.3777986109664\n",
      "gradient:  [ 6.71003342  5.26865232  2.54989879 10.81484703] \n",
      "\n",
      "New evaluation:\n",
      "loss:  208.19145412611434\n",
      "gradient:  [3.31404317 4.49644307 0.47971616 8.39086004] \n",
      "\n",
      "New evaluation:\n",
      "loss:  206.5498850694121\n",
      "gradient:  [1.74058241 2.32782338 1.41873871 2.83657273] \n",
      "\n",
      "New evaluation:\n",
      "loss:  205.96800237632885\n",
      "gradient:  [-1.72929664  1.25500432 -0.84844044 -0.70267454] \n",
      "\n",
      "New evaluation:\n",
      "loss:  205.28982258088865\n",
      "gradient:  [-2.04456317  0.67704028 -0.84117981 -1.21274308] \n",
      "\n",
      "New evaluation:\n",
      "loss:  206.2572281690014\n",
      "gradient:  [-9.60524916e-04 -9.99034873e-01 -8.93984327e+00  5.42403147e+00] \n",
      "\n",
      "New evaluation:\n",
      "loss:  205.03454757674916\n",
      "gradient:  [-1.61098023  0.29110811 -1.75831553  0.09814641] \n",
      "\n",
      "New evaluation:\n",
      "loss:  205.02724626364017\n",
      "gradient:  [ 1.61950431 -0.15631882  1.54123034 -0.3727581 ] \n",
      "\n",
      "New evaluation:\n",
      "loss:  205.01469082170553\n",
      "gradient:  [ 1.16965821 -0.10490969  1.05180961 -0.23092925] \n",
      "\n",
      "New evaluation:\n",
      "loss:  205.00223165755972\n",
      "gradient:  [ 0.00407094  0.02144144 -0.02164147 -0.01456297] \n",
      "\n",
      "New evaluation:\n",
      "loss:  205.00213016866923\n",
      "gradient:  [ 0.01359054  0.00475504 -0.03538794  0.0240593 ] \n",
      "\n",
      "New evaluation:\n",
      "loss:  205.00210425933037\n",
      "gradient:  [ 0.01145398  0.00280406 -0.00687207  0.00859362] \n",
      "\n",
      "New evaluation:\n",
      "loss:  205.00209917217651\n",
      "gradient:  [0.00172339 0.00038367 0.00156525 0.00091856] \n",
      "\n",
      "New evaluation:\n",
      "loss:  205.0020991069102\n",
      "gradient:  [2.51118317e-04 4.72234281e-05 4.61251815e-04 2.39998771e-04] \n",
      "\n",
      "tot chi2:  889.9966853297761\n",
      "tot gradient:  [-7.09565077]\n",
      "log10 hyperpars:  [1.01] ['beta']\n",
      "New evaluation:\n",
      "loss:  232.03396939608317\n",
      "gradient:  [-71.76903903  -5.50396973 -51.47297004 -14.96441254] \n",
      "\n",
      "New evaluation:\n",
      "loss:  226.9942085898118\n",
      "gradient:  [11.46157697 -1.98716808 18.06226475 -2.61330424] \n",
      "\n",
      "New evaluation:\n",
      "loss:  228.32977054542565\n",
      "gradient:  [11.32782597 16.46854328 -1.22731581 19.28683571] \n",
      "\n",
      "New evaluation:\n",
      "loss:  223.78216493357402\n",
      "gradient:  [11.86236391  4.59337145 18.77973843  7.71670996] \n",
      "\n",
      "New evaluation:\n",
      "loss:  228.86344873148258\n",
      "gradient:  [ 12.57092103  16.71112619 -32.78934945  17.08159458] \n",
      "\n",
      "New evaluation:\n",
      "loss:  222.1241274199997\n",
      "gradient:  [12.18382493  5.64020551 12.28228199  8.99188654] \n",
      "\n",
      "New evaluation:\n",
      "loss:  219.69504570612648\n",
      "gradient:  [15.09173151  0.15707074 12.84709158  6.20499426] \n",
      "\n",
      "New evaluation:\n",
      "loss:  215.89692524936942\n",
      "gradient:  [17.41693904 -1.48391621  9.94281    -0.63294704] \n",
      "\n",
      "New evaluation:\n",
      "loss:  213.93268789033823\n",
      "gradient:  [-12.71098113  -7.79325367 -12.28958463  -9.73752078] \n",
      "\n",
      "New evaluation:\n",
      "loss:  213.03807337270544\n",
      "gradient:  [13.47683144 -4.01475555  6.90966116 -3.94213456] \n",
      "\n",
      "New evaluation:\n",
      "loss:  216.99840440863883\n",
      "gradient:  [-37.81985671  -6.56444095 -30.18350783  -9.85547521] \n",
      "\n",
      "New evaluation:\n",
      "loss:  211.83429705440196\n",
      "gradient:  [ 2.93820922 -4.38434302 -1.01993929 -5.08113086] \n",
      "\n",
      "New evaluation:\n",
      "loss:  211.04215827855225\n",
      "gradient:  [-0.32867922 -1.99358846 -0.75164169 -3.54286357] \n",
      "\n",
      "New evaluation:\n",
      "loss:  210.78187042655753\n",
      "gradient:  [ 0.60772286  0.63437206 -0.30118897  0.41217553] \n",
      "\n",
      "New evaluation:\n",
      "loss:  210.7681656300363\n",
      "gradient:  [-0.08050324 -0.04670264  0.05280722  0.00091996] \n",
      "\n",
      "New evaluation:\n",
      "loss:  210.7678938467321\n",
      "gradient:  [-0.00564641 -0.00370419 -0.00140051 -0.00200176] \n",
      "\n",
      "New evaluation:\n",
      "loss:  210.76789336463966\n",
      "gradient:  [1.43442862e-03 2.10622813e-04 1.70507872e-03 7.44711129e-06] \n",
      "\n",
      "New evaluation:\n",
      "loss:  210.76789334765726\n",
      "gradient:  [-2.50998786e-04  6.54147772e-05 -4.71648069e-04  6.77767470e-05] \n",
      "\n",
      "New evaluation:\n",
      "loss:  221.23567772331504\n",
      "gradient:  [-49.15856977  -1.00016728 -37.85442478  -6.89416624] \n",
      "\n",
      "New evaluation:\n",
      "loss:  237.0080827378544\n",
      "gradient:  [15.71702773  2.66795263 25.25240334 14.23699278] \n",
      "\n",
      "New evaluation:\n",
      "loss:  212.45825642040097\n",
      "gradient:  [-2.41692531  2.69784331  2.97418637  1.95640507] \n",
      "\n",
      "New evaluation:\n",
      "loss:  311.0942373039918\n",
      "gradient:  [ 63.04911299  27.1017281  -47.96153745   2.67341415] \n",
      "\n",
      "New evaluation:\n",
      "loss:  211.9267709216829\n",
      "gradient:  [-0.5929954   0.01387373  1.75804784 -1.42101614] \n",
      "\n",
      "New evaluation:\n",
      "loss:  212.69122269479493\n",
      "gradient:  [ 2.55481215  3.62270454 -6.43122014  3.09610551] \n",
      "\n",
      "New evaluation:\n",
      "loss:  211.7286187216569\n",
      "gradient:  [-0.41080258  0.88783614 -0.24653477 -0.16764661] \n",
      "\n",
      "New evaluation:\n",
      "loss:  212.45459498812332\n",
      "gradient:  [ 0.65203244 -1.58998108  3.99881299  3.74068853] \n",
      "\n",
      "New evaluation:\n",
      "loss:  211.69660521166585\n",
      "gradient:  [-0.389023    0.30034902  0.32992574  0.40410617] \n",
      "\n",
      "New evaluation:\n",
      "loss:  211.6850873062835\n",
      "gradient:  [0.08036301 0.06903478 0.00416343 0.06456106] \n",
      "\n",
      "New evaluation:\n",
      "loss:  211.684874889821\n",
      "gradient:  [ 0.00413322 -0.00235609  0.00918079 -0.00757242] \n",
      "\n",
      "New evaluation:\n",
      "loss:  211.68487217219393\n",
      "gradient:  [ 1.57498425e-04  1.51252016e-04  3.02421078e-04 -8.86591794e-05] \n",
      "\n",
      "tot chi2:  897.0534781431113\n",
      "tot gradient:  [24.78005951]\n",
      "log10 hyperpars:  [0.27633707] ['beta']\n",
      "New evaluation:\n",
      "loss:  232.03396939608317\n",
      "gradient:  [-71.76903903  -5.50396973 -51.47297004 -14.96441254] \n",
      "\n",
      "New evaluation:\n",
      "loss:  211.02604398922898\n",
      "gradient:  [ 2.83886943 -0.37852271  8.17646366 -4.41887539] \n",
      "\n",
      "New evaluation:\n",
      "loss:  702.6898012204153\n",
      "gradient:  [ 91.78026631 -86.76032904   1.21422792  74.71274643] \n",
      "\n",
      "New evaluation:\n",
      "loss:  210.27014719622363\n",
      "gradient:  [ 2.82727504  0.7184406   8.75198356 -2.39395771] \n",
      "\n",
      "New evaluation:\n",
      "loss:  208.75413084458364\n",
      "gradient:  [ 3.3094151   0.33501761  9.42510101 -1.43571287] \n",
      "\n",
      "New evaluation:\n",
      "loss:  208.76554332777124\n",
      "gradient:  [  3.68267992   7.48412444 -17.03874737   9.67942614] \n",
      "\n",
      "New evaluation:\n",
      "loss:  206.2229701380079\n",
      "gradient:  [3.51637733 1.71376226 5.46392534 2.5887313 ] \n",
      "\n",
      "New evaluation:\n",
      "loss:  209.9531781162236\n",
      "gradient:  [  4.18267152  10.46372752 -25.82113632  10.22027964] \n",
      "\n",
      "New evaluation:\n",
      "loss:  206.06612954711878\n",
      "gradient:  [3.46671482 2.46475725 2.83656666 3.29393845] \n",
      "\n",
      "New evaluation:\n",
      "loss:  205.83318753413786\n",
      "gradient:  [3.8029396  1.21038445 2.63768807 2.45347596] \n",
      "\n",
      "New evaluation:\n",
      "loss:  205.41247735586953\n",
      "gradient:  [4.14972011 0.2492955  2.45437895 1.06499813] \n",
      "\n",
      "New evaluation:\n",
      "loss:  204.69544308466953\n",
      "gradient:  [ 3.71208073 -1.17875536  1.92539168 -1.03964073] \n",
      "\n",
      "New evaluation:\n",
      "loss:  206.42418992640665\n",
      "gradient:  [-15.83368884  -3.76251675 -11.99063433  -5.91970111] \n",
      "\n",
      "New evaluation:\n",
      "loss:  204.44302062390472\n",
      "gradient:  [ 1.66001371 -1.73283218  0.44765207 -1.97554008] \n",
      "\n",
      "New evaluation:\n",
      "loss:  204.31973720792791\n",
      "gradient:  [-0.01188718 -1.27972181 -0.32019644 -1.79646689] \n",
      "\n",
      "New evaluation:\n",
      "loss:  204.24215610092529\n",
      "gradient:  [ 0.09009457 -0.01904264  0.10911965 -0.5017379 ] \n",
      "\n",
      "New evaluation:\n",
      "loss:  204.22916213026195\n",
      "gradient:  [-0.00041853  0.01459292 -0.05311807 -0.11280511] \n",
      "\n",
      "New evaluation:\n",
      "loss:  204.22806803087022\n",
      "gradient:  [0.01081158 0.0045915  0.00725486 0.00419491] \n",
      "\n",
      "New evaluation:\n",
      "loss:  204.22806557920887\n",
      "gradient:  [-0.0013908   0.00019048 -0.00157843  0.0001836 ] \n",
      "\n",
      "New evaluation:\n",
      "loss:  204.2280655444463\n",
      "gradient:  [ 1.35478084e-05 -1.03135837e-05 -1.80835245e-07 -5.33995269e-06] \n",
      "\n",
      "New evaluation:\n",
      "loss:  221.23567772331504\n",
      "gradient:  [-49.15856977  -1.00016728 -37.85442478  -6.89416624] \n",
      "\n",
      "New evaluation:\n",
      "loss:  220.61717919292258\n",
      "gradient:  [ 7.13080576  4.59712953 15.27431971 12.7148742 ] \n",
      "\n",
      "New evaluation:\n",
      "loss:  219.5277517353633\n",
      "gradient:  [ 6.86798275  2.77331211 13.99407357  9.78904886] \n",
      "\n",
      "New evaluation:\n",
      "loss:  217.78486744035234\n",
      "gradient:  [ 6.10389715  4.93401782 11.03133109  7.94643876] \n",
      "\n",
      "New evaluation:\n",
      "loss:  221.81782458128936\n",
      "gradient:  [  7.97198583  11.97613815 -25.22767551   7.605604  ] \n",
      "\n",
      "New evaluation:\n",
      "loss:  216.98707974266156\n",
      "gradient:  [6.53639374 5.01643591 7.23169921 7.10522568] \n",
      "\n",
      "New evaluation:\n",
      "loss:  215.59483976024512\n",
      "gradient:  [8.13137206 2.4177775  7.51071414 3.7659874 ] \n",
      "\n",
      "New evaluation:\n",
      "loss:  212.50083373268225\n",
      "gradient:  [12.29464949  0.66512393  9.25224465  0.82595455] \n",
      "\n",
      "New evaluation:\n",
      "loss:  225.12551857749935\n",
      "gradient:  [-63.14816634  -1.00397023 -50.02312566 -10.78086539] \n",
      "\n",
      "New evaluation:\n",
      "loss:  208.2721512073285\n",
      "gradient:  [ 7.38782885 -0.15972495  4.02276746 -2.82294673] \n",
      "\n",
      "New evaluation:\n",
      "loss:  368.20748598876213\n",
      "gradient:  [-166.00459811   -7.14429472 -170.16118338   40.88583759] \n",
      "\n",
      "New evaluation:\n",
      "loss:  207.74335388986435\n",
      "gradient:  [ 1.02525626  0.02340043 -0.94958089 -3.40971606] \n",
      "\n",
      "New evaluation:\n",
      "loss:  207.3050189312452\n",
      "gradient:  [-1.94460793  1.19595316 -3.13710429 -0.63878764] \n",
      "\n",
      "New evaluation:\n",
      "loss:  207.11763413589009\n",
      "gradient:  [-2.02328516  1.149745   -0.6321855   1.84777317] \n",
      "\n",
      "New evaluation:\n",
      "loss:  207.0518230478874\n",
      "gradient:  [-1.20603573  1.14329952 -0.29859082  1.74716803] \n",
      "\n",
      "New evaluation:\n",
      "loss:  206.93168395818407\n",
      "gradient:  [-0.51544424  1.02114173 -0.06389744  1.44197266] \n",
      "\n",
      "New evaluation:\n",
      "loss:  206.74138568275774\n",
      "gradient:  [ 0.25147389  0.7132798  -0.03077386  1.15905943] \n",
      "\n",
      "New evaluation:\n",
      "loss:  206.66112879456838\n",
      "gradient:  [ 1.11187615 -0.17135219  1.48159515 -1.02756772] \n",
      "\n",
      "New evaluation:\n",
      "loss:  206.69558101666632\n",
      "gradient:  [ 0.29820239 -0.05047101 -1.39990437  1.15977129] \n",
      "\n",
      "New evaluation:\n",
      "loss:  206.63853619282105\n",
      "gradient:  [ 0.78816423 -0.10459941  0.44558843 -0.21421535] \n",
      "\n",
      "New evaluation:\n",
      "loss:  206.63046093161873\n",
      "gradient:  [0.11074409 0.05127715 0.02687474 0.05208166] \n",
      "\n",
      "New evaluation:\n",
      "loss:  206.62989506028228\n",
      "gradient:  [0.06531931 0.0138365  0.01556487 0.01987569] \n",
      "\n",
      "New evaluation:\n",
      "loss:  206.62982427620528\n",
      "gradient:  [0.00781895 0.00024734 0.00081547 0.0013629 ] \n",
      "\n",
      "New evaluation:\n",
      "loss:  206.62982342596146\n",
      "gradient:  [ 4.88392381e-04 -8.67392751e-05  1.19673129e-04  1.60742566e-08] \n",
      "\n",
      "tot chi2:  888.0288671545031\n",
      "tot gradient:  [-6.32111664]\n",
      "log10 hyperpars:  [0.90518051] ['beta']\n",
      "New evaluation:\n",
      "loss:  232.03396939608317\n",
      "gradient:  [-71.76903903  -5.50396973 -51.47297004 -14.96441254] \n",
      "\n",
      "New evaluation:\n",
      "loss:  222.7945910496024\n",
      "gradient:  [ 9.19381015 -1.56409533 15.4623051  -3.08816835] \n",
      "\n",
      "New evaluation:\n",
      "loss:  296.91861307552887\n",
      "gradient:  [  20.05771156   44.88232633 -136.42438417   26.91790384] \n",
      "\n",
      "New evaluation:\n",
      "loss:  220.17935454269752\n",
      "gradient:  [ 9.46943217  3.04081105 16.94240121  4.6836569 ] \n",
      "\n",
      "New evaluation:\n",
      "loss:  218.94908444598033\n",
      "gradient:  [ 9.88070767  8.41279397 -3.91764482 10.88395163] \n",
      "\n",
      "New evaluation:\n",
      "loss:  218.35909564794497\n",
      "gradient:  [ 9.87685719  3.51868195 14.23902728  6.06615141] \n",
      "\n",
      "New evaluation:\n",
      "loss:  216.7516562882391\n",
      "gradient:  [10.99697473  7.1438854  -0.23999358  6.88821071] \n",
      "\n",
      "New evaluation:\n",
      "loss:  215.66850041143817\n",
      "gradient:  [13.5221955  -0.07360532  0.38319383  5.60222705] \n",
      "\n",
      "New evaluation:\n",
      "loss:  213.64212526752527\n",
      "gradient:  [13.83199538 -1.87873142  4.55058087  2.62571656] \n",
      "\n",
      "New evaluation:\n",
      "loss:  210.5780977101678\n",
      "gradient:  [ 4.98400424 -4.20516843  0.42512831 -1.63974698] \n",
      "\n",
      "New evaluation:\n",
      "loss:  209.6569359023672\n",
      "gradient:  [-6.18302675 -1.61889179 -3.7286788  -2.37972529] \n",
      "\n",
      "New evaluation:\n",
      "loss:  209.65408697363415\n",
      "gradient:  [3.91076596 1.79776532 4.6961105  0.699879  ] \n",
      "\n",
      "New evaluation:\n",
      "loss:  209.44079743887525\n",
      "gradient:  [-0.6539278   0.00338267  0.85491223 -0.82065071] \n",
      "\n",
      "New evaluation:\n",
      "loss:  209.41101172834615\n",
      "gradient:  [ 0.37408532 -0.54213387  0.81369985 -0.45155183] \n",
      "\n",
      "New evaluation:\n",
      "loss:  209.40334633287665\n",
      "gradient:  [ 0.21372349 -0.26003858  0.50440042 -0.2495189 ] \n",
      "\n",
      "New evaluation:\n",
      "loss:  209.40012325121626\n",
      "gradient:  [ 2.09872650e-02  1.05910866e-02  2.31193941e-02 -9.39358768e-05] \n",
      "\n",
      "New evaluation:\n",
      "loss:  209.4001145794698\n",
      "gradient:  [ 0.00299678  0.00118579  0.00244097 -0.00020833] \n",
      "\n",
      "New evaluation:\n",
      "loss:  209.40011444246383\n",
      "gradient:  [ 3.05558587e-05 -3.24252376e-05 -7.45949316e-05 -9.08394053e-05] \n",
      "\n",
      "New evaluation:\n",
      "loss:  221.23567772331504\n",
      "gradient:  [-49.15856977  -1.00016728 -37.85442478  -6.89416624] \n",
      "\n",
      "New evaluation:\n",
      "loss:  232.69728511339457\n",
      "gradient:  [13.45885659  3.17532498 22.62817344 13.83667652] \n",
      "\n",
      "New evaluation:\n",
      "loss:  211.7945050047119\n",
      "gradient:  [-1.71645211  3.01646954  3.45303871  2.5044993 ] \n",
      "\n",
      "New evaluation:\n",
      "loss:  302.56126274923804\n",
      "gradient:  [ 51.74040611  12.67310178  31.99818763 -35.24896077] \n",
      "\n",
      "New evaluation:\n",
      "loss:  211.27371985167196\n",
      "gradient:  [-0.32113183  0.68229796  2.59836265 -0.45961625] \n",
      "\n",
      "New evaluation:\n",
      "loss:  211.64379337119803\n",
      "gradient:  [ 1.89534178  3.4742562  -4.72832368  2.59542646] \n",
      "\n",
      "New evaluation:\n",
      "loss:  211.03059735595548\n",
      "gradient:  [-0.1876264   1.49285029  0.30865261  0.57026891] \n",
      "\n",
      "New evaluation:\n",
      "loss:  211.61567348158064\n",
      "gradient:  [ 0.84639555 -0.77154541  4.14749791  4.05184435] \n",
      "\n",
      "New evaluation:\n",
      "loss:  210.98155517365066\n",
      "gradient:  [-0.14876527  0.7800694   0.94627185  1.20584718] \n",
      "\n",
      "New evaluation:\n",
      "loss:  210.93162542626874\n",
      "gradient:  [0.15724513 0.1288766  0.00253707 0.05240691] \n",
      "\n",
      "New evaluation:\n",
      "loss:  210.93082653340437\n",
      "gradient:  [-0.00132054 -0.0035133   0.02504171 -0.02314102] \n",
      "\n",
      "New evaluation:\n",
      "loss:  210.93078500528964\n",
      "gradient:  [-0.00262427  0.00059188 -0.00135901  0.00046738] \n",
      "\n",
      "New evaluation:\n",
      "loss:  210.9307849448189\n",
      "gradient:  [-1.01073945e-04  2.07294770e-05 -1.12386369e-04 -1.69758444e-05] \n",
      "\n",
      "tot chi2:  894.7940328879881\n",
      "tot gradient:  [18.53579088]\n",
      "log10 hyperpars:  [0.35717143] ['beta']\n",
      "New evaluation:\n",
      "loss:  232.03396939608317\n",
      "gradient:  [-71.76903903  -5.50396973 -51.47297004 -14.96441254] \n",
      "\n",
      "New evaluation:\n",
      "loss:  211.76582088855565\n",
      "gradient:  [ 3.23834426 -0.45304841  8.63445538 -4.33522646] \n",
      "\n",
      "New evaluation:\n",
      "loss:  676.8251427146291\n",
      "gradient:  [  92.91772435 -102.83259397   -6.17352662   76.77126584] \n",
      "\n",
      "New evaluation:\n",
      "loss:  211.005940660331\n",
      "gradient:  [ 3.23402109  0.64286253  9.2211009  -2.31609381] \n",
      "\n",
      "New evaluation:\n",
      "loss:  209.47930720990993\n",
      "gradient:  [ 3.71412477  0.30150514  9.89399907 -1.33202318] \n",
      "\n",
      "New evaluation:\n",
      "loss:  209.53313263217785\n",
      "gradient:  [  4.09299749   7.70089518 -16.95611264   9.9258545 ] \n",
      "\n",
      "New evaluation:\n",
      "loss:  206.9401973990978\n",
      "gradient:  [3.93244715 1.75431698 5.86531031 2.72850922] \n",
      "\n",
      "New evaluation:\n",
      "loss:  210.57214626937093\n",
      "gradient:  [  4.61763851  10.68579016 -25.26743873  10.2479901 ] \n",
      "\n",
      "New evaluation:\n",
      "loss:  206.76618081014152\n",
      "gradient:  [3.89139247 2.5709666  3.08538206 3.45955225] \n",
      "\n",
      "New evaluation:\n",
      "loss:  206.50642062171104\n",
      "gradient:  [4.27318903 1.2529256  2.8535005  2.63594297] \n",
      "\n",
      "New evaluation:\n",
      "loss:  206.02557080707425\n",
      "gradient:  [4.667605   0.31848943 2.7070893  1.28207186] \n",
      "\n",
      "New evaluation:\n",
      "loss:  205.18157889813935\n",
      "gradient:  [ 4.22266103 -1.10489226  2.13495431 -0.78682967] \n",
      "\n",
      "New evaluation:\n",
      "loss:  207.91777828629802\n",
      "gradient:  [-21.53021487  -4.32188343 -16.17097586  -6.93328244] \n",
      "\n",
      "New evaluation:\n",
      "loss:  204.86889036896022\n",
      "gradient:  [ 1.92347349 -1.73152198  0.48710801 -1.83382538] \n",
      "\n",
      "New evaluation:\n",
      "loss:  204.7421198199963\n",
      "gradient:  [-0.15815263 -1.36716697 -0.45082508 -1.8966432 ] \n",
      "\n",
      "New evaluation:\n",
      "loss:  204.66289657183862\n",
      "gradient:  [ 0.07676893 -0.23719102  0.09759425 -0.81558824] \n",
      "\n",
      "New evaluation:\n",
      "loss:  204.64259846665314\n",
      "gradient:  [ 0.02734653  0.01348662 -0.04083075 -0.15663921] \n",
      "\n",
      "New evaluation:\n",
      "loss:  204.64075996910384\n",
      "gradient:  [0.01408474 0.00705757 0.00300181 0.00693931] \n",
      "\n",
      "New evaluation:\n",
      "loss:  204.64075550416442\n",
      "gradient:  [-0.00121561  0.00078116 -0.0021031   0.00076251] \n",
      "\n",
      "New evaluation:\n",
      "loss:  204.64075544825772\n",
      "gradient:  [ 5.10770525e-05 -2.83578977e-05  9.43771111e-05 -8.95729256e-06] \n",
      "\n",
      "New evaluation:\n",
      "loss:  221.23567772331504\n",
      "gradient:  [-49.15856977  -1.00016728 -37.85442478  -6.89416624] \n",
      "\n",
      "New evaluation:\n",
      "loss:  221.37654084186187\n",
      "gradient:  [ 7.52859028  4.50775417 15.73658673 12.78539127] \n",
      "\n",
      "New evaluation:\n",
      "loss:  209.573927751872\n",
      "gradient:  [0.44378755 4.1186801  5.04894793 4.39187274] \n",
      "\n",
      "New evaluation:\n",
      "loss:  311.0662376375898\n",
      "gradient:  [ 27.89674402   3.25705767  11.96770347 -35.05391051] \n",
      "\n",
      "New evaluation:\n",
      "loss:  208.8629506557698\n",
      "gradient:  [1.79486315 1.18086888 4.3365605  0.37619004] \n",
      "\n",
      "New evaluation:\n",
      "loss:  209.40520961783574\n",
      "gradient:  [ 3.65138997  4.53890888 -5.86582301  2.10323832] \n",
      "\n",
      "New evaluation:\n",
      "loss:  208.49319405750595\n",
      "gradient:  [1.50478974 1.96462106 1.45298702 0.78056465] \n",
      "\n",
      "New evaluation:\n",
      "loss:  208.32109683046204\n",
      "gradient:  [1.71396456 1.44902762 3.75975336 3.52507626] \n",
      "\n",
      "New evaluation:\n",
      "loss:  208.06266219885285\n",
      "gradient:  [0.81341421 1.09773365 1.42245511 1.74446043] \n",
      "\n",
      "New evaluation:\n",
      "loss:  207.86368243092397\n",
      "gradient:  [-0.00268631  0.62881392 -0.14833686 -0.10194165] \n",
      "\n",
      "New evaluation:\n",
      "loss:  207.56983760545472\n",
      "gradient:  [-0.22096889  1.40449787 -3.53315024  0.94541268] \n",
      "\n",
      "New evaluation:\n",
      "loss:  207.59943837898842\n",
      "gradient:  [-1.32378848  0.14269009 -4.98265443  3.03312874] \n",
      "\n",
      "New evaluation:\n",
      "loss:  207.41422551700057\n",
      "gradient:  [-0.8394634   0.80731705 -3.72578718  1.55502075] \n",
      "\n",
      "New evaluation:\n",
      "loss:  207.26618334436782\n",
      "gradient:  [-0.75672986  0.10858264 -0.4599737  -0.18553878] \n",
      "\n",
      "New evaluation:\n",
      "loss:  207.25554710285653\n",
      "gradient:  [-0.08844533  0.00864203 -0.00926685  0.00903249] \n",
      "\n",
      "New evaluation:\n",
      "loss:  207.2553790652052\n",
      "gradient:  [0.00212654 0.0002659  0.01507085 0.01916811] \n",
      "\n",
      "New evaluation:\n",
      "loss:  207.25537108713738\n",
      "gradient:  [0.00582559 0.00022719 0.0090145  0.00698689] \n",
      "\n",
      "New evaluation:\n",
      "loss:  207.2553699048295\n",
      "gradient:  [0.00166704 0.0001634  0.00132907 0.00045368] \n",
      "\n",
      "New evaluation:\n",
      "loss:  207.2553698813851\n",
      "gradient:  [3.11411140e-04 4.27564233e-05 1.74986060e-04 1.92047929e-05] \n",
      "\n",
      "tot chi2:  887.5789184802024\n",
      "tot gradient:  [-4.60536025]\n",
      "log10 hyperpars:  [0.55452761] ['beta']\n",
      "New evaluation:\n",
      "loss:  232.03396939608317\n",
      "gradient:  [-71.76903903  -5.50396973 -51.47297004 -14.96441254] \n",
      "\n",
      "New evaluation:\n",
      "loss:  214.271667824042\n",
      "gradient:  [ 4.5914857  -0.70548939 10.18581116 -4.05188238] \n",
      "\n",
      "New evaluation:\n",
      "loss:  586.9631289128732\n",
      "gradient:  [  97.14783651 -124.06956058  -43.32862271   68.52838694] \n",
      "\n",
      "New evaluation:\n",
      "loss:  213.47985981221785\n",
      "gradient:  [ 4.61209236  0.41281264 10.81912774 -2.00931285] \n",
      "\n",
      "New evaluation:\n",
      "loss:  211.8835936317618\n",
      "gradient:  [ 5.09609873  0.20609939 11.48372432 -0.9295622 ] \n",
      "\n",
      "New evaluation:\n",
      "loss:  212.566861898853\n",
      "gradient:  [  5.54002674   9.01146921 -19.01113923  11.23898677] \n",
      "\n",
      "New evaluation:\n",
      "loss:  209.36555684003542\n",
      "gradient:  [5.34378076 1.84521447 7.39640325 3.09086691] \n",
      "\n",
      "New evaluation:\n",
      "loss:  213.95611942313502\n",
      "gradient:  [  6.32853512  13.49299458 -29.18457481  11.69857005] \n",
      "\n",
      "New evaluation:\n",
      "loss:  209.11905364136842\n",
      "gradient:  [5.32549478 2.9519611  4.10959075 3.94347704] \n",
      "\n",
      "New evaluation:\n",
      "loss:  208.74672398641576\n",
      "gradient:  [5.89978623 1.44688963 3.64252987 3.27623167] \n",
      "\n",
      "New evaluation:\n",
      "loss:  208.02305345208413\n",
      "gradient:  [6.50089824 0.53992745 3.49225261 2.03465716] \n",
      "\n",
      "New evaluation:\n",
      "loss:  206.78738288802194\n",
      "gradient:  [ 0.04675976 -3.6353304  -2.99590252 -3.77062281] \n",
      "\n",
      "New evaluation:\n",
      "loss:  206.3390122808591\n",
      "gradient:  [ 4.71463888 -1.12246291  2.98088233 -1.01034175] \n",
      "\n",
      "New evaluation:\n",
      "loss:  205.9436576683208\n",
      "gradient:  [ 0.51752149 -0.17076591  0.92356419 -0.64148279] \n",
      "\n",
      "New evaluation:\n",
      "loss:  205.92632172797\n",
      "gradient:  [-0.23571845 -0.08379514 -0.19020085 -0.1597507 ] \n",
      "\n",
      "New evaluation:\n",
      "loss:  205.92538472752742\n",
      "gradient:  [ 0.06184919  0.02414362 -0.00259994  0.03273122] \n",
      "\n",
      "New evaluation:\n",
      "loss:  205.92531048508616\n",
      "gradient:  [ 1.82600391e-03  2.01130021e-03 -2.38895859e-03 -3.80609591e-05] \n",
      "\n",
      "New evaluation:\n",
      "loss:  205.92530995146018\n",
      "gradient:  [-4.99669576e-05 -1.37038415e-04 -2.66498589e-04 -2.52655087e-04] \n",
      "\n",
      "New evaluation:\n",
      "loss:  221.23567772331504\n",
      "gradient:  [-49.15856977  -1.00016728 -37.85442478  -6.89416624] \n",
      "\n",
      "New evaluation:\n",
      "loss:  223.9487272167706\n",
      "gradient:  [ 8.87600612  4.20501293 17.30242419 13.0242538 ] \n",
      "\n",
      "New evaluation:\n",
      "loss:  210.15112332239443\n",
      "gradient:  [-0.04813627  3.82942899  4.67009888  3.89711504] \n",
      "\n",
      "New evaluation:\n",
      "loss:  311.38815550031035\n",
      "gradient:  [ 34.59384328   6.96209879  19.77231571 -39.3383884 ] \n",
      "\n",
      "New evaluation:\n",
      "loss:  209.50043572541665\n",
      "gradient:  [1.33751531 1.05114649 3.96389897 0.15166911] \n",
      "\n",
      "New evaluation:\n",
      "loss:  209.93582968250874\n",
      "gradient:  [ 3.17444125  4.09436679 -5.22454855  2.14875933] \n",
      "\n",
      "New evaluation:\n",
      "loss:  209.16568351328274\n",
      "gradient:  [1.15212479 1.8244872  1.19284552 0.71806997] \n",
      "\n",
      "New evaluation:\n",
      "loss:  209.20084032372208\n",
      "gradient:  [1.50140586 0.87460869 3.94702846 3.6647978 ] \n",
      "\n",
      "New evaluation:\n",
      "loss:  209.0255468989132\n",
      "gradient:  [1.11097747 1.09861823 2.23462539 1.91933373] \n",
      "\n",
      "New evaluation:\n",
      "loss:  208.90648790399834\n",
      "gradient:  [0.32554374 0.4763294  0.22986958 0.35521805] \n",
      "\n",
      "New evaluation:\n",
      "loss:  208.88586515209911\n",
      "gradient:  [-0.05440473  0.10144481 -0.0059447  -0.10521989] \n",
      "\n",
      "New evaluation:\n",
      "loss:  208.87697358695286\n",
      "gradient:  [-0.04523425  0.08723804 -0.16462321 -0.02558974] \n",
      "\n",
      "New evaluation:\n",
      "loss:  208.87476262933492\n",
      "gradient:  [-0.01035067  0.01518465  0.01880018  0.01102824] \n",
      "\n",
      "New evaluation:\n",
      "loss:  208.87452529351228\n",
      "gradient:  [0.01083059 0.00984268 0.01144664 0.01587712] \n",
      "\n",
      "New evaluation:\n",
      "loss:  208.87450614942486\n",
      "gradient:  [0.00315144 0.00098567 0.00411748 0.00263992] \n",
      "\n",
      "New evaluation:\n",
      "loss:  208.87450582210687\n",
      "gradient:  [3.53598645e-04 4.98039088e-05 3.80301115e-04 2.13229290e-04] \n",
      "\n",
      "tot chi2:  889.995997900537\n",
      "tot gradient:  [29.22166146]\n",
      "log10 hyperpars:  [0.38421514] ['beta']\n",
      "New evaluation:\n",
      "loss:  232.03396939608317\n",
      "gradient:  [-71.76903903  -5.50396973 -51.47297004 -14.96441254] \n",
      "\n",
      "New evaluation:\n",
      "loss:  212.04568915484313\n",
      "gradient:  [ 3.38947134 -0.48124256  8.80772026 -4.30358087] \n",
      "\n",
      "New evaluation:\n",
      "loss:  666.8171379026545\n",
      "gradient:  [  93.65441089 -107.85286177   -9.50518232   76.81650619] \n",
      "\n",
      "New evaluation:\n",
      "loss:  211.2837485978145\n",
      "gradient:  [ 3.38789891  0.61503935  9.39879795 -2.28538601] \n",
      "\n",
      "New evaluation:\n",
      "loss:  209.75211004107572\n",
      "gradient:  [ 3.86758695  0.28926267 10.07141324 -1.29148567] \n",
      "\n",
      "New evaluation:\n",
      "loss:  209.83394370095203\n",
      "gradient:  [  4.24968664   7.79759846 -16.98565031  10.03063423] \n",
      "\n",
      "New evaluation:\n",
      "loss:  207.21114984993562\n",
      "gradient:  [4.08995487 1.76850814 6.02201705 2.77785479] \n",
      "\n",
      "New evaluation:\n",
      "loss:  210.83935271951788\n",
      "gradient:  [  4.78991379  10.82094121 -25.21720998  10.29654185] \n",
      "\n",
      "New evaluation:\n",
      "loss:  207.03003969189177\n",
      "gradient:  [4.05222897 2.61238888 3.18257354 3.5200807 ] \n",
      "\n",
      "New evaluation:\n",
      "loss:  206.75920481847206\n",
      "gradient:  [4.45280084 1.27034774 2.93505747 2.70540322] \n",
      "\n",
      "New evaluation:\n",
      "loss:  206.25405679130856\n",
      "gradient:  [4.86691474 0.34223605 2.79838961 1.36245465] \n",
      "\n",
      "New evaluation:\n",
      "loss:  205.3604281138922\n",
      "gradient:  [ 4.40947811 -1.08619235  2.19922321 -0.69944533] \n",
      "\n",
      "New evaluation:\n",
      "loss:  208.17022544477564\n",
      "gradient:  [-22.11922566  -4.39302695 -16.64752112  -7.01256422] \n",
      "\n",
      "New evaluation:\n",
      "loss:  205.02552113156412\n",
      "gradient:  [ 1.98668858 -1.74023682  0.46663949 -1.78997654] \n",
      "\n",
      "New evaluation:\n",
      "loss:  204.89681025126873\n",
      "gradient:  [-0.18019824 -1.39424673 -0.47820019 -1.92264266] \n",
      "\n",
      "New evaluation:\n",
      "loss:  204.81742283420004\n",
      "gradient:  [ 0.09589706 -0.28296669  0.11359714 -0.8879087 ] \n",
      "\n",
      "New evaluation:\n",
      "loss:  204.79469664227088\n",
      "gradient:  [ 0.03286061  0.0113333  -0.03918368 -0.17615353] \n",
      "\n",
      "New evaluation:\n",
      "loss:  204.79251906761823\n",
      "gradient:  [0.01767569 0.00780288 0.00400552 0.00800996] \n",
      "\n",
      "New evaluation:\n",
      "loss:  204.79251280550264\n",
      "gradient:  [-0.001524    0.00100099 -0.00262762  0.0009533 ] \n",
      "\n",
      "New evaluation:\n",
      "loss:  204.79251271800513\n",
      "gradient:  [ 4.39391404e-05 -2.11134106e-05  9.15505684e-05 -3.43898847e-07] \n",
      "\n",
      "New evaluation:\n",
      "loss:  221.23567772331504\n",
      "gradient:  [-49.15856977  -1.00016728 -37.85442478  -6.89416624] \n",
      "\n",
      "New evaluation:\n",
      "loss:  221.66381830127872\n",
      "gradient:  [ 7.6790779   4.47394218 15.911469   12.81206889] \n",
      "\n",
      "New evaluation:\n",
      "loss:  209.64091135212422\n",
      "gradient:  [0.39080867 4.08513538 5.00761758 4.33449183] \n",
      "\n",
      "New evaluation:\n",
      "loss:  311.1776835338745\n",
      "gradient:  [ 28.63356798   3.70348788  12.61420318 -35.49603353] \n",
      "\n",
      "New evaluation:\n",
      "loss:  208.93726321789606\n",
      "gradient:  [1.74752102 1.16514654 4.29744219 0.34885573] \n",
      "\n",
      "New evaluation:\n",
      "loss:  209.46436012012373\n",
      "gradient:  [ 3.59648305  4.4807359  -5.77655745  2.1060583 ] \n",
      "\n",
      "New evaluation:\n",
      "loss:  208.57163071539298\n",
      "gradient:  [1.46861366 1.94736125 1.42479938 0.77218542] \n",
      "\n",
      "New evaluation:\n",
      "loss:  208.4234783605237\n",
      "gradient:  [1.69087979 1.38214391 3.78564379 3.54060682] \n",
      "\n",
      "New evaluation:\n",
      "loss:  208.19350349904786\n",
      "gradient:  [0.88763835 1.06066076 1.73682221 1.95178029] \n",
      "\n",
      "New evaluation:\n",
      "loss:  208.01907843862497\n",
      "gradient:  [ 0.04730803  0.51677269 -0.05658037 -0.08939249] \n",
      "\n",
      "New evaluation:\n",
      "loss:  207.82189908842207\n",
      "gradient:  [-0.09346888  1.03796431 -1.82002473  0.06434797] \n",
      "\n",
      "New evaluation:\n",
      "loss:  208.2685216791058\n",
      "gradient:  [-0.49925967  1.13956947 -8.11565136  4.26157843] \n",
      "\n",
      "New evaluation:\n",
      "loss:  207.73073824706995\n",
      "gradient:  [-0.21833657  1.22324086 -2.92393415  0.71746923] \n",
      "\n",
      "New evaluation:\n",
      "loss:  207.60045651003009\n",
      "gradient:  [-0.61249834  0.82273199 -3.03499472  0.85907047] \n",
      "\n",
      "New evaluation:\n",
      "loss:  207.4850867700933\n",
      "gradient:  [-0.39285518 -0.01893304 -0.26135872 -0.57043319] \n",
      "\n",
      "New evaluation:\n",
      "loss:  207.4789503935545\n",
      "gradient:  [-0.06009742 -0.02127262 -0.18975204 -0.01242968] \n",
      "\n",
      "New evaluation:\n",
      "loss:  207.47821268051658\n",
      "gradient:  [-0.0234221  -0.00325716 -0.06007535 -0.03783993] \n",
      "\n",
      "New evaluation:\n",
      "loss:  207.47815796319986\n",
      "gradient:  [ 0.00140344  0.00036995 -0.00589995 -0.00730404] \n",
      "\n",
      "New evaluation:\n",
      "loss:  207.47815618585565\n",
      "gradient:  [ 0.00145693  0.00016418  0.00068296 -0.00026561] \n",
      "\n",
      "New evaluation:\n",
      "loss:  207.4781561577433\n",
      "gradient:  [2.55512943e-04 2.05997923e-05 1.86046297e-04 5.48213586e-05] \n",
      "\n",
      "tot chi2:  887.4661931067969\n",
      "tot gradient:  [-3.69541277]\n",
      "log10 hyperpars:  [0.4458335] ['beta']\n",
      "New evaluation:\n",
      "loss:  232.03396939608317\n",
      "gradient:  [-71.76903903  -5.50396973 -51.47297004 -14.96441254] \n",
      "\n",
      "New evaluation:\n",
      "loss:  212.7523686136294\n",
      "gradient:  [ 3.77107377 -0.552434    9.24522154 -4.22367437] \n",
      "\n",
      "New evaluation:\n",
      "loss:  641.3324217635671\n",
      "gradient:  [  95.63238095 -117.69247433  -18.98608795   75.57387073] \n",
      "\n",
      "New evaluation:\n",
      "loss:  211.98374324541965\n",
      "gradient:  [ 3.77646286  0.54686365  9.8481762  -2.20442015] \n",
      "\n",
      "New evaluation:\n",
      "loss:  210.43677378343565\n",
      "gradient:  [ 4.25599522  0.25970364 10.51950266 -1.18519089] \n",
      "\n",
      "New evaluation:\n",
      "loss:  210.62576282219504\n",
      "gradient:  [  4.6495577    8.08571695 -17.23905842  10.33134846] \n",
      "\n",
      "New evaluation:\n",
      "loss:  207.89480977378184\n",
      "gradient:  [4.48785766 1.80058708 6.43177287 2.89308574] \n",
      "\n",
      "New evaluation:\n",
      "loss:  211.61343144535914\n",
      "gradient:  [  5.24413561  11.32278962 -25.55324328  10.52939372] \n",
      "\n",
      "New evaluation:\n",
      "loss:  207.6945134263444\n",
      "gradient:  [4.45821183 2.71917444 3.44188797 3.66669505] \n",
      "\n",
      "New evaluation:\n",
      "loss:  207.3937289773722\n",
      "gradient:  [4.90960439 1.31873765 3.14474702 2.88290116] \n",
      "\n",
      "New evaluation:\n",
      "loss:  206.82363893267328\n",
      "gradient:  [5.37739454 0.40062453 3.02172098 1.56655888] \n",
      "\n",
      "New evaluation:\n",
      "loss:  205.8004458440483\n",
      "gradient:  [ 4.86949625 -1.05365171  2.32793528 -0.48823356] \n",
      "\n",
      "New evaluation:\n",
      "loss:  208.91700728772705\n",
      "gradient:  [-24.10001112  -4.60762004 -18.21949297  -7.29103685] \n",
      "\n",
      "New evaluation:\n",
      "loss:  205.4141121973198\n",
      "gradient:  [ 2.14535026 -1.76653319  0.38995579 -1.67303566] \n",
      "\n",
      "New evaluation:\n",
      "loss:  205.27804469028933\n",
      "gradient:  [-0.22050788 -1.46461754 -0.5474545  -1.98398545] \n",
      "\n",
      "New evaluation:\n",
      "loss:  205.19801598964574\n",
      "gradient:  [ 0.15675817 -0.39065584  0.15352709 -1.05168344] \n",
      "\n",
      "New evaluation:\n",
      "loss:  205.16916080888038\n",
      "gradient:  [ 0.05105295  0.0029771  -0.0325884  -0.23357981] \n",
      "\n",
      "New evaluation:\n",
      "loss:  205.16585967674632\n",
      "gradient:  [0.02895541 0.00965887 0.0082039  0.01092303] \n",
      "\n",
      "New evaluation:\n",
      "loss:  205.16584629925828\n",
      "gradient:  [-0.00259192  0.00164673 -0.00431723  0.00145452] \n",
      "\n",
      "New evaluation:\n",
      "loss:  205.16584606851404\n",
      "gradient:  [7.94710713e-06 2.58742846e-05 3.23890261e-05 4.59236454e-05] \n",
      "\n",
      "New evaluation:\n",
      "loss:  221.23567772331504\n",
      "gradient:  [-49.15856977  -1.00016728 -37.85442478  -6.89416624] \n",
      "\n",
      "New evaluation:\n",
      "loss:  222.38920629269052\n",
      "gradient:  [ 8.05906563  4.38856545 16.3530543  12.87943104] \n",
      "\n",
      "New evaluation:\n",
      "loss:  209.8071476437492\n",
      "gradient:  [0.25436565 4.00183284 4.9018021  4.1920044 ] \n",
      "\n",
      "New evaluation:\n",
      "loss:  311.3810695617588\n",
      "gradient:  [ 30.51437644   4.80417571  14.49535704 -36.66286951] \n",
      "\n",
      "New evaluation:\n",
      "loss:  209.12128729176206\n",
      "gradient:  [1.62333107 1.12665314 4.19537128 0.28213748] \n",
      "\n",
      "New evaluation:\n",
      "loss:  209.61428055497058\n",
      "gradient:  [ 3.46017809  4.34412466 -5.57350443  2.11569426] \n",
      "\n",
      "New evaluation:\n",
      "loss:  208.76583353749476\n",
      "gradient:  [1.37335251 1.90539093 1.35245643 0.75235796] \n",
      "\n",
      "New evaluation:\n",
      "loss:  208.67728264991712\n",
      "gradient:  [1.63164459 1.21635878 3.84487365 3.5797089 ] \n",
      "\n",
      "New evaluation:\n",
      "loss:  208.52455956521493\n",
      "gradient:  [1.12532789 1.0166501  2.60011236 2.58780453] \n",
      "\n",
      "New evaluation:\n",
      "loss:  208.3455747655091\n",
      "gradient:  [0.23672521 0.38514756 0.30201198 0.20414537] \n",
      "\n",
      "New evaluation:\n",
      "loss:  208.30352952850288\n",
      "gradient:  [ 0.03635141  0.4308279  -0.34081622 -0.0323984 ] \n",
      "\n",
      "New evaluation:\n",
      "loss:  208.2169694916916\n",
      "gradient:  [-0.20091014  0.59449954 -1.01090313 -0.03871337] \n",
      "\n",
      "New evaluation:\n",
      "loss:  209.31259452250944\n",
      "gradient:  [-0.78003804  0.89647309 -9.7708917   6.0935469 ] \n",
      "\n",
      "New evaluation:\n",
      "loss:  208.15377631093327\n",
      "gradient:  [-0.34949639  0.84663101 -1.89598071  0.45386686] \n",
      "\n",
      "New evaluation:\n",
      "loss:  209.17289828313977\n",
      "gradient:  [-1.48417344  0.10838997 -8.96093914  5.66561765] \n",
      "\n",
      "New evaluation:\n",
      "loss:  208.11439353174507\n",
      "gradient:  [-0.55875429  0.83367011 -2.42139398  0.80036006] \n",
      "\n",
      "New evaluation:\n",
      "loss:  208.05141073267492\n",
      "gradient:  [-0.82299328  0.50313292 -1.99326245  0.37084344] \n",
      "\n",
      "New evaluation:\n",
      "loss:  208.005780465015\n",
      "gradient:  [-0.19611367  0.03849557 -0.41945636 -0.16381012] \n",
      "\n",
      "New evaluation:\n",
      "loss:  208.0043954397089\n",
      "gradient:  [-0.04164906 -0.00340166 -0.15028751 -0.05184661] \n",
      "\n",
      "New evaluation:\n",
      "loss:  208.00413699300728\n",
      "gradient:  [ 0.0135647  -0.01458267  0.0441525  -0.05192956] \n",
      "\n",
      "New evaluation:\n",
      "loss:  208.00407534688708\n",
      "gradient:  [ 0.00185338 -0.00251095  0.00534223 -0.00327808] \n",
      "\n",
      "New evaluation:\n",
      "loss:  208.00407421912914\n",
      "gradient:  [-0.00050894 -0.00012593 -0.0004843  -0.00018283] \n",
      "\n",
      "tot chi2:  887.3288621393083\n",
      "tot gradient:  [-0.38020489]\n"
     ]
    }
   ],
   "source": [
    "starting_beta = 1\n",
    "\n",
    "mini = hyper_minimizer(data, regularization = regularization, starting_beta = starting_beta, random_states = 2)"
   ]
  },
  {
   "cell_type": "code",
   "execution_count": 37,
   "metadata": {},
   "outputs": [
    {
     "data": {
      "text/plain": [
       "      fun: 887.3288621393083\n",
       " hess_inv: array([[0.02972008]])\n",
       "      jac: array([-0.38020489])\n",
       "  message: 'Optimization terminated successfully.'\n",
       "     nfev: 8\n",
       "      nit: 4\n",
       "     njev: 8\n",
       "   status: 0\n",
       "  success: True\n",
       "        x: array([0.4458335])"
      ]
     },
     "execution_count": 37,
     "metadata": {},
     "output_type": "execute_result"
    }
   ],
   "source": [
    "mini"
   ]
  },
  {
   "cell_type": "code",
   "execution_count": 46,
   "metadata": {},
   "outputs": [],
   "source": [
    "log10_betas = np.arange(-2, 7, 0.5)\n",
    "random_states = np.arange(2)\n",
    "\n",
    "Results = {}\n",
    "\n",
    "for random_state in random_states:\n",
    "    \n",
    "    Results[random_state] = {}\n",
    "\n",
    "    data_train, data_test, test_obs, test_frames = select_traintest(data, random_state = random_state)\n",
    "\n",
    "    for log10_beta in log10_betas:\n",
    "\n",
    "        print(random_state, log10_beta)\n",
    "\n",
    "        beta = 10**np.float64(log10_beta)\n",
    "        Results[random_state][log10_beta] = minimizer(data_train, regularization = regularization, beta = beta, data_test = data_test)\n",
    "\n",
    "        clear_output()"
   ]
  },
  {
   "cell_type": "code",
   "execution_count": 47,
   "metadata": {},
   "outputs": [],
   "source": [
    "chi2s = []\n",
    "chi2s_test1 = []\n",
    "chi2s_test2 = []\n",
    "\n",
    "for random_state in random_states:\n",
    "\n",
    "    chi2s.append([np.sum(unwrap_dict(Results[random_state][log10_beta].chi2)) for log10_beta in log10_betas])\n",
    "    chi2s_test1.append([np.sum(unwrap_dict(Results[random_state][log10_beta].chi2_test)) for log10_beta in log10_betas]) # .chi2_test\n",
    "    chi2s_test2.append([np.sum(unwrap_dict(Results[random_state][log10_beta].chi2_new_obs)) for log10_beta in log10_betas]) # .chi2_test\n"
   ]
  },
  {
   "cell_type": "code",
   "execution_count": 50,
   "metadata": {},
   "outputs": [
    {
     "data": {
      "text/plain": [
       "array([809.5228564 , 809.52341081, 809.52885058, 809.58025051,\n",
       "       810.03572158, 814.556873  , 826.18925646, 846.9433294 ,\n",
       "       875.85522829, 894.73193725, 902.54606228, 905.24866257,\n",
       "       906.12830864, 906.40904183, 906.49807601, 906.52625701,\n",
       "       906.53517122, 906.5379904 ])"
      ]
     },
     "execution_count": 50,
     "metadata": {},
     "output_type": "execute_result"
    }
   ],
   "source": [
    "np.sum(chi2s, axis = 0)"
   ]
  },
  {
   "cell_type": "code",
   "execution_count": 56,
   "metadata": {},
   "outputs": [
    {
     "data": {
      "image/png": "[encoded data removed]",
      "text/plain": [
       "<Figure size 432x288 with 1 Axes>"
      ]
     },
     "metadata": {
      "needs_background": "light"
     },
     "output_type": "display_data"
    }
   ],
   "source": [
    "# plt.plot(log10_betas, np.mean(chi2s, axis = 0), '.-', label = 'training', color = 'tab:blue')\n",
    "plt.plot(log10_betas, np.mean(chi2s_test1, axis = 0), '.-', label = 'test frames', color = 'tab:orange')\n",
    "# plt.plot(log10_betas, np.mean(chi2s_test2, axis = 0), '.-', label = 'test observables', color = 'tab:green')\n",
    "\n",
    "for i in range(len(chi2s)):\n",
    "    # plt.plot(log10_betas, chi2s[i], '.--', color = 'tab:blue')\n",
    "    plt.plot(log10_betas, chi2s_test1[i], '.--', color = 'tab:orange')\n",
    "    # plt.plot(log10_betas, chi2s_test2[i], '.--', color = 'tab:green')\n",
    "\n",
    "plt.legend()\n",
    "plt.title('$\\chi^2$')\n",
    "plt.xlabel(r'$\\log_{10}\\beta$')\n",
    "plt.grid()"
   ]
  },
  {
   "cell_type": "markdown",
   "metadata": {},
   "source": [
    "## 2b. Force-field refinement - alchemical calculations"
   ]
  },
  {
   "cell_type": "markdown",
   "metadata": {},
   "source": [
    "### a. Load data"
   ]
  },
  {
   "cell_type": "code",
   "execution_count": 7,
   "metadata": {},
   "outputs": [],
   "source": [
    "infos = {}\n",
    "\n",
    "infos['global'] = {}\n",
    "infos['global']['temperature'] = 2.476\n",
    "infos['global']['path_directory'] = '../../DATA_alchemical'\n",
    "\n",
    "# for alchemical calculations, we have both system_names (names of each molecular system) and cycle_names (names of\n",
    "# the thermodynamic cycles); each cycle is composed by 4 systems; system_names with corresponding thermodynamic\n",
    "# cycle must be defined as 'cycle_name'+'_'+s for s in ['AS','AD','MS','MD'] (A for adenosine, M for methylated;\n",
    "# S for single, D for double strand). The experimental DG is between (AS, AD) and (MS, MD), the simulated one is\n",
    "# between (AS, MS) and (AD, MD).\n",
    "\n",
    "infos['global']['cycle_names'] = ['A1','A2','A3','A4','A5']#,'B1','B2','B3','B4','B5']\n",
    "# infos['global']['cycle_names'] = ['A4','A5']\n",
    "\n",
    "system_names = []\n",
    "for name in infos['global']['cycle_names']:\n",
    "    for string in ['AS','AD','MS','MD']:\n",
    "        system_names.append(name+'_'+string)\n",
    "\n",
    "infos['global']['system_names'] = system_names\n",
    "\n",
    "# force-field correction terms\n",
    "\n",
    "n_charges = 5\n",
    "\n",
    "infos['global']['names_ff_pars'] = ['DQ %i' % (i+1) for i in range(n_charges)] + ['cos eta']\n",
    "\n",
    "columns = []\n",
    "for i in range(n_charges):\n",
    "    columns.append('DQ %i' % (i+1))\n",
    "    columns.append('DQ %i%i' % (i+1,i+1))\n",
    "for i in range(n_charges):\n",
    "    for j in range(i+1,n_charges):\n",
    "        columns.append('DQ %i%i' % (i+1,j+1))\n",
    "columns.append('cos eta')\n",
    "\n",
    "# only methylated (M) systems have a force-field correction\n",
    "\n",
    "for name in system_names: infos[name] = {}\n",
    "\n",
    "for name in infos['global']['cycle_names']:\n",
    "    for s in ['D','S']:\n",
    "        infos[name + '_M' + s]['ff_terms'] = columns"
   ]
  },
  {
   "cell_type": "markdown",
   "metadata": {},
   "source": [
    "define the force-field correction:\n",
    "- use jax.numpy rather than numpy in order to do automatic differentiation\n",
    "- phi is: ['DQ %i' for i in range(n_charges)] + ['cos eta']\n",
    "- phi_vector is\n",
    "\n",
    "['DQ 1', 'DQ 11', 'DQ 2', 'DQ 22', 'DQ 3', 'DQ 33', 'DQ 4', 'DQ 44', 'DQ 5', 'DQ 55', 'DQ 12', 'DQ 13', 'DQ 14', 'DQ 15', 'DQ 23', 'DQ 24', 'DQ 25', 'DQ 34', 'DQ 35', 'DQ 45', 'cos eta']\n",
    "\n",
    "where 2 numbers (such as 'DQ 11' or 'DQ 23') mean the product 'DQ 1 * DQ 1' or 'DQ 2 * DQ 3'."
   ]
  },
  {
   "cell_type": "code",
   "execution_count": 8,
   "metadata": {},
   "outputs": [],
   "source": [
    "import jax.numpy as jnp"
   ]
  },
  {
   "cell_type": "code",
   "execution_count": 9,
   "metadata": {},
   "outputs": [],
   "source": [
    "def ff_correction(phi, ff_terms):\n",
    "\n",
    "    n_charges = 5\n",
    "\n",
    "    phi_vector = []\n",
    "    for i in range(n_charges):\n",
    "        phi_vector.extend([phi[i], phi[i]**2])\n",
    "    for i in range(n_charges):\n",
    "        for j in range(i+1,n_charges):\n",
    "            phi_vector.append(phi[i]*phi[j])\n",
    "    phi_vector.append(phi[-1])\n",
    "    phi_vector = jnp.array(phi_vector)\n",
    "\n",
    "    correction = jnp.matmul(ff_terms, phi_vector)\n",
    "\n",
    "    return correction"
   ]
  },
  {
   "cell_type": "code",
   "execution_count": 10,
   "metadata": {},
   "outputs": [],
   "source": [
    "for k in system_names:\n",
    "    if k[-2] == 'M': \n",
    "        infos[k]['ff_correction'] = ff_correction"
   ]
  },
  {
   "cell_type": "code",
   "execution_count": 11,
   "metadata": {},
   "outputs": [
    {
     "name": "stderr",
     "output_type": "stream",
     "text": [
      "WARNING:absl:No GPU/TPU found, falling back to CPU. (Set TF_CPP_MIN_LOG_LEVEL=0 and rerun for more info.)\n"
     ]
    },
    {
     "name": "stdout",
     "output_type": "stream",
     "text": [
      "loading data from directory...\n",
      "loading  A1_AS\n",
      "loading  A1_AD\n",
      "loading  A1_MS\n",
      "loading  A1_MD\n",
      "loading  A2_AS\n",
      "loading  A2_AD\n",
      "loading  A2_MS\n",
      "loading  A2_MD\n",
      "loading  A3_AS\n",
      "loading  A3_AD\n",
      "loading  A3_MS\n",
      "loading  A3_MD\n",
      "loading  A4_AS\n",
      "loading  A4_AD\n",
      "loading  A4_MS\n",
      "loading  A4_MD\n",
      "loading  A5_AS\n",
      "loading  A5_AD\n",
      "loading  A5_MS\n",
      "loading  A5_MD\n",
      "done\n"
     ]
    }
   ],
   "source": [
    "data = load_data(infos)"
   ]
  },
  {
   "cell_type": "markdown",
   "metadata": {},
   "source": [
    "Define regularization. Rather than 'plain l2', we now have a constraint due to the requirement $\\sum_{i=0}^5 \\Delta Q_i + 2\\Delta Q_4 = 0$ (total charge constant, with 3 $Q_4$ charges), so we have defined 'constraint 1' as regularization in Functions.py\n",
    "\n",
    "\\begin{equation}\n",
    "\\sum_{i=0}^4 \\Delta Q_i^2 + \\Delta Q_5^2 = \\sum_{i=0}^4 \\Delta Q_i^2 + \\Bigl(\\sum_{i=0}^4 \\Delta Q_i + 2 \\Delta Q_4\\Bigr)^2.\n",
    "\\end{equation}"
   ]
  },
  {
   "cell_type": "code",
   "execution_count": 13,
   "metadata": {},
   "outputs": [],
   "source": [
    "regularization = {'force_field_reg': 'constraint 2'}"
   ]
  },
  {
   "cell_type": "markdown",
   "metadata": {},
   "source": [
    "It can also be defined by the user"
   ]
  },
  {
   "cell_type": "code",
   "execution_count": 19,
   "metadata": {},
   "outputs": [],
   "source": [
    "def my_ff_reg(pars):\n",
    "    lossf_reg = jnp.sum(pars[:-1]**2) + (np.sum(pars[:-1]) + 2*pars[4])**2  # + pars[-1]**2\n",
    "    return lossf_reg"
   ]
  },
  {
   "cell_type": "code",
   "execution_count": 20,
   "metadata": {},
   "outputs": [],
   "source": [
    "regularization = {'force_field_reg': my_ff_reg}"
   ]
  },
  {
   "cell_type": "markdown",
   "metadata": {},
   "source": [
    "In order to avoid numerical issues, put to zero the force-field correction terms corresponding to zero original weights; you could also this in a different way, by selecting only frames with non-zero weights, but then you would have to take this into account when computing the relative entropy or the Kish sample size."
   ]
  },
  {
   "cell_type": "code",
   "execution_count": 21,
   "metadata": {},
   "outputs": [],
   "source": [
    "for s in data['global'].system_names:\n",
    "    # BE CAREFUL!!!\n",
    "    # if you do this, then when you compute the relative entropy or Kish size,\n",
    "    # you have to take into account how many zero frames there was\n",
    "\n",
    "    # wh = np.argwhere(data.weights[s]!=0).flatten()\n",
    "\n",
    "    # data.weights[s] = data.weights[s][wh]\n",
    "    # if s in data.f.keys():\n",
    "    #     data.f[s] = data.f[s].iloc[wh]\n",
    "\n",
    "    # otherwise, you can put to zero the corresponding force-field correction terms\n",
    "\n",
    "    if hasattr(data[s], 'f'):\n",
    "        wh = np.argwhere(data[s].weights == 0).flatten()\n",
    "        data[s].f[wh] = 0"
   ]
  },
  {
   "cell_type": "markdown",
   "metadata": {},
   "source": [
    "Valerio put uncertainties = 1"
   ]
  },
  {
   "cell_type": "code",
   "execution_count": 22,
   "metadata": {},
   "outputs": [],
   "source": [
    "for s in data['global'].cycle_names:\n",
    "    data[s].gexp_DDG[1] = 1"
   ]
  },
  {
   "cell_type": "markdown",
   "metadata": {},
   "source": [
    "### b. Minimize the loss function and analyse the results - scan over $\\beta$"
   ]
  },
  {
   "cell_type": "code",
   "execution_count": 12,
   "metadata": {},
   "outputs": [],
   "source": [
    "betas = np.array([0.1, 0.5, 1, 2, 5, 10, 20, 50, 100, 200, 500, 1000, 10000, 100000])"
   ]
  },
  {
   "cell_type": "markdown",
   "metadata": {},
   "source": [
    "without parallelization"
   ]
  },
  {
   "cell_type": "raw",
   "metadata": {},
   "source": [
    "Results = {}\n",
    "\n",
    "for beta in betas:\n",
    "    print('beta: ', beta)\n",
    "    \n",
    "    Results[beta] = minimizer(data, regularization=regularization, beta=beta)\n",
    "\n",
    "    clear_output()"
   ]
  },
  {
   "cell_type": "markdown",
   "metadata": {},
   "source": [
    "with parallelization (faster)"
   ]
  },
  {
   "cell_type": "code",
   "execution_count": 27,
   "metadata": {},
   "outputs": [],
   "source": [
    "from joblib import Parallel, delayed"
   ]
  },
  {
   "cell_type": "code",
   "execution_count": 28,
   "metadata": {},
   "outputs": [
    {
     "name": "stderr",
     "output_type": "stream",
     "text": [
      "[Parallel(n_jobs=14)]: Using backend LokyBackend with 14 concurrent workers.\n",
      "[Parallel(n_jobs=14)]: Done   2 out of  14 | elapsed:  1.9min remaining: 11.4min\n",
      "[Parallel(n_jobs=14)]: Done  14 out of  14 | elapsed:  5.1min finished\n"
     ]
    }
   ],
   "source": [
    "Results = Parallel(n_jobs=len(betas), verbose=1)(delayed(minimizer)(\n",
    "        data, regularization=regularization, beta=beta) for beta in betas)"
   ]
  },
  {
   "cell_type": "markdown",
   "metadata": {},
   "source": [
    "5 min with parallelization, rather than 28 min"
   ]
  },
  {
   "cell_type": "code",
   "execution_count": 29,
   "metadata": {},
   "outputs": [
    {
     "data": {
      "image/png": "[encoded data removed]",
      "text/plain": [
       "<Figure size 432x288 with 1 Axes>"
      ]
     },
     "metadata": {
      "needs_background": "light"
     },
     "output_type": "display_data"
    }
   ],
   "source": [
    "loss = [Results[i].loss for i in range(len(Results))]\n",
    "\n",
    "plt.plot(betas, loss, '.--')\n",
    "plt.xscale('log')\n",
    "plt.title('loss function')\n",
    "plt.xlabel(r'$\\beta$')\n",
    "plt.show()"
   ]
  },
  {
   "cell_type": "code",
   "execution_count": 30,
   "metadata": {},
   "outputs": [
    {
     "data": {
      "image/png": "[encoded data removed]",
      "text/plain": [
       "<Figure size 432x288 with 1 Axes>"
      ]
     },
     "metadata": {
      "needs_background": "light"
     },
     "output_type": "display_data"
    },
    {
     "data": {
      "image/png": "[encoded data removed]",
      "text/plain": [
       "<Figure size 432x288 with 1 Axes>"
      ]
     },
     "metadata": {
      "needs_background": "light"
     },
     "output_type": "display_data"
    }
   ],
   "source": [
    "plt.plot(betas, [Results[i].pars[:-1] for i in range(len(Results))], '.--')\n",
    "plt.grid()\n",
    "plt.xscale('log')\n",
    "plt.title('$\\Delta Q$ parameters')\n",
    "plt.xlabel(r'$\\beta$')\n",
    "\n",
    "plt.figure()\n",
    "plt.plot(betas, [Results[i].pars[-1] for i in range(len(Results))], '.--')\n",
    "plt.xscale('log')\n",
    "plt.grid()\n",
    "plt.title('$V_\\eta$ parameter')\n",
    "plt.show()"
   ]
  },
  {
   "cell_type": "markdown",
   "metadata": {},
   "source": [
    "### Comparison with relative entropy regularization"
   ]
  },
  {
   "cell_type": "code",
   "execution_count": 31,
   "metadata": {},
   "outputs": [],
   "source": [
    "regularization = {'force_field_reg': 'KL divergence'}"
   ]
  },
  {
   "cell_type": "code",
   "execution_count": null,
   "metadata": {},
   "outputs": [],
   "source": [
    "Results = Parallel(n_jobs=len(betas), verbose=1)(delayed(minimizer)(\n",
    "        data, regularization=regularization, beta=beta) for beta in betas)"
   ]
  },
  {
   "cell_type": "code",
   "execution_count": 36,
   "metadata": {},
   "outputs": [
    {
     "data": {
      "image/png": "[encoded data removed]",
      "text/plain": [
       "<Figure size 432x288 with 1 Axes>"
      ]
     },
     "metadata": {
      "needs_background": "light"
     },
     "output_type": "display_data"
    }
   ],
   "source": [
    "loss = [Results[beta].loss for beta in betas]\n",
    "\n",
    "plt.plot(betas, loss, '.--')\n",
    "plt.xscale('log')\n",
    "plt.title('loss function')\n",
    "plt.xlabel(r'$\\beta$')\n",
    "plt.show()"
   ]
  },
  {
   "cell_type": "code",
   "execution_count": 39,
   "metadata": {},
   "outputs": [
    {
     "data": {
      "image/png": "[encoded data removed]",
      "text/plain": [
       "<Figure size 432x288 with 1 Axes>"
      ]
     },
     "metadata": {
      "needs_background": "light"
     },
     "output_type": "display_data"
    },
    {
     "data": {
      "image/png": "[encoded data removed]",
      "text/plain": [
       "<Figure size 432x288 with 1 Axes>"
      ]
     },
     "metadata": {
      "needs_background": "light"
     },
     "output_type": "display_data"
    }
   ],
   "source": [
    "plt.plot(betas, [Results[beta].pars[:-1] for beta in betas], '.--')\n",
    "plt.grid()\n",
    "plt.xscale('log')\n",
    "plt.title('$\\Delta Q$ parameters')\n",
    "plt.xlabel(r'$\\beta$')\n",
    "\n",
    "plt.figure()\n",
    "plt.plot(betas, [Results[beta].pars[-1] for beta in betas], '.--')\n",
    "plt.xscale('log')\n",
    "plt.grid()\n",
    "plt.title('$V_\\eta$ parameter')\n",
    "plt.show()\n"
   ]
  }
 ],
 "metadata": {
  "kernelspec": {
   "display_name": "Python 3.6.8 64-bit",
   "language": "python",
   "name": "python3"
  },
  "language_info": {
   "codemirror_mode": {
    "name": "ipython",
    "version": 3
   },
   "file_extension": ".py",
   "mimetype": "text/x-python",
   "name": "python",
   "nbconvert_exporter": "python",
   "pygments_lexer": "ipython3",
   "version": "3.6.8"
  },
  "orig_nbformat": 4,
  "vscode": {
   "interpreter": {
    "hash": "916dbcbb3f70747c44a77c7bcd40155683ae19c65e1c03b4aa3499c5328201f1"
   }
  }
 },
 "nbformat": 4,
 "nbformat_minor": 2
}
