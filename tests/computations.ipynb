{
 "cells": [
  {
   "cell_type": "markdown",
   "metadata": {},
   "source": [
    "# Computations\n",
    "to get correct values to compare with pytest assert"
   ]
  },
  {
   "cell_type": "code",
   "execution_count": 1,
   "metadata": {},
   "outputs": [],
   "source": [
    "import numpy as np\n",
    "import os\n",
    "import pickle"
   ]
  },
  {
   "cell_type": "code",
   "execution_count": 2,
   "metadata": {},
   "outputs": [],
   "source": [
    "import sys\n",
    "sys.path.append('../')  # since MDRefine is in a different folder"
   ]
  },
  {
   "cell_type": "markdown",
   "metadata": {},
   "source": [
    "### compute_new_weights, compute_D_KL and l2_regularization"
   ]
  },
  {
   "cell_type": "code",
   "execution_count": null,
   "metadata": {},
   "outputs": [],
   "source": [
    "from MDRefine import compute_new_weights, compute_D_KL, l2_regularization"
   ]
  },
  {
   "cell_type": "code",
   "execution_count": 7,
   "metadata": {},
   "outputs": [
    {
     "name": "stdout",
     "output_type": "stream",
     "text": [
      "[0.73105858 0.26894142] -0.3798854930417225\n"
     ]
    }
   ],
   "source": [
    "w0 = np.array([0.5, 0.5])\n",
    "correction = np.array([0, 1])\n",
    "\n",
    "w, logZ = compute_new_weights(w0, correction)\n",
    "\n",
    "print(w, logZ)"
   ]
  },
  {
   "cell_type": "code",
   "execution_count": 8,
   "metadata": {},
   "outputs": [
    {
     "data": {
      "text/plain": [
       "DeviceArray(0.31265014, dtype=float64)"
      ]
     },
     "execution_count": 8,
     "metadata": {},
     "output_type": "execute_result"
    }
   ],
   "source": [
    "compute_D_KL(weights_P=w, correction_ff=1/2*correction, temperature=2, logZ_P=logZ)"
   ]
  },
  {
   "cell_type": "code",
   "execution_count": 10,
   "metadata": {},
   "outputs": [
    {
     "data": {
      "text/plain": [
       "(DeviceArray(3.69, dtype=float64), array([2.4, 3. ]))"
      ]
     },
     "execution_count": 10,
     "metadata": {},
     "output_type": "execute_result"
    }
   ],
   "source": [
    "pars = np.array([1.2, 1.5])\n",
    "\n",
    "l2_regularization(pars)"
   ]
  },
  {
   "cell_type": "markdown",
   "metadata": {},
   "source": [
    "### copy data and reduce them (less frames and observables)\n",
    "\n",
    "just to test"
   ]
  },
  {
   "cell_type": "code",
   "execution_count": 58,
   "metadata": {},
   "outputs": [],
   "source": [
    "!rm DATA_test/CAAU/pdb_structure.pdb\n",
    "!rm DATA_test/CAAU/ff_terms\n",
    "!rm DATA_test/CAAU/ff_terms_chi\n",
    "!rm DATA_test/CAAU/replica_temp"
   ]
  },
  {
   "cell_type": "code",
   "execution_count": 59,
   "metadata": {},
   "outputs": [],
   "source": [
    "!rm DATA_test/fm_coeffs_Thorben_ref"
   ]
  },
  {
   "cell_type": "code",
   "execution_count": 57,
   "metadata": {},
   "outputs": [],
   "source": [
    "for s in ['CAAU']:  # 'AAAA', 'CAAU']:\n",
    "    for s2 in ['forward_qs']:\n",
    "        path = 'DATA_test/%s/%s/' % (s, s2)\n",
    "        file_names = os.listdir('DATA_test/' + s + '/' + s2 + '/')\n",
    "        for s3 in file_names:\n",
    "            vec = np.load(path + s3)[::10000, :2]\n",
    "            np.save(path + s3, vec)\n",
    "\n",
    "    for s2 in ['g_exp', 'names']:\n",
    "        path = 'DATA_test/%s/%s/' % (s, s2)\n",
    "        file_names = os.listdir('DATA_test/' + s + '/' + s2 + '/')\n",
    "        for s3 in file_names:\n",
    "            vec = np.load(path + s3)[:2]\n",
    "            np.save(path + s3, vec)\n",
    "\n",
    "    for s2 in ['g']:\n",
    "        path = 'DATA_test/%s/observables/' % s\n",
    "        file_names = ['NOEs', 'uNOEs']\n",
    "        for s3 in file_names:\n",
    "            vec = np.load(path + s3 + '.npy')[::10000, :2]\n",
    "            np.save(path + s3, vec)\n",
    "\n",
    "    vec = np.load('DATA_test/%s/ff_terms.npy' % s)[::10000]\n",
    "    np.save('DATA_test/%s/ff_terms.npy' % s, vec)\n",
    "\n",
    "    vec = np.load('DATA_test/%s/replica_temp.npy' % s)[::10000]\n",
    "    np.save('DATA_test/%s/replica_temp.npy' % s, vec)\n",
    "\n"
   ]
  },
  {
   "cell_type": "code",
   "execution_count": 63,
   "metadata": {},
   "outputs": [],
   "source": [
    "for s in ['A1_AD', 'A1_MD', 'A1_AS', 'A1_MS']:\n",
    "    vec = np.load('DATA_test/%s/weights.npy' % s)[::1000]\n",
    "    np.save('DATA_test/%s/weights.npy' % s, vec)\n",
    "\n",
    "for s in ['A1_MD', 'A1_MS']:\n",
    "    vec = np.load('DATA_test/%s/ff_terms.npy' % s)[::1000]\n",
    "    np.save('DATA_test/%s/ff_terms.npy' % s, vec)"
   ]
  },
  {
   "cell_type": "markdown",
   "metadata": {},
   "source": [
    "#### load data and save as pickle"
   ]
  },
  {
   "cell_type": "code",
   "execution_count": 11,
   "metadata": {},
   "outputs": [],
   "source": [
    "from MDRefine import load_data"
   ]
  },
  {
   "cell_type": "code",
   "execution_count": 35,
   "metadata": {},
   "outputs": [
    {
     "name": "stdout",
     "output_type": "stream",
     "text": [
      "loading data from directory...\n",
      "loading  AAAA\n",
      "loading  CAAU\n",
      "done\n"
     ]
    }
   ],
   "source": [
    "infos = {}\n",
    "infos['global'] = {'path_directory': 'DATA_test', 'system_names': ['AAAA', 'CAAU']}\n",
    "\n",
    "for name in infos['global']['system_names']:\n",
    "    infos[name] = {}\n",
    "    infos[name]['g_exp'] = ['NOEs', ('uNOEs','<')]\n",
    "    infos[name]['obs'] = ['NOEs', 'uNOEs']\n",
    "\n",
    "infos['global']['temperature'] = 1 # namely, energies are in unit of k_B T (default value)\n",
    "\n",
    "data = load_data(infos, stride=2)\n"
   ]
  },
  {
   "cell_type": "code",
   "execution_count": 36,
   "metadata": {},
   "outputs": [],
   "source": [
    "with open('DATA_test/data_stride2.pkl', 'wb') as f:\n",
    "    pickle.dump(vars(data), f)"
   ]
  },
  {
   "cell_type": "markdown",
   "metadata": {},
   "source": [
    "### test load_data\n",
    "\n",
    "compare output of load_data with the pre-loaded data object, which is stored as pickle"
   ]
  },
  {
   "cell_type": "code",
   "execution_count": 3,
   "metadata": {},
   "outputs": [],
   "source": [
    "from MDRefine import load_data"
   ]
  },
  {
   "cell_type": "code",
   "execution_count": 4,
   "metadata": {},
   "outputs": [],
   "source": [
    "infos = {}\n",
    "\n",
    "# Firstly, define global properties, valid for all the systems:\n",
    "\n",
    "infos['global'] = {'path_directory': 'DATA_test', 'system_names': ['AAAA', 'CAAU']}\n",
    "\n",
    "# Then, define properties which are specific of each system, like experimental data and observables\n",
    "\n",
    "for name in infos['global']['system_names']:\n",
    "    infos[name] = {}\n",
    "    \n",
    "    # experimental observables (average and uncertainty), corresponding to 'file_name'.npy in DATA/system_name/g_exp/\n",
    "    # uNOEs values are upper bounds, so specify '<' with ('uNOEs','<')\n",
    "    infos[name]['g_exp'] = ['NOEs', ('uNOEs','<')]\n",
    "    \n",
    "    # observables from MD simulations, corresponding to 'file_name'.npy in DATA/system_name/observables/\n",
    "    # they must correspond also to items of infos[name]['g_exp']\n",
    "    infos[name]['obs'] = ['NOEs', 'uNOEs']\n",
    "\n",
    "# If some properties are the same for all the systems, you can store them just once in infos['global']\n",
    "\n",
    "infos['global']['temperature'] = 1 # namely, energies are in unit of k_B T (default value)\n",
    "# (in this case, you could do this also for 'g_exp' and 'obs')"
   ]
  },
  {
   "cell_type": "code",
   "execution_count": 5,
   "metadata": {},
   "outputs": [
    {
     "name": "stderr",
     "output_type": "stream",
     "text": [
      "WARNING:absl:No GPU/TPU found, falling back to CPU. (Set TF_CPP_MIN_LOG_LEVEL=0 and rerun for more info.)\n"
     ]
    },
    {
     "name": "stdout",
     "output_type": "stream",
     "text": [
      "loading data from directory...\n",
      "loading  AAAA\n",
      "loading  CAAU\n",
      "done\n"
     ]
    }
   ],
   "source": [
    "data = load_data(infos)"
   ]
  },
  {
   "cell_type": "code",
   "execution_count": 6,
   "metadata": {},
   "outputs": [
    {
     "data": {
      "text/plain": [
       "{'temperature': 1,\n",
       " 'gexp': {'NOEs': array([[7.74312661e-04, 4.56174227e-04],\n",
       "         [8.17622013e-05, 7.09253186e-05]]),\n",
       "  'uNOEs': array([[1.58193730e-04, 2.39877632e-05],\n",
       "         [7.22476158e-05, 9.51458553e-06]])},\n",
       " 'names': {'NOEs': array([[\"A1-H1'\", 'A1-H8'],\n",
       "         [\"A1-H1'\", 'A2-H8']], dtype='<U7'),\n",
       "  'uNOEs': array([[\"A1-H1'\", \"A2-H4'\"],\n",
       "         [\"A1-H1'\", \"A3-H1'\"]], dtype='<U7')},\n",
       " 'ref': {'NOEs': '=', 'uNOEs': '<'},\n",
       " 'g': {'NOEs': memmap([[3.78438242e-04, 6.64434046e-05],\n",
       "          [8.24084855e-04, 5.37090818e-05],\n",
       "          [4.24279075e-04, 8.45648974e-05],\n",
       "          [5.57313382e-04, 6.57341152e-05],\n",
       "          [3.65299667e-04, 3.69220197e-06],\n",
       "          [2.89047486e-03, 1.00485659e-05],\n",
       "          [4.10240405e-04, 8.74714679e-05],\n",
       "          [3.12228408e-03, 1.53735527e-05],\n",
       "          [4.78437869e-03, 1.16904630e-05],\n",
       "          [2.48920987e-04, 1.28376223e-06],\n",
       "          [2.85325595e-03, 1.08458007e-05],\n",
       "          [7.43237499e-04, 2.90249372e-05],\n",
       "          [2.33285697e-04, 8.33210288e-05],\n",
       "          [2.73841806e-03, 2.61733912e-05],\n",
       "          [2.84928305e-04, 3.56526252e-05],\n",
       "          [3.84235731e-03, 7.05284356e-06],\n",
       "          [4.18393919e-03, 1.12825473e-05],\n",
       "          [3.08533956e-04, 1.89376922e-04],\n",
       "          [4.29437321e-04, 7.07995641e-05],\n",
       "          [3.73830041e-03, 9.66604966e-06],\n",
       "          [2.35516788e-03, 7.87666431e-06],\n",
       "          [3.77996534e-04, 9.22315303e-06],\n",
       "          [4.05285833e-03, 1.90017236e-05],\n",
       "          [5.74422162e-03, 1.83358970e-05],\n",
       "          [4.20605298e-03, 6.44325155e-07],\n",
       "          [5.43911883e-04, 7.44017088e-05],\n",
       "          [4.44921956e-04, 6.28719499e-05],\n",
       "          [2.76406296e-04, 5.87344402e-06],\n",
       "          [3.04537709e-03, 6.05218884e-05],\n",
       "          [6.98029762e-03, 5.70094755e-07],\n",
       "          [2.36349850e-04, 1.70316453e-05],\n",
       "          [3.62183666e-04, 2.90367170e-05],\n",
       "          [2.97728740e-03, 6.97118185e-06],\n",
       "          [2.80710810e-04, 2.86177601e-06],\n",
       "          [3.93309048e-04, 1.14651164e-04],\n",
       "          [4.63821134e-03, 5.35958407e-06],\n",
       "          [4.13034111e-04, 2.93270059e-05],\n",
       "          [2.37463973e-03, 1.02996055e-05],\n",
       "          [3.01002664e-03, 4.61789605e-05],\n",
       "          [3.32826894e-04, 7.41412805e-05],\n",
       "          [3.73271236e-04, 1.03476132e-05],\n",
       "          [2.70061917e-03, 1.33305468e-04],\n",
       "          [3.52150667e-03, 3.39531252e-05],\n",
       "          [5.86984388e-04, 1.17899588e-04],\n",
       "          [2.83291651e-04, 1.43707512e-05],\n",
       "          [2.89784744e-04, 4.80403560e-06],\n",
       "          [5.65453898e-04, 8.84312904e-05],\n",
       "          [4.63791570e-04, 7.01879762e-05],\n",
       "          [3.21979844e-03, 1.94245622e-05],\n",
       "          [5.44764916e-04, 7.13658810e-05],\n",
       "          [1.59964873e-03, 1.12502603e-05],\n",
       "          [3.95019073e-04, 5.41581103e-05],\n",
       "          [3.01924476e-04, 9.82731290e-05],\n",
       "          [2.85756221e-04, 5.19040477e-05],\n",
       "          [4.41275362e-04, 7.51142725e-05],\n",
       "          [3.57941084e-04, 1.65419624e-05],\n",
       "          [2.88985996e-03, 2.30764854e-05],\n",
       "          [2.43784001e-04, 7.89919068e-06],\n",
       "          [4.85029258e-03, 1.95938737e-05],\n",
       "          [3.72143608e-04, 4.76435307e-05],\n",
       "          [2.95462494e-04, 1.60836644e-05],\n",
       "          [4.58226586e-03, 3.25684414e-05],\n",
       "          [5.22059447e-04, 3.17505692e-05],\n",
       "          [6.52242801e-04, 5.41051850e-05],\n",
       "          [3.13642202e-04, 7.15642773e-06],\n",
       "          [3.22837662e-03, 1.97172594e-05],\n",
       "          [2.52001034e-03, 1.18290118e-05],\n",
       "          [3.32778669e-04, 1.36828976e-05],\n",
       "          [3.54118994e-04, 5.20111280e-05],\n",
       "          [2.49241217e-04, 9.03530054e-06],\n",
       "          [4.31445835e-04, 6.64952240e-05],\n",
       "          [7.44367135e-04, 6.30985014e-05],\n",
       "          [3.84145021e-03, 2.38229968e-05],\n",
       "          [6.94210990e-04, 1.25372157e-04],\n",
       "          [2.57631124e-04, 6.88496721e-06],\n",
       "          [6.36812183e-04, 7.64719443e-05],\n",
       "          [4.24272148e-03, 2.65362396e-05],\n",
       "          [2.19093752e-03, 5.66578547e-06],\n",
       "          [3.66264780e-04, 5.47278578e-05],\n",
       "          [2.62128655e-04, 6.88756791e-06],\n",
       "          [4.08272375e-04, 5.46688534e-06],\n",
       "          [4.32619313e-03, 1.10602814e-05],\n",
       "          [4.42280294e-03, 2.99490671e-06],\n",
       "          [2.73185113e-04, 4.56534281e-06],\n",
       "          [3.84907727e-03, 5.15432330e-04],\n",
       "          [2.92575685e-04, 8.48773834e-06],\n",
       "          [3.17430915e-03, 2.33985102e-05],\n",
       "          [2.83824559e-03, 2.22624454e-04],\n",
       "          [4.50013299e-03, 9.88288739e-05],\n",
       "          [3.01227934e-04, 2.65825838e-05],\n",
       "          [6.48192316e-03, 8.35321844e-05],\n",
       "          [3.06397647e-04, 1.70964995e-05],\n",
       "          [4.92761144e-04, 5.04037598e-05],\n",
       "          [2.78430321e-04, 3.25901988e-06],\n",
       "          [6.98708091e-03, 2.27556629e-05],\n",
       "          [5.46221761e-03, 2.59693206e-05],\n",
       "          [4.78026411e-03, 2.73889273e-05],\n",
       "          [3.27866903e-04, 7.14188673e-06],\n",
       "          [3.10181570e-03, 7.24334404e-06],\n",
       "          [3.32339038e-03, 1.31322267e-05],\n",
       "          [3.55058652e-03, 6.63466562e-05],\n",
       "          [4.19835001e-03, 2.45639785e-06]], dtype=float32),\n",
       "  'uNOEs': memmap([[2.78761272e-05, 8.57926921e-07],\n",
       "          [1.05725903e-05, 4.45161533e-07],\n",
       "          [1.38456917e-05, 5.72764122e-07],\n",
       "          [1.26527320e-05, 4.08776032e-07],\n",
       "          [2.09710583e-06, 2.92790537e-06],\n",
       "          [4.40691383e-06, 1.36062158e-06],\n",
       "          [1.66953814e-05, 5.29573526e-07],\n",
       "          [1.70877956e-05, 4.63444707e-07],\n",
       "          [9.50593494e-06, 2.14059401e-06],\n",
       "          [3.61906950e-06, 6.17318904e-07],\n",
       "          [9.29797989e-06, 1.26919508e-06],\n",
       "          [8.19996421e-06, 4.02410933e-07],\n",
       "          [3.81615473e-06, 5.33246350e-07],\n",
       "          [1.38668456e-05, 6.00645478e-07],\n",
       "          [2.04194021e-06, 1.39635722e-06],\n",
       "          [1.15841840e-05, 1.74904514e-07],\n",
       "          [1.14059585e-05, 4.22895113e-07],\n",
       "          [1.06493553e-05, 5.05904154e-07],\n",
       "          [1.30552235e-05, 5.19292257e-07],\n",
       "          [9.62139620e-06, 2.39210351e-07],\n",
       "          [8.23258088e-05, 5.01323084e-05],\n",
       "          [8.21114008e-06, 2.40762034e-07],\n",
       "          [1.00530560e-05, 8.02821489e-07],\n",
       "          [9.89970613e-06, 7.59069621e-07],\n",
       "          [5.90185346e-06, 6.68233326e-07],\n",
       "          [1.73069293e-05, 5.03775539e-07],\n",
       "          [9.97695679e-06, 4.05195976e-07],\n",
       "          [2.17691741e-06, 2.89767422e-06],\n",
       "          [1.57533977e-05, 1.51009021e-06],\n",
       "          [8.13159386e-06, 2.03532509e-05],\n",
       "          [1.18889475e-05, 5.33518175e-07],\n",
       "          [9.83065274e-06, 5.14033161e-07],\n",
       "          [4.31554963e-06, 4.99784051e-07],\n",
       "          [4.70127361e-06, 3.46477418e-06],\n",
       "          [1.28779957e-05, 7.88989325e-07],\n",
       "          [8.57786017e-06, 3.47313630e-07],\n",
       "          [1.17213176e-05, 6.50062475e-07],\n",
       "          [1.47104965e-05, 3.53457864e-07],\n",
       "          [1.94453223e-05, 1.93085157e-07],\n",
       "          [1.87118549e-05, 7.97735822e-07],\n",
       "          [2.55835539e-06, 3.16216392e-06],\n",
       "          [1.35964838e-05, 3.25413055e-07],\n",
       "          [1.89865004e-05, 3.72269938e-07],\n",
       "          [8.04873525e-06, 5.61447564e-07],\n",
       "          [2.46315267e-05, 7.18640081e-07],\n",
       "          [2.01024682e-06, 2.97970200e-06],\n",
       "          [1.38560636e-05, 3.56807476e-07],\n",
       "          [1.55566468e-05, 6.15103886e-07],\n",
       "          [8.13759016e-06, 3.39635790e-07],\n",
       "          [1.91489435e-05, 4.72385096e-07],\n",
       "          [9.70959354e-06, 3.21686031e-07],\n",
       "          [1.98436719e-05, 3.98953745e-07],\n",
       "          [2.20321490e-05, 7.23321705e-07],\n",
       "          [1.22023775e-05, 5.31351930e-07],\n",
       "          [7.41216945e-06, 5.19382297e-07],\n",
       "          [1.19674296e-05, 1.09583789e-06],\n",
       "          [1.29835244e-05, 4.41198068e-07],\n",
       "          [1.40144275e-05, 4.06478563e-07],\n",
       "          [1.40169432e-05, 6.66240396e-07],\n",
       "          [8.59812371e-06, 6.41483041e-07],\n",
       "          [1.27402491e-05, 8.40277380e-07],\n",
       "          [1.43176558e-05, 5.60094122e-07],\n",
       "          [1.25235165e-05, 3.70537862e-07],\n",
       "          [1.82573312e-05, 4.78631307e-07],\n",
       "          [1.89959235e-06, 2.39198266e-06],\n",
       "          [1.48343624e-05, 3.38530924e-07],\n",
       "          [7.42702787e-06, 2.24044584e-07],\n",
       "          [1.47583569e-05, 4.59263561e-07],\n",
       "          [1.97406953e-05, 6.31046646e-07],\n",
       "          [2.54780230e-06, 3.15469924e-06],\n",
       "          [2.22418021e-05, 7.75292847e-07],\n",
       "          [5.98453198e-06, 5.19119396e-07],\n",
       "          [1.64564026e-05, 4.76136506e-07],\n",
       "          [1.02114918e-05, 5.54829171e-07],\n",
       "          [4.06295294e-06, 2.81428402e-06],\n",
       "          [9.37165350e-06, 5.32861009e-07],\n",
       "          [1.54218160e-05, 9.22775598e-08],\n",
       "          [8.04678348e-06, 2.15703352e-07],\n",
       "          [1.39454214e-05, 2.52938491e-07],\n",
       "          [2.40463828e-06, 2.30831779e-06],\n",
       "          [3.51496192e-06, 2.35010020e-06],\n",
       "          [3.52100210e-06, 2.56682284e-07],\n",
       "          [7.73830561e-06, 6.85360646e-05],\n",
       "          [3.13470082e-06, 1.40424061e-06],\n",
       "          [1.32197310e-05, 3.43562802e-04],\n",
       "          [9.20530510e-06, 1.44418095e-07],\n",
       "          [1.81089240e-06, 3.78714390e-07],\n",
       "          [1.29074015e-05, 3.71665192e-06],\n",
       "          [5.23142080e-06, 6.94138578e-07],\n",
       "          [3.50511755e-06, 9.56167605e-06],\n",
       "          [1.49674379e-05, 4.01096770e-07],\n",
       "          [2.51122856e-06, 4.25880899e-06],\n",
       "          [2.09126374e-05, 5.39134646e-07],\n",
       "          [6.23253072e-06, 8.00219459e-06],\n",
       "          [1.49078405e-05, 3.60301101e-07],\n",
       "          [1.78624869e-05, 3.80393459e-07],\n",
       "          [5.68103133e-06, 2.13728981e-07],\n",
       "          [2.43428258e-06, 2.21899904e-06],\n",
       "          [1.18594224e-04, 4.00969657e-06],\n",
       "          [1.42109357e-05, 3.00800423e-07],\n",
       "          [1.08772692e-05, 2.60828472e-07],\n",
       "          [7.89893602e-05, 6.66212100e-06]], dtype=float32)},\n",
       " 'weights': DeviceArray([0.00980392, 0.00980392, 0.00980392, 0.00980392, 0.00980392,\n",
       "              0.00980392, 0.00980392, 0.00980392, 0.00980392, 0.00980392,\n",
       "              0.00980392, 0.00980392, 0.00980392, 0.00980392, 0.00980392,\n",
       "              0.00980392, 0.00980392, 0.00980392, 0.00980392, 0.00980392,\n",
       "              0.00980392, 0.00980392, 0.00980392, 0.00980392, 0.00980392,\n",
       "              0.00980392, 0.00980392, 0.00980392, 0.00980392, 0.00980392,\n",
       "              0.00980392, 0.00980392, 0.00980392, 0.00980392, 0.00980392,\n",
       "              0.00980392, 0.00980392, 0.00980392, 0.00980392, 0.00980392,\n",
       "              0.00980392, 0.00980392, 0.00980392, 0.00980392, 0.00980392,\n",
       "              0.00980392, 0.00980392, 0.00980392, 0.00980392, 0.00980392,\n",
       "              0.00980392, 0.00980392, 0.00980392, 0.00980392, 0.00980392,\n",
       "              0.00980392, 0.00980392, 0.00980392, 0.00980392, 0.00980392,\n",
       "              0.00980392, 0.00980392, 0.00980392, 0.00980392, 0.00980392,\n",
       "              0.00980392, 0.00980392, 0.00980392, 0.00980392, 0.00980392,\n",
       "              0.00980392, 0.00980392, 0.00980392, 0.00980392, 0.00980392,\n",
       "              0.00980392, 0.00980392, 0.00980392, 0.00980392, 0.00980392,\n",
       "              0.00980392, 0.00980392, 0.00980392, 0.00980392, 0.00980392,\n",
       "              0.00980392, 0.00980392, 0.00980392, 0.00980392, 0.00980392,\n",
       "              0.00980392, 0.00980392, 0.00980392, 0.00980392, 0.00980392,\n",
       "              0.00980392, 0.00980392, 0.00980392, 0.00980392, 0.00980392,\n",
       "              0.00980392, 0.00980392], dtype=float64),\n",
       " 'n_experiments': {'NOEs': 2, 'uNOEs': 2},\n",
       " 'n_frames': 102}"
      ]
     },
     "execution_count": 6,
     "metadata": {},
     "output_type": "execute_result"
    }
   ],
   "source": [
    "vars(data.sys['AAAA'])"
   ]
  },
  {
   "cell_type": "code",
   "execution_count": 6,
   "metadata": {},
   "outputs": [],
   "source": [
    "with open('data.pkl', 'rb') as f:\n",
    "    loaded_data = pickle.load(f)"
   ]
  },
  {
   "cell_type": "code",
   "execution_count": 55,
   "metadata": {},
   "outputs": [
    {
     "data": {
      "text/plain": [
       "dict_keys(['system_names'])"
      ]
     },
     "execution_count": 55,
     "metadata": {},
     "output_type": "execute_result"
    }
   ],
   "source": [
    "vars(data._global_).keys()"
   ]
  },
  {
   "cell_type": "code",
   "execution_count": 66,
   "metadata": {},
   "outputs": [
    {
     "data": {
      "text/plain": [
       "{'system_names': ['AAAA', 'CAAU']}"
      ]
     },
     "execution_count": 66,
     "metadata": {},
     "output_type": "execute_result"
    }
   ],
   "source": [
    "vars(loaded_data['_global_'])"
   ]
  },
  {
   "cell_type": "code",
   "execution_count": 67,
   "metadata": {},
   "outputs": [
    {
     "data": {
      "text/plain": [
       "['__class__',\n",
       " '__delattr__',\n",
       " '__dict__',\n",
       " '__dir__',\n",
       " '__doc__',\n",
       " '__eq__',\n",
       " '__format__',\n",
       " '__ge__',\n",
       " '__getattribute__',\n",
       " '__gt__',\n",
       " '__hash__',\n",
       " '__init__',\n",
       " '__init_subclass__',\n",
       " '__le__',\n",
       " '__lt__',\n",
       " '__module__',\n",
       " '__ne__',\n",
       " '__new__',\n",
       " '__reduce__',\n",
       " '__reduce_ex__',\n",
       " '__repr__',\n",
       " '__setattr__',\n",
       " '__sizeof__',\n",
       " '__str__',\n",
       " '__subclasshook__',\n",
       " '__weakref__',\n",
       " 'system_names',\n",
       " 'tot_n_experiments']"
      ]
     },
     "execution_count": 67,
     "metadata": {},
     "output_type": "execute_result"
    }
   ],
   "source": [
    "dir(loaded_data['_global_'])"
   ]
  },
  {
   "cell_type": "code",
   "execution_count": 70,
   "metadata": {},
   "outputs": [
    {
     "data": {
      "text/plain": [
       "['AAAA', 'CAAU']"
      ]
     },
     "execution_count": 70,
     "metadata": {},
     "output_type": "execute_result"
    }
   ],
   "source": [
    "data._global_.system_names"
   ]
  },
  {
   "cell_type": "code",
   "execution_count": 7,
   "metadata": {},
   "outputs": [
    {
     "data": {
      "text/plain": [
       "8"
      ]
     },
     "execution_count": 7,
     "metadata": {},
     "output_type": "execute_result"
    }
   ],
   "source": [
    "data._global_.tot_n_experiments(data)"
   ]
  },
  {
   "cell_type": "code",
   "execution_count": 9,
   "metadata": {},
   "outputs": [],
   "source": [
    "class my_data():\n",
    "    def __init__(self):\n",
    "        self.sys = {}\n",
    "\n",
    "my_loaded_data = my_data()\n",
    "my_loaded_data.sys['AAAA'] = loaded_data['sys']['AAAA']\n",
    "my_loaded_data.sys['CAAU'] = loaded_data['sys']['CAAU']\n"
   ]
  },
  {
   "cell_type": "code",
   "execution_count": 10,
   "metadata": {},
   "outputs": [
    {
     "data": {
      "text/plain": [
       "8"
      ]
     },
     "execution_count": 10,
     "metadata": {},
     "output_type": "execute_result"
    }
   ],
   "source": [
    "loaded_data['_global_'].tot_n_experiments(my_loaded_data)"
   ]
  },
  {
   "cell_type": "code",
   "execution_count": 74,
   "metadata": {},
   "outputs": [
    {
     "ename": "AttributeError",
     "evalue": "'dict' object has no attribute 'sys'",
     "output_type": "error",
     "traceback": [
      "\u001b[0;31m---------------------------------------------------------------------------\u001b[0m",
      "\u001b[0;31mAttributeError\u001b[0m                            Traceback (most recent call last)",
      "\u001b[0;32m<ipython-input-74-bd9e7b6240c3>\u001b[0m in \u001b[0;36m<module>\u001b[0;34m\u001b[0m\n\u001b[1;32m      3\u001b[0m \u001b[0;34m\u001b[0m\u001b[0m\n\u001b[1;32m      4\u001b[0m \u001b[0;32massert\u001b[0m \u001b[0mdata\u001b[0m\u001b[0;34m.\u001b[0m\u001b[0m_global_\u001b[0m\u001b[0;34m.\u001b[0m\u001b[0msystem_names\u001b[0m \u001b[0;34m==\u001b[0m \u001b[0mloaded_data\u001b[0m\u001b[0;34m[\u001b[0m\u001b[0;34m'_global_'\u001b[0m\u001b[0;34m]\u001b[0m\u001b[0;34m.\u001b[0m\u001b[0msystem_names\u001b[0m\u001b[0;34m\u001b[0m\u001b[0;34m\u001b[0m\u001b[0m\n\u001b[0;32m----> 5\u001b[0;31m \u001b[0;32massert\u001b[0m \u001b[0mdata\u001b[0m\u001b[0;34m.\u001b[0m\u001b[0m_global_\u001b[0m\u001b[0;34m.\u001b[0m\u001b[0mtot_n_experiments\u001b[0m\u001b[0;34m(\u001b[0m\u001b[0mdata\u001b[0m\u001b[0;34m)\u001b[0m \u001b[0;34m==\u001b[0m \u001b[0mloaded_data\u001b[0m\u001b[0;34m[\u001b[0m\u001b[0;34m'_global_'\u001b[0m\u001b[0;34m]\u001b[0m\u001b[0;34m.\u001b[0m\u001b[0mtot_n_experiments\u001b[0m\u001b[0;34m(\u001b[0m\u001b[0mloaded_data\u001b[0m\u001b[0;34m)\u001b[0m\u001b[0;34m\u001b[0m\u001b[0;34m\u001b[0m\u001b[0m\n\u001b[0m",
      "\u001b[0;32m~/3_alphabetagamma/MDRefine/MDRefine/data_loading.py\u001b[0m in \u001b[0;36mtot_n_experiments\u001b[0;34m(self, data)\u001b[0m\n\u001b[1;32m    215\u001b[0m \u001b[0;34m\u001b[0m\u001b[0m\n\u001b[1;32m    216\u001b[0m         \u001b[0;32mfor\u001b[0m \u001b[0mk\u001b[0m \u001b[0;32min\u001b[0m \u001b[0mself\u001b[0m\u001b[0;34m.\u001b[0m\u001b[0msystem_names\u001b[0m\u001b[0;34m:\u001b[0m\u001b[0;34m\u001b[0m\u001b[0;34m\u001b[0m\u001b[0m\n\u001b[0;32m--> 217\u001b[0;31m             \u001b[0;32mfor\u001b[0m \u001b[0mitem\u001b[0m \u001b[0;32min\u001b[0m \u001b[0mdata\u001b[0m\u001b[0;34m.\u001b[0m\u001b[0msys\u001b[0m\u001b[0;34m[\u001b[0m\u001b[0mk\u001b[0m\u001b[0;34m]\u001b[0m\u001b[0;34m.\u001b[0m\u001b[0mn_experiments\u001b[0m\u001b[0;34m.\u001b[0m\u001b[0mvalues\u001b[0m\u001b[0;34m(\u001b[0m\u001b[0;34m)\u001b[0m\u001b[0;34m:\u001b[0m\u001b[0;34m\u001b[0m\u001b[0;34m\u001b[0m\u001b[0m\n\u001b[0m\u001b[1;32m    218\u001b[0m                 \u001b[0mtot\u001b[0m \u001b[0;34m+=\u001b[0m \u001b[0mitem\u001b[0m\u001b[0;34m\u001b[0m\u001b[0;34m\u001b[0m\u001b[0m\n\u001b[1;32m    219\u001b[0m         \u001b[0;32mreturn\u001b[0m \u001b[0mtot\u001b[0m\u001b[0;34m\u001b[0m\u001b[0;34m\u001b[0m\u001b[0m\n",
      "\u001b[0;31mAttributeError\u001b[0m: 'dict' object has no attribute 'sys'"
     ]
    }
   ],
   "source": [
    "# assert list(vars(data._global_).keys()) == list(vars(loaded_data['_global_']).keys())\n",
    "assert dir(data._global_) == dir(loaded_data['_global_'])\n",
    "\n",
    "assert data._global_.system_names == loaded_data['_global_'].system_names\n",
    "assert data._global_.tot_n_experiments(data) == loaded_data['_global_'].tot_n_experiments(loaded_data)"
   ]
  },
  {
   "cell_type": "code",
   "execution_count": 77,
   "metadata": {},
   "outputs": [
    {
     "data": {
      "text/plain": [
       "{'_global_': <MDRefine.data_loading.data_global_class at 0x7f3eb86abcc0>,\n",
       " 'sys': {'AAAA': <MDRefine.data_loading.data_class at 0x7f3eb86abc18>,\n",
       "  'CAAU': <MDRefine.data_loading.data_class at 0x7f3eb86ab940>}}"
      ]
     },
     "execution_count": 77,
     "metadata": {},
     "output_type": "execute_result"
    }
   ],
   "source": [
    "# loaded_data['_global_'].tot_n_experiments(loaded_data)\n",
    "\n",
    "loaded_data"
   ]
  },
  {
   "cell_type": "code",
   "execution_count": 59,
   "metadata": {},
   "outputs": [
    {
     "data": {
      "text/plain": [
       "['system_names',\n",
       " '__module__',\n",
       " '__doc__',\n",
       " '__init__',\n",
       " 'tot_n_experiments',\n",
       " '__dict__',\n",
       " '__weakref__',\n",
       " '__repr__',\n",
       " '__hash__',\n",
       " '__str__',\n",
       " '__getattribute__',\n",
       " '__setattr__',\n",
       " '__delattr__',\n",
       " '__lt__',\n",
       " '__le__',\n",
       " '__eq__',\n",
       " '__ne__',\n",
       " '__gt__',\n",
       " '__ge__',\n",
       " '__new__',\n",
       " '__reduce_ex__',\n",
       " '__reduce__',\n",
       " '__subclasshook__',\n",
       " '__init_subclass__',\n",
       " '__format__',\n",
       " '__sizeof__',\n",
       " '__dir__',\n",
       " '__class__']"
      ]
     },
     "execution_count": 59,
     "metadata": {},
     "output_type": "execute_result"
    }
   ],
   "source": [
    "data._global_.__dir__()"
   ]
  },
  {
   "cell_type": "code",
   "execution_count": 12,
   "metadata": {},
   "outputs": [
    {
     "ename": "ValueError",
     "evalue": "The truth value of an array with more than one element is ambiguous. Use a.any() or a.all()",
     "output_type": "error",
     "traceback": [
      "\u001b[0;31m---------------------------------------------------------------------------\u001b[0m",
      "\u001b[0;31mValueError\u001b[0m                                Traceback (most recent call last)",
      "\u001b[0;32m<ipython-input-12-7327bceed5f1>\u001b[0m in \u001b[0;36m<module>\u001b[0;34m\u001b[0m\n\u001b[0;32m----> 1\u001b[0;31m \u001b[0;32massert\u001b[0m \u001b[0mvars\u001b[0m\u001b[0;34m(\u001b[0m\u001b[0mdata\u001b[0m\u001b[0;34m.\u001b[0m\u001b[0msys\u001b[0m\u001b[0;34m[\u001b[0m\u001b[0;34m'AAAA'\u001b[0m\u001b[0;34m]\u001b[0m\u001b[0;34m)\u001b[0m \u001b[0;34m==\u001b[0m \u001b[0mvars\u001b[0m\u001b[0;34m(\u001b[0m\u001b[0mloaded_dict\u001b[0m\u001b[0;34m[\u001b[0m\u001b[0;34m'sys'\u001b[0m\u001b[0;34m]\u001b[0m\u001b[0;34m[\u001b[0m\u001b[0;34m'AAAA'\u001b[0m\u001b[0;34m]\u001b[0m\u001b[0;34m)\u001b[0m\u001b[0;34m\u001b[0m\u001b[0;34m\u001b[0m\u001b[0m\n\u001b[0m",
      "\u001b[0;31mValueError\u001b[0m: The truth value of an array with more than one element is ambiguous. Use a.any() or a.all()"
     ]
    }
   ],
   "source": [
    "assert vars(data.sys['AAAA']) == vars(loaded_dict['sys']['AAAA'])"
   ]
  },
  {
   "cell_type": "markdown",
   "metadata": {},
   "source": [
    "#### assert does not work\n",
    "because we cannot compare two dictionaries containing numpy arrays"
   ]
  },
  {
   "cell_type": "code",
   "execution_count": 15,
   "metadata": {},
   "outputs": [
    {
     "ename": "ValueError",
     "evalue": "The truth value of an array with more than one element is ambiguous. Use a.any() or a.all()",
     "output_type": "error",
     "traceback": [
      "\u001b[0;31m---------------------------------------------------------------------------\u001b[0m",
      "\u001b[0;31mValueError\u001b[0m                                Traceback (most recent call last)",
      "\u001b[0;32m<ipython-input-15-2a03acee5b43>\u001b[0m in \u001b[0;36m<module>\u001b[0;34m\u001b[0m\n\u001b[1;32m      2\u001b[0m \u001b[0mmy_dict2\u001b[0m \u001b[0;34m=\u001b[0m \u001b[0;34m{\u001b[0m\u001b[0;34m'a'\u001b[0m\u001b[0;34m:\u001b[0m \u001b[0mnp\u001b[0m\u001b[0;34m.\u001b[0m\u001b[0marray\u001b[0m\u001b[0;34m(\u001b[0m\u001b[0;34m[\u001b[0m\u001b[0;36m1.5\u001b[0m\u001b[0;34m,\u001b[0m \u001b[0;36m2.5\u001b[0m\u001b[0;34m]\u001b[0m\u001b[0;34m)\u001b[0m\u001b[0;34m,\u001b[0m \u001b[0;34m'b'\u001b[0m\u001b[0;34m:\u001b[0m \u001b[0mnp\u001b[0m\u001b[0;34m.\u001b[0m\u001b[0marray\u001b[0m\u001b[0;34m(\u001b[0m\u001b[0;34m[\u001b[0m\u001b[0;36m1.2\u001b[0m\u001b[0;34m,\u001b[0m \u001b[0;36m2.4\u001b[0m\u001b[0;34m,\u001b[0m \u001b[0;36m3.6\u001b[0m\u001b[0;34m]\u001b[0m\u001b[0;34m)\u001b[0m\u001b[0;34m}\u001b[0m\u001b[0;34m\u001b[0m\u001b[0;34m\u001b[0m\u001b[0m\n\u001b[1;32m      3\u001b[0m \u001b[0;34m\u001b[0m\u001b[0m\n\u001b[0;32m----> 4\u001b[0;31m \u001b[0;32massert\u001b[0m \u001b[0;34m(\u001b[0m\u001b[0mmy_dict1\u001b[0m \u001b[0;34m==\u001b[0m \u001b[0mmy_dict2\u001b[0m\u001b[0;34m)\u001b[0m\u001b[0;34m.\u001b[0m\u001b[0mall\u001b[0m\u001b[0;34m(\u001b[0m\u001b[0;34m)\u001b[0m\u001b[0;34m\u001b[0m\u001b[0;34m\u001b[0m\u001b[0m\n\u001b[0m",
      "\u001b[0;31mValueError\u001b[0m: The truth value of an array with more than one element is ambiguous. Use a.any() or a.all()"
     ]
    }
   ],
   "source": [
    "my_dict1 = {'a': np.array([1.5, 2.5]), 'b': np.array([1.2, 2.4, 3.6])}\n",
    "my_dict2 = {'a': np.array([1.5, 2.5]), 'b': np.array([1.2, 2.4, 3.6])}\n",
    "\n",
    "assert (my_dict1 == my_dict2).all()"
   ]
  },
  {
   "cell_type": "markdown",
   "metadata": {},
   "source": [
    "this works:"
   ]
  },
  {
   "cell_type": "code",
   "execution_count": 16,
   "metadata": {},
   "outputs": [],
   "source": [
    "assert (my_dict1['a'] == my_dict2['a']).all()"
   ]
  },
  {
   "cell_type": "markdown",
   "metadata": {},
   "source": [
    "#### so, let's proceed for extended"
   ]
  },
  {
   "cell_type": "code",
   "execution_count": 30,
   "metadata": {},
   "outputs": [
    {
     "data": {
      "text/plain": [
       "{'temperature': 1,\n",
       " 'gexp': {'NOEs': array([[7.74312661e-04, 4.56174227e-04],\n",
       "         [8.17622013e-05, 7.09253186e-05]]),\n",
       "  'uNOEs': array([[1.58193730e-04, 2.39877632e-05],\n",
       "         [7.22476158e-05, 9.51458553e-06]])},\n",
       " 'names': {'NOEs': array([[\"A1-H1'\", 'A1-H8'],\n",
       "         [\"A1-H1'\", 'A2-H8']], dtype='<U7'),\n",
       "  'uNOEs': array([[\"A1-H1'\", \"A2-H4'\"],\n",
       "         [\"A1-H1'\", \"A3-H1'\"]], dtype='<U7')},\n",
       " 'ref': {'NOEs': '=', 'uNOEs': '<'},\n",
       " 'g': {'NOEs': memmap([[3.78438242e-04, 6.64434046e-05],\n",
       "          [8.24084855e-04, 5.37090818e-05],\n",
       "          [4.24279075e-04, 8.45648974e-05],\n",
       "          [5.57313382e-04, 6.57341152e-05],\n",
       "          [3.65299667e-04, 3.69220197e-06],\n",
       "          [2.89047486e-03, 1.00485659e-05],\n",
       "          [4.10240405e-04, 8.74714679e-05],\n",
       "          [3.12228408e-03, 1.53735527e-05],\n",
       "          [4.78437869e-03, 1.16904630e-05],\n",
       "          [2.48920987e-04, 1.28376223e-06],\n",
       "          [2.85325595e-03, 1.08458007e-05],\n",
       "          [7.43237499e-04, 2.90249372e-05],\n",
       "          [2.33285697e-04, 8.33210288e-05],\n",
       "          [2.73841806e-03, 2.61733912e-05],\n",
       "          [2.84928305e-04, 3.56526252e-05],\n",
       "          [3.84235731e-03, 7.05284356e-06],\n",
       "          [4.18393919e-03, 1.12825473e-05],\n",
       "          [3.08533956e-04, 1.89376922e-04],\n",
       "          [4.29437321e-04, 7.07995641e-05],\n",
       "          [3.73830041e-03, 9.66604966e-06],\n",
       "          [2.35516788e-03, 7.87666431e-06],\n",
       "          [3.77996534e-04, 9.22315303e-06],\n",
       "          [4.05285833e-03, 1.90017236e-05],\n",
       "          [5.74422162e-03, 1.83358970e-05],\n",
       "          [4.20605298e-03, 6.44325155e-07],\n",
       "          [5.43911883e-04, 7.44017088e-05],\n",
       "          [4.44921956e-04, 6.28719499e-05],\n",
       "          [2.76406296e-04, 5.87344402e-06],\n",
       "          [3.04537709e-03, 6.05218884e-05],\n",
       "          [6.98029762e-03, 5.70094755e-07],\n",
       "          [2.36349850e-04, 1.70316453e-05],\n",
       "          [3.62183666e-04, 2.90367170e-05],\n",
       "          [2.97728740e-03, 6.97118185e-06],\n",
       "          [2.80710810e-04, 2.86177601e-06],\n",
       "          [3.93309048e-04, 1.14651164e-04],\n",
       "          [4.63821134e-03, 5.35958407e-06],\n",
       "          [4.13034111e-04, 2.93270059e-05],\n",
       "          [2.37463973e-03, 1.02996055e-05],\n",
       "          [3.01002664e-03, 4.61789605e-05],\n",
       "          [3.32826894e-04, 7.41412805e-05],\n",
       "          [3.73271236e-04, 1.03476132e-05],\n",
       "          [2.70061917e-03, 1.33305468e-04],\n",
       "          [3.52150667e-03, 3.39531252e-05],\n",
       "          [5.86984388e-04, 1.17899588e-04],\n",
       "          [2.83291651e-04, 1.43707512e-05],\n",
       "          [2.89784744e-04, 4.80403560e-06],\n",
       "          [5.65453898e-04, 8.84312904e-05],\n",
       "          [4.63791570e-04, 7.01879762e-05],\n",
       "          [3.21979844e-03, 1.94245622e-05],\n",
       "          [5.44764916e-04, 7.13658810e-05],\n",
       "          [1.59964873e-03, 1.12502603e-05],\n",
       "          [3.95019073e-04, 5.41581103e-05],\n",
       "          [3.01924476e-04, 9.82731290e-05],\n",
       "          [2.85756221e-04, 5.19040477e-05],\n",
       "          [4.41275362e-04, 7.51142725e-05],\n",
       "          [3.57941084e-04, 1.65419624e-05],\n",
       "          [2.88985996e-03, 2.30764854e-05],\n",
       "          [2.43784001e-04, 7.89919068e-06],\n",
       "          [4.85029258e-03, 1.95938737e-05],\n",
       "          [3.72143608e-04, 4.76435307e-05],\n",
       "          [2.95462494e-04, 1.60836644e-05],\n",
       "          [4.58226586e-03, 3.25684414e-05],\n",
       "          [5.22059447e-04, 3.17505692e-05],\n",
       "          [6.52242801e-04, 5.41051850e-05],\n",
       "          [3.13642202e-04, 7.15642773e-06],\n",
       "          [3.22837662e-03, 1.97172594e-05],\n",
       "          [2.52001034e-03, 1.18290118e-05],\n",
       "          [3.32778669e-04, 1.36828976e-05],\n",
       "          [3.54118994e-04, 5.20111280e-05],\n",
       "          [2.49241217e-04, 9.03530054e-06],\n",
       "          [4.31445835e-04, 6.64952240e-05],\n",
       "          [7.44367135e-04, 6.30985014e-05],\n",
       "          [3.84145021e-03, 2.38229968e-05],\n",
       "          [6.94210990e-04, 1.25372157e-04],\n",
       "          [2.57631124e-04, 6.88496721e-06],\n",
       "          [6.36812183e-04, 7.64719443e-05],\n",
       "          [4.24272148e-03, 2.65362396e-05],\n",
       "          [2.19093752e-03, 5.66578547e-06],\n",
       "          [3.66264780e-04, 5.47278578e-05],\n",
       "          [2.62128655e-04, 6.88756791e-06],\n",
       "          [4.08272375e-04, 5.46688534e-06],\n",
       "          [4.32619313e-03, 1.10602814e-05],\n",
       "          [4.42280294e-03, 2.99490671e-06],\n",
       "          [2.73185113e-04, 4.56534281e-06],\n",
       "          [3.84907727e-03, 5.15432330e-04],\n",
       "          [2.92575685e-04, 8.48773834e-06],\n",
       "          [3.17430915e-03, 2.33985102e-05],\n",
       "          [2.83824559e-03, 2.22624454e-04],\n",
       "          [4.50013299e-03, 9.88288739e-05],\n",
       "          [3.01227934e-04, 2.65825838e-05],\n",
       "          [6.48192316e-03, 8.35321844e-05],\n",
       "          [3.06397647e-04, 1.70964995e-05],\n",
       "          [4.92761144e-04, 5.04037598e-05],\n",
       "          [2.78430321e-04, 3.25901988e-06],\n",
       "          [6.98708091e-03, 2.27556629e-05],\n",
       "          [5.46221761e-03, 2.59693206e-05],\n",
       "          [4.78026411e-03, 2.73889273e-05],\n",
       "          [3.27866903e-04, 7.14188673e-06],\n",
       "          [3.10181570e-03, 7.24334404e-06],\n",
       "          [3.32339038e-03, 1.31322267e-05],\n",
       "          [3.55058652e-03, 6.63466562e-05],\n",
       "          [4.19835001e-03, 2.45639785e-06]], dtype=float32),\n",
       "  'uNOEs': memmap([[2.78761272e-05, 8.57926921e-07],\n",
       "          [1.05725903e-05, 4.45161533e-07],\n",
       "          [1.38456917e-05, 5.72764122e-07],\n",
       "          [1.26527320e-05, 4.08776032e-07],\n",
       "          [2.09710583e-06, 2.92790537e-06],\n",
       "          [4.40691383e-06, 1.36062158e-06],\n",
       "          [1.66953814e-05, 5.29573526e-07],\n",
       "          [1.70877956e-05, 4.63444707e-07],\n",
       "          [9.50593494e-06, 2.14059401e-06],\n",
       "          [3.61906950e-06, 6.17318904e-07],\n",
       "          [9.29797989e-06, 1.26919508e-06],\n",
       "          [8.19996421e-06, 4.02410933e-07],\n",
       "          [3.81615473e-06, 5.33246350e-07],\n",
       "          [1.38668456e-05, 6.00645478e-07],\n",
       "          [2.04194021e-06, 1.39635722e-06],\n",
       "          [1.15841840e-05, 1.74904514e-07],\n",
       "          [1.14059585e-05, 4.22895113e-07],\n",
       "          [1.06493553e-05, 5.05904154e-07],\n",
       "          [1.30552235e-05, 5.19292257e-07],\n",
       "          [9.62139620e-06, 2.39210351e-07],\n",
       "          [8.23258088e-05, 5.01323084e-05],\n",
       "          [8.21114008e-06, 2.40762034e-07],\n",
       "          [1.00530560e-05, 8.02821489e-07],\n",
       "          [9.89970613e-06, 7.59069621e-07],\n",
       "          [5.90185346e-06, 6.68233326e-07],\n",
       "          [1.73069293e-05, 5.03775539e-07],\n",
       "          [9.97695679e-06, 4.05195976e-07],\n",
       "          [2.17691741e-06, 2.89767422e-06],\n",
       "          [1.57533977e-05, 1.51009021e-06],\n",
       "          [8.13159386e-06, 2.03532509e-05],\n",
       "          [1.18889475e-05, 5.33518175e-07],\n",
       "          [9.83065274e-06, 5.14033161e-07],\n",
       "          [4.31554963e-06, 4.99784051e-07],\n",
       "          [4.70127361e-06, 3.46477418e-06],\n",
       "          [1.28779957e-05, 7.88989325e-07],\n",
       "          [8.57786017e-06, 3.47313630e-07],\n",
       "          [1.17213176e-05, 6.50062475e-07],\n",
       "          [1.47104965e-05, 3.53457864e-07],\n",
       "          [1.94453223e-05, 1.93085157e-07],\n",
       "          [1.87118549e-05, 7.97735822e-07],\n",
       "          [2.55835539e-06, 3.16216392e-06],\n",
       "          [1.35964838e-05, 3.25413055e-07],\n",
       "          [1.89865004e-05, 3.72269938e-07],\n",
       "          [8.04873525e-06, 5.61447564e-07],\n",
       "          [2.46315267e-05, 7.18640081e-07],\n",
       "          [2.01024682e-06, 2.97970200e-06],\n",
       "          [1.38560636e-05, 3.56807476e-07],\n",
       "          [1.55566468e-05, 6.15103886e-07],\n",
       "          [8.13759016e-06, 3.39635790e-07],\n",
       "          [1.91489435e-05, 4.72385096e-07],\n",
       "          [9.70959354e-06, 3.21686031e-07],\n",
       "          [1.98436719e-05, 3.98953745e-07],\n",
       "          [2.20321490e-05, 7.23321705e-07],\n",
       "          [1.22023775e-05, 5.31351930e-07],\n",
       "          [7.41216945e-06, 5.19382297e-07],\n",
       "          [1.19674296e-05, 1.09583789e-06],\n",
       "          [1.29835244e-05, 4.41198068e-07],\n",
       "          [1.40144275e-05, 4.06478563e-07],\n",
       "          [1.40169432e-05, 6.66240396e-07],\n",
       "          [8.59812371e-06, 6.41483041e-07],\n",
       "          [1.27402491e-05, 8.40277380e-07],\n",
       "          [1.43176558e-05, 5.60094122e-07],\n",
       "          [1.25235165e-05, 3.70537862e-07],\n",
       "          [1.82573312e-05, 4.78631307e-07],\n",
       "          [1.89959235e-06, 2.39198266e-06],\n",
       "          [1.48343624e-05, 3.38530924e-07],\n",
       "          [7.42702787e-06, 2.24044584e-07],\n",
       "          [1.47583569e-05, 4.59263561e-07],\n",
       "          [1.97406953e-05, 6.31046646e-07],\n",
       "          [2.54780230e-06, 3.15469924e-06],\n",
       "          [2.22418021e-05, 7.75292847e-07],\n",
       "          [5.98453198e-06, 5.19119396e-07],\n",
       "          [1.64564026e-05, 4.76136506e-07],\n",
       "          [1.02114918e-05, 5.54829171e-07],\n",
       "          [4.06295294e-06, 2.81428402e-06],\n",
       "          [9.37165350e-06, 5.32861009e-07],\n",
       "          [1.54218160e-05, 9.22775598e-08],\n",
       "          [8.04678348e-06, 2.15703352e-07],\n",
       "          [1.39454214e-05, 2.52938491e-07],\n",
       "          [2.40463828e-06, 2.30831779e-06],\n",
       "          [3.51496192e-06, 2.35010020e-06],\n",
       "          [3.52100210e-06, 2.56682284e-07],\n",
       "          [7.73830561e-06, 6.85360646e-05],\n",
       "          [3.13470082e-06, 1.40424061e-06],\n",
       "          [1.32197310e-05, 3.43562802e-04],\n",
       "          [9.20530510e-06, 1.44418095e-07],\n",
       "          [1.81089240e-06, 3.78714390e-07],\n",
       "          [1.29074015e-05, 3.71665192e-06],\n",
       "          [5.23142080e-06, 6.94138578e-07],\n",
       "          [3.50511755e-06, 9.56167605e-06],\n",
       "          [1.49674379e-05, 4.01096770e-07],\n",
       "          [2.51122856e-06, 4.25880899e-06],\n",
       "          [2.09126374e-05, 5.39134646e-07],\n",
       "          [6.23253072e-06, 8.00219459e-06],\n",
       "          [1.49078405e-05, 3.60301101e-07],\n",
       "          [1.78624869e-05, 3.80393459e-07],\n",
       "          [5.68103133e-06, 2.13728981e-07],\n",
       "          [2.43428258e-06, 2.21899904e-06],\n",
       "          [1.18594224e-04, 4.00969657e-06],\n",
       "          [1.42109357e-05, 3.00800423e-07],\n",
       "          [1.08772692e-05, 2.60828472e-07],\n",
       "          [7.89893602e-05, 6.66212100e-06]], dtype=float32)},\n",
       " 'weights': DeviceArray([0.00980392, 0.00980392, 0.00980392, 0.00980392, 0.00980392,\n",
       "              0.00980392, 0.00980392, 0.00980392, 0.00980392, 0.00980392,\n",
       "              0.00980392, 0.00980392, 0.00980392, 0.00980392, 0.00980392,\n",
       "              0.00980392, 0.00980392, 0.00980392, 0.00980392, 0.00980392,\n",
       "              0.00980392, 0.00980392, 0.00980392, 0.00980392, 0.00980392,\n",
       "              0.00980392, 0.00980392, 0.00980392, 0.00980392, 0.00980392,\n",
       "              0.00980392, 0.00980392, 0.00980392, 0.00980392, 0.00980392,\n",
       "              0.00980392, 0.00980392, 0.00980392, 0.00980392, 0.00980392,\n",
       "              0.00980392, 0.00980392, 0.00980392, 0.00980392, 0.00980392,\n",
       "              0.00980392, 0.00980392, 0.00980392, 0.00980392, 0.00980392,\n",
       "              0.00980392, 0.00980392, 0.00980392, 0.00980392, 0.00980392,\n",
       "              0.00980392, 0.00980392, 0.00980392, 0.00980392, 0.00980392,\n",
       "              0.00980392, 0.00980392, 0.00980392, 0.00980392, 0.00980392,\n",
       "              0.00980392, 0.00980392, 0.00980392, 0.00980392, 0.00980392,\n",
       "              0.00980392, 0.00980392, 0.00980392, 0.00980392, 0.00980392,\n",
       "              0.00980392, 0.00980392, 0.00980392, 0.00980392, 0.00980392,\n",
       "              0.00980392, 0.00980392, 0.00980392, 0.00980392, 0.00980392,\n",
       "              0.00980392, 0.00980392, 0.00980392, 0.00980392, 0.00980392,\n",
       "              0.00980392, 0.00980392, 0.00980392, 0.00980392, 0.00980392,\n",
       "              0.00980392, 0.00980392, 0.00980392, 0.00980392, 0.00980392,\n",
       "              0.00980392, 0.00980392], dtype=float64),\n",
       " 'n_experiments': {'NOEs': 2, 'uNOEs': 2},\n",
       " 'n_frames': 102}"
      ]
     },
     "execution_count": 30,
     "metadata": {},
     "output_type": "execute_result"
    }
   ],
   "source": [
    "vars(data.sys['AAAA'])"
   ]
  },
  {
   "cell_type": "code",
   "execution_count": 28,
   "metadata": {},
   "outputs": [
    {
     "data": {
      "text/plain": [
       "dict_keys(['temperature', 'gexp', 'names', 'ref', 'g', 'weights', 'n_experiments', 'n_frames'])"
      ]
     },
     "execution_count": 28,
     "metadata": {},
     "output_type": "execute_result"
    }
   ],
   "source": [
    "vars(data.sys['AAAA']).keys()\n"
   ]
  },
  {
   "cell_type": "code",
   "execution_count": 35,
   "metadata": {},
   "outputs": [
    {
     "data": {
      "text/plain": [
       "{'NOEs': 2, 'uNOEs': 2}"
      ]
     },
     "execution_count": 35,
     "metadata": {},
     "output_type": "execute_result"
    }
   ],
   "source": [
    "my_dict1['n_experiments']"
   ]
  },
  {
   "cell_type": "code",
   "execution_count": 33,
   "metadata": {},
   "outputs": [],
   "source": [
    "s = 'AAAA'\n",
    "\n",
    "my_dict1 = vars(data.sys[s])\n",
    "my_dict2 = vars(loaded_dict['sys'][s])\n",
    "\n",
    "for k in my_dict1.keys():\n",
    "\n",
    "    if k in ['temperature', 'ref', 'n_experiments', 'n_frames']:\n",
    "        assert my_dict1[k] == my_dict2[k]\n",
    "\n",
    "    elif k in ['gexp', 'names', 'g']:\n",
    "        for k2 in data.sys[s].gexp.keys():\n",
    "            assert (my_dict1[k][k2] == my_dict2[k][k2]).all()\n",
    "\n",
    "    elif k in ['weights']:\n",
    "        assert (my_dict1[k] == my_dict2[k]).all()\n",
    "\n"
   ]
  },
  {
   "cell_type": "code",
   "execution_count": 39,
   "metadata": {},
   "outputs": [],
   "source": [
    "self.assertlist(my_dict1.keys()) == list(my_dict2.keys())"
   ]
  },
  {
   "cell_type": "code",
   "execution_count": 41,
   "metadata": {},
   "outputs": [
    {
     "data": {
      "text/plain": [
       "{'temperature': 1,\n",
       " 'gexp': {'NOEs': array([[7.74312661e-04, 4.56174227e-04],\n",
       "         [8.17622013e-05, 7.09253186e-05]]),\n",
       "  'uNOEs': array([[1.58193730e-04, 2.39877632e-05],\n",
       "         [7.22476158e-05, 9.51458553e-06]])},\n",
       " 'names': {'NOEs': array([[\"A1-H1'\", 'A1-H8'],\n",
       "         [\"A1-H1'\", 'A2-H8']], dtype='<U7'),\n",
       "  'uNOEs': array([[\"A1-H1'\", \"A2-H4'\"],\n",
       "         [\"A1-H1'\", \"A3-H1'\"]], dtype='<U7')},\n",
       " 'ref': {'NOEs': '=', 'uNOEs': '<'},\n",
       " 'g': {'NOEs': memmap([[3.78438242e-04, 6.64434046e-05],\n",
       "          [8.24084855e-04, 5.37090818e-05],\n",
       "          [4.24279075e-04, 8.45648974e-05],\n",
       "          [5.57313382e-04, 6.57341152e-05],\n",
       "          [3.65299667e-04, 3.69220197e-06],\n",
       "          [2.89047486e-03, 1.00485659e-05],\n",
       "          [4.10240405e-04, 8.74714679e-05],\n",
       "          [3.12228408e-03, 1.53735527e-05],\n",
       "          [4.78437869e-03, 1.16904630e-05],\n",
       "          [2.48920987e-04, 1.28376223e-06],\n",
       "          [2.85325595e-03, 1.08458007e-05],\n",
       "          [7.43237499e-04, 2.90249372e-05],\n",
       "          [2.33285697e-04, 8.33210288e-05],\n",
       "          [2.73841806e-03, 2.61733912e-05],\n",
       "          [2.84928305e-04, 3.56526252e-05],\n",
       "          [3.84235731e-03, 7.05284356e-06],\n",
       "          [4.18393919e-03, 1.12825473e-05],\n",
       "          [3.08533956e-04, 1.89376922e-04],\n",
       "          [4.29437321e-04, 7.07995641e-05],\n",
       "          [3.73830041e-03, 9.66604966e-06],\n",
       "          [2.35516788e-03, 7.87666431e-06],\n",
       "          [3.77996534e-04, 9.22315303e-06],\n",
       "          [4.05285833e-03, 1.90017236e-05],\n",
       "          [5.74422162e-03, 1.83358970e-05],\n",
       "          [4.20605298e-03, 6.44325155e-07],\n",
       "          [5.43911883e-04, 7.44017088e-05],\n",
       "          [4.44921956e-04, 6.28719499e-05],\n",
       "          [2.76406296e-04, 5.87344402e-06],\n",
       "          [3.04537709e-03, 6.05218884e-05],\n",
       "          [6.98029762e-03, 5.70094755e-07],\n",
       "          [2.36349850e-04, 1.70316453e-05],\n",
       "          [3.62183666e-04, 2.90367170e-05],\n",
       "          [2.97728740e-03, 6.97118185e-06],\n",
       "          [2.80710810e-04, 2.86177601e-06],\n",
       "          [3.93309048e-04, 1.14651164e-04],\n",
       "          [4.63821134e-03, 5.35958407e-06],\n",
       "          [4.13034111e-04, 2.93270059e-05],\n",
       "          [2.37463973e-03, 1.02996055e-05],\n",
       "          [3.01002664e-03, 4.61789605e-05],\n",
       "          [3.32826894e-04, 7.41412805e-05],\n",
       "          [3.73271236e-04, 1.03476132e-05],\n",
       "          [2.70061917e-03, 1.33305468e-04],\n",
       "          [3.52150667e-03, 3.39531252e-05],\n",
       "          [5.86984388e-04, 1.17899588e-04],\n",
       "          [2.83291651e-04, 1.43707512e-05],\n",
       "          [2.89784744e-04, 4.80403560e-06],\n",
       "          [5.65453898e-04, 8.84312904e-05],\n",
       "          [4.63791570e-04, 7.01879762e-05],\n",
       "          [3.21979844e-03, 1.94245622e-05],\n",
       "          [5.44764916e-04, 7.13658810e-05],\n",
       "          [1.59964873e-03, 1.12502603e-05],\n",
       "          [3.95019073e-04, 5.41581103e-05],\n",
       "          [3.01924476e-04, 9.82731290e-05],\n",
       "          [2.85756221e-04, 5.19040477e-05],\n",
       "          [4.41275362e-04, 7.51142725e-05],\n",
       "          [3.57941084e-04, 1.65419624e-05],\n",
       "          [2.88985996e-03, 2.30764854e-05],\n",
       "          [2.43784001e-04, 7.89919068e-06],\n",
       "          [4.85029258e-03, 1.95938737e-05],\n",
       "          [3.72143608e-04, 4.76435307e-05],\n",
       "          [2.95462494e-04, 1.60836644e-05],\n",
       "          [4.58226586e-03, 3.25684414e-05],\n",
       "          [5.22059447e-04, 3.17505692e-05],\n",
       "          [6.52242801e-04, 5.41051850e-05],\n",
       "          [3.13642202e-04, 7.15642773e-06],\n",
       "          [3.22837662e-03, 1.97172594e-05],\n",
       "          [2.52001034e-03, 1.18290118e-05],\n",
       "          [3.32778669e-04, 1.36828976e-05],\n",
       "          [3.54118994e-04, 5.20111280e-05],\n",
       "          [2.49241217e-04, 9.03530054e-06],\n",
       "          [4.31445835e-04, 6.64952240e-05],\n",
       "          [7.44367135e-04, 6.30985014e-05],\n",
       "          [3.84145021e-03, 2.38229968e-05],\n",
       "          [6.94210990e-04, 1.25372157e-04],\n",
       "          [2.57631124e-04, 6.88496721e-06],\n",
       "          [6.36812183e-04, 7.64719443e-05],\n",
       "          [4.24272148e-03, 2.65362396e-05],\n",
       "          [2.19093752e-03, 5.66578547e-06],\n",
       "          [3.66264780e-04, 5.47278578e-05],\n",
       "          [2.62128655e-04, 6.88756791e-06],\n",
       "          [4.08272375e-04, 5.46688534e-06],\n",
       "          [4.32619313e-03, 1.10602814e-05],\n",
       "          [4.42280294e-03, 2.99490671e-06],\n",
       "          [2.73185113e-04, 4.56534281e-06],\n",
       "          [3.84907727e-03, 5.15432330e-04],\n",
       "          [2.92575685e-04, 8.48773834e-06],\n",
       "          [3.17430915e-03, 2.33985102e-05],\n",
       "          [2.83824559e-03, 2.22624454e-04],\n",
       "          [4.50013299e-03, 9.88288739e-05],\n",
       "          [3.01227934e-04, 2.65825838e-05],\n",
       "          [6.48192316e-03, 8.35321844e-05],\n",
       "          [3.06397647e-04, 1.70964995e-05],\n",
       "          [4.92761144e-04, 5.04037598e-05],\n",
       "          [2.78430321e-04, 3.25901988e-06],\n",
       "          [6.98708091e-03, 2.27556629e-05],\n",
       "          [5.46221761e-03, 2.59693206e-05],\n",
       "          [4.78026411e-03, 2.73889273e-05],\n",
       "          [3.27866903e-04, 7.14188673e-06],\n",
       "          [3.10181570e-03, 7.24334404e-06],\n",
       "          [3.32339038e-03, 1.31322267e-05],\n",
       "          [3.55058652e-03, 6.63466562e-05],\n",
       "          [4.19835001e-03, 2.45639785e-06]], dtype=float32),\n",
       "  'uNOEs': memmap([[2.78761272e-05, 8.57926921e-07],\n",
       "          [1.05725903e-05, 4.45161533e-07],\n",
       "          [1.38456917e-05, 5.72764122e-07],\n",
       "          [1.26527320e-05, 4.08776032e-07],\n",
       "          [2.09710583e-06, 2.92790537e-06],\n",
       "          [4.40691383e-06, 1.36062158e-06],\n",
       "          [1.66953814e-05, 5.29573526e-07],\n",
       "          [1.70877956e-05, 4.63444707e-07],\n",
       "          [9.50593494e-06, 2.14059401e-06],\n",
       "          [3.61906950e-06, 6.17318904e-07],\n",
       "          [9.29797989e-06, 1.26919508e-06],\n",
       "          [8.19996421e-06, 4.02410933e-07],\n",
       "          [3.81615473e-06, 5.33246350e-07],\n",
       "          [1.38668456e-05, 6.00645478e-07],\n",
       "          [2.04194021e-06, 1.39635722e-06],\n",
       "          [1.15841840e-05, 1.74904514e-07],\n",
       "          [1.14059585e-05, 4.22895113e-07],\n",
       "          [1.06493553e-05, 5.05904154e-07],\n",
       "          [1.30552235e-05, 5.19292257e-07],\n",
       "          [9.62139620e-06, 2.39210351e-07],\n",
       "          [8.23258088e-05, 5.01323084e-05],\n",
       "          [8.21114008e-06, 2.40762034e-07],\n",
       "          [1.00530560e-05, 8.02821489e-07],\n",
       "          [9.89970613e-06, 7.59069621e-07],\n",
       "          [5.90185346e-06, 6.68233326e-07],\n",
       "          [1.73069293e-05, 5.03775539e-07],\n",
       "          [9.97695679e-06, 4.05195976e-07],\n",
       "          [2.17691741e-06, 2.89767422e-06],\n",
       "          [1.57533977e-05, 1.51009021e-06],\n",
       "          [8.13159386e-06, 2.03532509e-05],\n",
       "          [1.18889475e-05, 5.33518175e-07],\n",
       "          [9.83065274e-06, 5.14033161e-07],\n",
       "          [4.31554963e-06, 4.99784051e-07],\n",
       "          [4.70127361e-06, 3.46477418e-06],\n",
       "          [1.28779957e-05, 7.88989325e-07],\n",
       "          [8.57786017e-06, 3.47313630e-07],\n",
       "          [1.17213176e-05, 6.50062475e-07],\n",
       "          [1.47104965e-05, 3.53457864e-07],\n",
       "          [1.94453223e-05, 1.93085157e-07],\n",
       "          [1.87118549e-05, 7.97735822e-07],\n",
       "          [2.55835539e-06, 3.16216392e-06],\n",
       "          [1.35964838e-05, 3.25413055e-07],\n",
       "          [1.89865004e-05, 3.72269938e-07],\n",
       "          [8.04873525e-06, 5.61447564e-07],\n",
       "          [2.46315267e-05, 7.18640081e-07],\n",
       "          [2.01024682e-06, 2.97970200e-06],\n",
       "          [1.38560636e-05, 3.56807476e-07],\n",
       "          [1.55566468e-05, 6.15103886e-07],\n",
       "          [8.13759016e-06, 3.39635790e-07],\n",
       "          [1.91489435e-05, 4.72385096e-07],\n",
       "          [9.70959354e-06, 3.21686031e-07],\n",
       "          [1.98436719e-05, 3.98953745e-07],\n",
       "          [2.20321490e-05, 7.23321705e-07],\n",
       "          [1.22023775e-05, 5.31351930e-07],\n",
       "          [7.41216945e-06, 5.19382297e-07],\n",
       "          [1.19674296e-05, 1.09583789e-06],\n",
       "          [1.29835244e-05, 4.41198068e-07],\n",
       "          [1.40144275e-05, 4.06478563e-07],\n",
       "          [1.40169432e-05, 6.66240396e-07],\n",
       "          [8.59812371e-06, 6.41483041e-07],\n",
       "          [1.27402491e-05, 8.40277380e-07],\n",
       "          [1.43176558e-05, 5.60094122e-07],\n",
       "          [1.25235165e-05, 3.70537862e-07],\n",
       "          [1.82573312e-05, 4.78631307e-07],\n",
       "          [1.89959235e-06, 2.39198266e-06],\n",
       "          [1.48343624e-05, 3.38530924e-07],\n",
       "          [7.42702787e-06, 2.24044584e-07],\n",
       "          [1.47583569e-05, 4.59263561e-07],\n",
       "          [1.97406953e-05, 6.31046646e-07],\n",
       "          [2.54780230e-06, 3.15469924e-06],\n",
       "          [2.22418021e-05, 7.75292847e-07],\n",
       "          [5.98453198e-06, 5.19119396e-07],\n",
       "          [1.64564026e-05, 4.76136506e-07],\n",
       "          [1.02114918e-05, 5.54829171e-07],\n",
       "          [4.06295294e-06, 2.81428402e-06],\n",
       "          [9.37165350e-06, 5.32861009e-07],\n",
       "          [1.54218160e-05, 9.22775598e-08],\n",
       "          [8.04678348e-06, 2.15703352e-07],\n",
       "          [1.39454214e-05, 2.52938491e-07],\n",
       "          [2.40463828e-06, 2.30831779e-06],\n",
       "          [3.51496192e-06, 2.35010020e-06],\n",
       "          [3.52100210e-06, 2.56682284e-07],\n",
       "          [7.73830561e-06, 6.85360646e-05],\n",
       "          [3.13470082e-06, 1.40424061e-06],\n",
       "          [1.32197310e-05, 3.43562802e-04],\n",
       "          [9.20530510e-06, 1.44418095e-07],\n",
       "          [1.81089240e-06, 3.78714390e-07],\n",
       "          [1.29074015e-05, 3.71665192e-06],\n",
       "          [5.23142080e-06, 6.94138578e-07],\n",
       "          [3.50511755e-06, 9.56167605e-06],\n",
       "          [1.49674379e-05, 4.01096770e-07],\n",
       "          [2.51122856e-06, 4.25880899e-06],\n",
       "          [2.09126374e-05, 5.39134646e-07],\n",
       "          [6.23253072e-06, 8.00219459e-06],\n",
       "          [1.49078405e-05, 3.60301101e-07],\n",
       "          [1.78624869e-05, 3.80393459e-07],\n",
       "          [5.68103133e-06, 2.13728981e-07],\n",
       "          [2.43428258e-06, 2.21899904e-06],\n",
       "          [1.18594224e-04, 4.00969657e-06],\n",
       "          [1.42109357e-05, 3.00800423e-07],\n",
       "          [1.08772692e-05, 2.60828472e-07],\n",
       "          [7.89893602e-05, 6.66212100e-06]], dtype=float32)},\n",
       " 'weights': DeviceArray([0.00980392, 0.00980392, 0.00980392, 0.00980392, 0.00980392,\n",
       "              0.00980392, 0.00980392, 0.00980392, 0.00980392, 0.00980392,\n",
       "              0.00980392, 0.00980392, 0.00980392, 0.00980392, 0.00980392,\n",
       "              0.00980392, 0.00980392, 0.00980392, 0.00980392, 0.00980392,\n",
       "              0.00980392, 0.00980392, 0.00980392, 0.00980392, 0.00980392,\n",
       "              0.00980392, 0.00980392, 0.00980392, 0.00980392, 0.00980392,\n",
       "              0.00980392, 0.00980392, 0.00980392, 0.00980392, 0.00980392,\n",
       "              0.00980392, 0.00980392, 0.00980392, 0.00980392, 0.00980392,\n",
       "              0.00980392, 0.00980392, 0.00980392, 0.00980392, 0.00980392,\n",
       "              0.00980392, 0.00980392, 0.00980392, 0.00980392, 0.00980392,\n",
       "              0.00980392, 0.00980392, 0.00980392, 0.00980392, 0.00980392,\n",
       "              0.00980392, 0.00980392, 0.00980392, 0.00980392, 0.00980392,\n",
       "              0.00980392, 0.00980392, 0.00980392, 0.00980392, 0.00980392,\n",
       "              0.00980392, 0.00980392, 0.00980392, 0.00980392, 0.00980392,\n",
       "              0.00980392, 0.00980392, 0.00980392, 0.00980392, 0.00980392,\n",
       "              0.00980392, 0.00980392, 0.00980392, 0.00980392, 0.00980392,\n",
       "              0.00980392, 0.00980392, 0.00980392, 0.00980392, 0.00980392,\n",
       "              0.00980392, 0.00980392, 0.00980392, 0.00980392, 0.00980392,\n",
       "              0.00980392, 0.00980392, 0.00980392, 0.00980392, 0.00980392,\n",
       "              0.00980392, 0.00980392, 0.00980392, 0.00980392, 0.00980392,\n",
       "              0.00980392, 0.00980392], dtype=float64),\n",
       " 'n_experiments': {'NOEs': 2, 'uNOEs': 2},\n",
       " 'n_frames': 102}"
      ]
     },
     "execution_count": 41,
     "metadata": {},
     "output_type": "execute_result"
    }
   ],
   "source": [
    "my_dict1"
   ]
  },
  {
   "cell_type": "markdown",
   "metadata": {},
   "source": [
    "### include also forward model and force-field correction"
   ]
  },
  {
   "cell_type": "markdown",
   "metadata": {},
   "source": [
    "save complete pickle with stride=2 as data_complete_stride2.pkl"
   ]
  },
  {
   "cell_type": "code",
   "execution_count": 43,
   "metadata": {},
   "outputs": [],
   "source": [
    "infos = {'global': {\n",
    "    'path_directory': 'DATA_test',\n",
    "    'system_names': ['AAAA', 'CAAU'],\n",
    "    'g_exp': ['backbone1_gamma_3J', 'backbone2_beta_epsilon_3J', 'sugar_3J', 'NOEs' , ('uNOEs', '<')],\n",
    "    'forward_qs': ['backbone1_gamma', 'backbone2_beta_epsilon','sugar'],\n",
    "    'obs': ['NOEs', 'uNOEs'],\n",
    "    'forward_coeffs': 'original_fm_coeffs'}}\n",
    "\n",
    "stride = 2"
   ]
  },
  {
   "cell_type": "code",
   "execution_count": 44,
   "metadata": {},
   "outputs": [],
   "source": [
    "def forward_model_fun(fm_coeffs, forward_qs, selected_obs=None):\n",
    "\n",
    "    # 1. compute the cosine (which is the quantity you need in the forward model;\n",
    "    # you could do this just once before loading data)\n",
    "    forward_qs_cos = {}\n",
    "\n",
    "    for type_name in forward_qs.keys():\n",
    "        forward_qs_cos[type_name] = jnp.cos(forward_qs[type_name])\n",
    "\n",
    "    # if you have selected_obs, compute only the corresponding observables\n",
    "    if selected_obs is not None:\n",
    "        for type_name in forward_qs.keys():\n",
    "            forward_qs_cos[type_name] = forward_qs_cos[type_name][:,selected_obs[type_name+'_3J']]\n",
    "\n",
    "    # 2. compute observables (forward_qs_out) through forward model\n",
    "    forward_qs_out = {\n",
    "        'backbone1_gamma_3J': fm_coeffs[0]*forward_qs_cos['backbone1_gamma']**2 + fm_coeffs[1]*forward_qs_cos['backbone1_gamma'] + fm_coeffs[2],\n",
    "        'backbone2_beta_epsilon_3J': fm_coeffs[3]*forward_qs_cos['backbone2_beta_epsilon']**2 + fm_coeffs[4]*forward_qs_cos['backbone2_beta_epsilon'] + fm_coeffs[5],\n",
    "        'sugar_3J': fm_coeffs[6]*forward_qs_cos['sugar']**2 + fm_coeffs[7]*forward_qs_cos['sugar'] + fm_coeffs[8] }\n",
    "\n",
    "    return forward_qs_out"
   ]
  },
  {
   "cell_type": "code",
   "execution_count": 47,
   "metadata": {},
   "outputs": [],
   "source": [
    "infos['global']['forward_model'] = forward_model_fun"
   ]
  },
  {
   "cell_type": "code",
   "execution_count": 31,
   "metadata": {},
   "outputs": [],
   "source": [
    "import jax.numpy as jnp"
   ]
  },
  {
   "cell_type": "code",
   "execution_count": 45,
   "metadata": {},
   "outputs": [],
   "source": [
    "infos['global']['names_ff_pars'] = ['sin alpha', 'cos alpha']\n",
    "\n",
    "def ff_correction(pars, f):\n",
    "    out = jnp.matmul(pars, (f[:, [0, 6]] + f[:, [1, 7]] + f[:, [2, 8]]).T)\n",
    "    return out\n",
    "\n",
    "def ff_correction_hexamers(pars, f):\n",
    "    out = jnp.matmul(pars, (f[:, [0, 10]] + f[:, [1, 11]] + f[:, [2, 12]] + f[:, [3, 13]] + f[:, [4, 14]]).T)\n",
    "    return out\n",
    "\n",
    "infos['global']['ff_correction'] = ff_correction"
   ]
  },
  {
   "cell_type": "code",
   "execution_count": 48,
   "metadata": {},
   "outputs": [
    {
     "name": "stdout",
     "output_type": "stream",
     "text": [
      "loading data from directory...\n",
      "loading  AAAA\n",
      "loading  CAAU\n",
      "done\n"
     ]
    }
   ],
   "source": [
    "data = load_data(infos, stride=stride)"
   ]
  },
  {
   "cell_type": "code",
   "execution_count": 77,
   "metadata": {},
   "outputs": [],
   "source": [
    "del data.sys['AAAA'].forward_model\n",
    "del data.sys['CAAU'].forward_model"
   ]
  },
  {
   "cell_type": "code",
   "execution_count": 75,
   "metadata": {},
   "outputs": [],
   "source": [
    "del data.sys['AAAA'].ff_correction\n",
    "del data.sys['CAAU'].ff_correction"
   ]
  },
  {
   "cell_type": "raw",
   "metadata": {},
   "source": [
    "with open('DATA_test/data_complete_stride2.pkl', 'wb') as f:\n",
    "    pickle.dump(vars(data), f)"
   ]
  },
  {
   "cell_type": "code",
   "execution_count": 57,
   "metadata": {},
   "outputs": [],
   "source": [
    "def my_forward_model(a, b, c=None):\n",
    "    try:\n",
    "        out = infos['global']['forward_model'](a, b, c)\n",
    "    except:\n",
    "        assert c is None, 'you have selected_obs but the forward model is not suitably defined!'\n",
    "        out = infos['global']['forward_model'](a, b)\n",
    "    return out\n",
    "\n",
    "data.sys['AAAA'].forward_model = my_forward_model  # info['forward_model']\n",
    "data.sys['CAAU'].forward_model = my_forward_model  # info['forward_model']"
   ]
  },
  {
   "cell_type": "code",
   "execution_count": 72,
   "metadata": {},
   "outputs": [],
   "source": [
    "with open('DATA_test/data_complete_stride2.pkl', 'rb') as f:\n",
    "    loaded_data = pickle.load(f)"
   ]
  },
  {
   "cell_type": "code",
   "execution_count": 73,
   "metadata": {},
   "outputs": [
    {
     "data": {
      "text/plain": [
       "['__class__',\n",
       " '__delattr__',\n",
       " '__dict__',\n",
       " '__dir__',\n",
       " '__doc__',\n",
       " '__eq__',\n",
       " '__format__',\n",
       " '__ge__',\n",
       " '__getattribute__',\n",
       " '__gt__',\n",
       " '__hash__',\n",
       " '__init__',\n",
       " '__init_subclass__',\n",
       " '__le__',\n",
       " '__lt__',\n",
       " '__module__',\n",
       " '__ne__',\n",
       " '__new__',\n",
       " '__reduce__',\n",
       " '__reduce_ex__',\n",
       " '__repr__',\n",
       " '__setattr__',\n",
       " '__sizeof__',\n",
       " '__slotnames__',\n",
       " '__str__',\n",
       " '__subclasshook__',\n",
       " '__weakref__',\n",
       " 'forward_coeffs_0',\n",
       " 'names_ff_pars',\n",
       " 'system_names',\n",
       " 'tot_n_experiments']"
      ]
     },
     "execution_count": 73,
     "metadata": {},
     "output_type": "execute_result"
    }
   ],
   "source": [
    "dir(loaded_data['_global_'])"
   ]
  },
  {
   "cell_type": "code",
   "execution_count": 69,
   "metadata": {},
   "outputs": [
    {
     "data": {
      "text/plain": [
       "['A_gamma',\n",
       " 'B_gamma',\n",
       " 'C_gamma',\n",
       " 'A_beta',\n",
       " 'B_beta',\n",
       " 'C_beta',\n",
       " 'A_sugar',\n",
       " 'B_sugar',\n",
       " 'C_sugar']"
      ]
     },
     "execution_count": 69,
     "metadata": {},
     "output_type": "execute_result"
    }
   ],
   "source": [
    "list(loaded_data['_global_'].forward_coeffs_0)\n",
    "list(loaded_data['_global_'].forward_coeffs_0.keys())"
   ]
  },
  {
   "cell_type": "code",
   "execution_count": 67,
   "metadata": {},
   "outputs": [],
   "source": [
    "assert (list(loaded_data['_global_'].forward_coeffs_0) == list(data._global_.forward_coeffs_0)).all()\n",
    "assert list(loaded_data['_global_'].forward_coeffs_0.keys()) == list(data._global_.forward_coeffs_0.keys())"
   ]
  },
  {
   "cell_type": "code",
   "execution_count": 70,
   "metadata": {},
   "outputs": [
    {
     "data": {
      "text/plain": [
       "['sin alpha', 'cos alpha']"
      ]
     },
     "execution_count": 70,
     "metadata": {},
     "output_type": "execute_result"
    }
   ],
   "source": [
    "loaded_data['_global_'].names_ff_pars"
   ]
  },
  {
   "cell_type": "markdown",
   "metadata": {},
   "source": [
    "### test on data for alchemical calculations"
   ]
  },
  {
   "cell_type": "code",
   "execution_count": 81,
   "metadata": {},
   "outputs": [],
   "source": [
    "infos = {'global': {'temperature': 2.476, 'path_directory': 'DATA_test'}}\n",
    "\n",
    "cycle_names = ['A1']\n",
    "\n",
    "names = {}\n",
    "for name in cycle_names:\n",
    "    names[name] = []\n",
    "    for string in ['AS','AD','MS','MD']:\n",
    "        names[name].append((name + '_' + string))\n",
    "\n",
    "infos['global']['cycle_names'] = names\n",
    "infos['global']['system_names'] = [s2 for s in list(names.values()) for s2 in s]\n",
    "\n",
    "# force-field correction terms\n",
    "\n",
    "n_charges = 5\n",
    "\n",
    "infos['global']['names_ff_pars'] = ['DQ %i' % (i+1) for i in range(n_charges)] + ['cos eta']\n",
    "\n",
    "columns = []\n",
    "for i in range(n_charges):\n",
    "    columns.append('DQ %i' % (i+1))\n",
    "    columns.append('DQ %i%i' % (i+1,i+1))\n",
    "for i in range(n_charges):\n",
    "    for j in range(i+1,n_charges):\n",
    "        columns.append('DQ %i%i' % (i+1,j+1))\n",
    "columns.append('cos eta')\n",
    "\n",
    "# only methylated (M) systems have a force-field correction\n",
    "\n",
    "for name in infos['global']['system_names']: infos[name] = {}\n",
    "\n",
    "for name in infos['global']['cycle_names'].keys():\n",
    "    for s in ['D','S']:\n",
    "        infos[name + '_M' + s]['ff_terms'] = columns"
   ]
  },
  {
   "cell_type": "code",
   "execution_count": 82,
   "metadata": {},
   "outputs": [],
   "source": [
    "names_charges = ['N6', 'H61', 'N1', 'C10', 'H101/2/3']"
   ]
  },
  {
   "cell_type": "code",
   "execution_count": 83,
   "metadata": {},
   "outputs": [],
   "source": [
    "def ff_correction(phi, ff_terms):\n",
    "\n",
    "    n_charges = 5\n",
    "\n",
    "    phi_vector = []\n",
    "    for i in range(n_charges):\n",
    "        phi_vector.extend([phi[i], phi[i]**2])\n",
    "    for i in range(n_charges):\n",
    "        for j in range(i+1,n_charges):\n",
    "            phi_vector.append(phi[i]*phi[j])\n",
    "    phi_vector.append(-phi[-1])\n",
    "    phi_vector = jnp.array(phi_vector)\n",
    "\n",
    "    correction = jnp.matmul(ff_terms, phi_vector)\n",
    "\n",
    "    return correction"
   ]
  },
  {
   "cell_type": "code",
   "execution_count": 84,
   "metadata": {},
   "outputs": [],
   "source": [
    "for k in infos['global']['system_names']:\n",
    "    if k[-2] == 'M': \n",
    "        infos[k]['ff_correction'] = ff_correction"
   ]
  },
  {
   "cell_type": "code",
   "execution_count": 87,
   "metadata": {},
   "outputs": [
    {
     "name": "stdout",
     "output_type": "stream",
     "text": [
      "loading data from directory...\n",
      "loading  A1_AS\n",
      "loading  A1_AD\n",
      "loading  A1_MS\n",
      "loading  A1_MD\n",
      "done\n"
     ]
    }
   ],
   "source": [
    "data = load_data(infos, stride=2)"
   ]
  },
  {
   "cell_type": "code",
   "execution_count": 93,
   "metadata": {},
   "outputs": [],
   "source": [
    "del data.sys['A1_MS'].ff_correction\n",
    "del data.sys['A1_MD'].ff_correction"
   ]
  },
  {
   "cell_type": "raw",
   "metadata": {},
   "source": [
    "with open('DATA_test/data_alchemical_stride2.pkl', 'wb') as f:\n",
    "    pickle.dump(vars(data), f)"
   ]
  },
  {
   "cell_type": "code",
   "execution_count": 89,
   "metadata": {},
   "outputs": [],
   "source": [
    "with open('DATA_test/data_alchemical_stride2.pkl', 'rb') as f:\n",
    "    loaded_data = pickle.load(f)"
   ]
  },
  {
   "cell_type": "code",
   "execution_count": 90,
   "metadata": {},
   "outputs": [
    {
     "data": {
      "text/plain": [
       "{'_global_': <MDRefine.data_loading.data_global_class at 0x7f32c06b0438>,\n",
       " 'sys': {'A1_AS': <MDRefine.data_loading.data_class at 0x7f32c057f2b0>,\n",
       "  'A1_AD': <MDRefine.data_loading.data_class at 0x7f32c057f1d0>,\n",
       "  'A1_MS': <MDRefine.data_loading.data_class at 0x7f32c057f0b8>,\n",
       "  'A1_MD': <MDRefine.data_loading.data_class at 0x7f32c057f828>},\n",
       " 'cycle': {'A1': <MDRefine.data_loading.data_cycle_class at 0x7f32c057f8d0>}}"
      ]
     },
     "execution_count": 90,
     "metadata": {},
     "output_type": "execute_result"
    }
   ],
   "source": [
    "loaded_data"
   ]
  },
  {
   "cell_type": "code",
   "execution_count": 105,
   "metadata": {},
   "outputs": [
    {
     "data": {
      "text/plain": [
       "{'gexp_DDG': [6.3, 0.5], 'temperature': 2.476}"
      ]
     },
     "execution_count": 105,
     "metadata": {},
     "output_type": "execute_result"
    }
   ],
   "source": [
    "vars(data.cycle['A1'])"
   ]
  },
  {
   "cell_type": "code",
   "execution_count": 104,
   "metadata": {},
   "outputs": [
    {
     "data": {
      "text/plain": [
       "{'A1': <MDRefine.data_loading.data_cycle_class at 0x7f32c0554390>}"
      ]
     },
     "execution_count": 104,
     "metadata": {},
     "output_type": "execute_result"
    }
   ],
   "source": [
    "data.cycle"
   ]
  },
  {
   "cell_type": "code",
   "execution_count": 103,
   "metadata": {},
   "outputs": [
    {
     "data": {
      "text/plain": [
       "[6.3, 0.5]"
      ]
     },
     "execution_count": 103,
     "metadata": {},
     "output_type": "execute_result"
    }
   ],
   "source": [
    "loaded_data['cycle']['A1'].temperature\n",
    "\n",
    "loaded_data['cycle']['A1'].gexp_DDG"
   ]
  },
  {
   "cell_type": "code",
   "execution_count": null,
   "metadata": {},
   "outputs": [],
   "source": []
  }
 ],
 "metadata": {
  "kernelspec": {
   "display_name": "Python 3.6.8 64-bit",
   "language": "python",
   "name": "python3"
  },
  "language_info": {
   "codemirror_mode": {
    "name": "ipython",
    "version": 3
   },
   "file_extension": ".py",
   "mimetype": "text/x-python",
   "name": "python",
   "nbconvert_exporter": "python",
   "pygments_lexer": "ipython3",
   "version": "3.6.8"
  },
  "orig_nbformat": 4,
  "vscode": {
   "interpreter": {
    "hash": "916dbcbb3f70747c44a77c7bcd40155683ae19c65e1c03b4aa3499c5328201f1"
   }
  }
 },
 "nbformat": 4,
 "nbformat_minor": 2
}
